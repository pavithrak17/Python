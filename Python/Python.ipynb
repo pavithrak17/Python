{
  "nbformat": 4,
  "nbformat_minor": 0,
  "metadata": {
    "colab": {
      "provenance": [],
      "collapsed_sections": [
        "eT0oQfoJ-coJ",
        "38dzOwTD3MV6",
        "Bm_y3vOR3kDJ",
        "fV7emxKX2Ev_",
        "yESeax_Jxut2",
        "wRKWPq7A16Ul",
        "TcrXjKQM1Ofz",
        "j29pwAU3yvVN",
        "4tOQmiaI4Ot-",
        "mtrsC3Wv4YYk",
        "OicB-b--4oHd",
        "LO9MZL2l4syu",
        "T64IkK4I5B3t",
        "LhRBnjNQ9O2k",
        "Cj6e91HJ7jmm",
        "PlC7crHC8U71"
      ]
    },
    "kernelspec": {
      "name": "python3",
      "display_name": "Python 3"
    },
    "language_info": {
      "name": "python"
    }
  },
  "cells": [
    {
      "cell_type": "markdown",
      "source": [
        "  #               **PYTHON**\n",
        "![th.jpeg](data:image/jpeg;base64,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)"
      ],
      "metadata": {
        "id": "eT0oQfoJ-coJ"
      }
    },
    {
      "cell_type": "code",
      "execution_count": null,
      "metadata": {
        "colab": {
          "base_uri": "https://localhost:8080/"
        },
        "id": "MAgF9Kp0A-OP",
        "outputId": "66d6d668-dd69-4783-a8bd-a486f29fdb27"
      },
      "outputs": [
        {
          "output_type": "stream",
          "name": "stdout",
          "text": [
            "Hello , world\n"
          ]
        }
      ],
      "source": [
        "print('Hello , world')"
      ]
    },
    {
      "cell_type": "code",
      "source": [
        "#NUMBERING THE alphabetS\n",
        "print('P->',ord('P'))\n",
        "print(bin(80))\n",
        "print('A->',ord('A'))\n",
        "print(bin(65))\n",
        "print('V->',ord('V'))\n",
        "print(bin(86))\n",
        "print('I->',ord('I'))\n",
        "print(bin(73))\n",
        "print('K->',ord('K'))\n",
        "print(bin(75))\n",
        "print('Z->',ord('Z'))\n",
        "print(bin(4))"
      ],
      "metadata": {
        "colab": {
          "base_uri": "https://localhost:8080/"
        },
        "id": "9TeTCn6NMNEz",
        "outputId": "ab6f675f-13d0-4452-d970-bf30a4cb5bde"
      },
      "execution_count": null,
      "outputs": [
        {
          "output_type": "stream",
          "name": "stdout",
          "text": [
            "P-> 80\n",
            "0b1010000\n",
            "A-> 65\n",
            "0b1000001\n",
            "V-> 86\n",
            "0b1010110\n",
            "I-> 73\n",
            "0b1001001\n",
            "K-> 75\n",
            "0b1001011\n",
            "Z-> 90\n",
            "0b100\n"
          ]
        }
      ]
    },
    {
      "cell_type": "code",
      "source": [
        "a=int(input('enter A:'))\n",
        "b=int(input('enter B:'))\n",
        "c=a+b\n",
        "print(c)\n",
        "s=a-b\n",
        "print(s)\n",
        "m=a*b\n",
        "print(m)\n",
        "e=a**b\n",
        "print(e)\n",
        "fd=a//b\n",
        "print(fd)\n",
        "r=a%b\n",
        "print(r)\n",
        "\n"
      ],
      "metadata": {
        "colab": {
          "base_uri": "https://localhost:8080/"
        },
        "id": "UTV5F5yrQ0To",
        "outputId": "c455b3c2-2421-4136-c46e-e5b6b8774612"
      },
      "execution_count": null,
      "outputs": [
        {
          "output_type": "stream",
          "name": "stdout",
          "text": [
            "enter A:4\n",
            "enter B:5\n",
            "9\n",
            "-1\n",
            "20\n",
            "1024\n",
            "0\n",
            "4\n"
          ]
        }
      ]
    },
    {
      "cell_type": "code",
      "source": [
        "print(bin(65))"
      ],
      "metadata": {
        "colab": {
          "base_uri": "https://localhost:8080/"
        },
        "id": "tvSvR_kXTB0l",
        "outputId": "4dafc724-7e43-449d-c9bc-edbf543c0c77"
      },
      "execution_count": null,
      "outputs": [
        {
          "output_type": "stream",
          "name": "stdout",
          "text": [
            "0b1000001\n"
          ]
        }
      ]
    },
    {
      "cell_type": "code",
      "source": [
        "print('HELLO WORLD')"
      ],
      "metadata": {
        "colab": {
          "base_uri": "https://localhost:8080/"
        },
        "id": "CSBeLcIqWlHT",
        "outputId": "4aebcfa0-7f4c-4836-9d37-de41b21967cc"
      },
      "execution_count": null,
      "outputs": [
        {
          "output_type": "stream",
          "name": "stdout",
          "text": [
            "HELLO WORLD\n"
          ]
        }
      ]
    },
    {
      "cell_type": "code",
      "source": [
        "print(ord('A'))"
      ],
      "metadata": {
        "colab": {
          "base_uri": "https://localhost:8080/"
        },
        "id": "9H5au0haWtHn",
        "outputId": "93e18ea6-c693-46b7-edef-fddecbeac971"
      },
      "execution_count": null,
      "outputs": [
        {
          "output_type": "stream",
          "name": "stdout",
          "text": [
            "65\n"
          ]
        }
      ]
    },
    {
      "cell_type": "code",
      "source": [
        "print(6+9)"
      ],
      "metadata": {
        "colab": {
          "base_uri": "https://localhost:8080/"
        },
        "id": "ogO9OEJVWnUU",
        "outputId": "7cf90831-de45-4a56-f338-dbda357ee23b"
      },
      "execution_count": null,
      "outputs": [
        {
          "output_type": "stream",
          "name": "stdout",
          "text": [
            "15\n"
          ]
        }
      ]
    },
    {
      "cell_type": "code",
      "source": [
        "name=input('Enter the name :')\n",
        "print(name.upper())"
      ],
      "metadata": {
        "colab": {
          "base_uri": "https://localhost:8080/"
        },
        "id": "ne2TU97Yaa45",
        "outputId": "cbd7f8b8-d38f-4367-8fa9-d912f9246c2b"
      },
      "execution_count": null,
      "outputs": [
        {
          "output_type": "stream",
          "name": "stdout",
          "text": [
            "Enter the name :pavithra\n",
            "PAVITHRA\n"
          ]
        }
      ]
    },
    {
      "cell_type": "code",
      "source": [
        "name=input('Enter the name :')\n",
        "print(name.lower())"
      ],
      "metadata": {
        "colab": {
          "base_uri": "https://localhost:8080/"
        },
        "id": "uhCgm3m-atv2",
        "outputId": "1f860d2a-1b4a-4769-c14b-7836e03388cf"
      },
      "execution_count": null,
      "outputs": [
        {
          "output_type": "stream",
          "name": "stdout",
          "text": [
            "Enter the name :PAVI\n",
            "pavi\n"
          ]
        }
      ]
    },
    {
      "cell_type": "code",
      "source": [
        "name=input('Enter the name :')\n",
        "print(name.title())\n",
        "print(name.count('A'))"
      ],
      "metadata": {
        "colab": {
          "base_uri": "https://localhost:8080/"
        },
        "id": "jwGcR_-Ka7FR",
        "outputId": "a99c9170-01c7-464f-b6dd-d72010419a26"
      },
      "execution_count": null,
      "outputs": [
        {
          "output_type": "stream",
          "name": "stdout",
          "text": [
            "Enter the name :PAVITHRA\n",
            "Pavithra\n",
            "2\n"
          ]
        }
      ]
    },
    {
      "cell_type": "code",
      "source": [
        "name='Veena'\n",
        "print(name.count('e'))"
      ],
      "metadata": {
        "colab": {
          "base_uri": "https://localhost:8080/"
        },
        "id": "t0E9ZTgwbJTB",
        "outputId": "6f44d5e9-d075-48f4-b7bd-bfbedc506908"
      },
      "execution_count": null,
      "outputs": [
        {
          "output_type": "stream",
          "name": "stdout",
          "text": [
            "2\n"
          ]
        }
      ]
    },
    {
      "cell_type": "code",
      "source": [
        "name='Rakesh from Mysore'\n",
        "print(name)\n",
        "print(name.replace('Mysore','Bangalore'))"
      ],
      "metadata": {
        "colab": {
          "base_uri": "https://localhost:8080/"
        },
        "id": "a4nCFygIbefr",
        "outputId": "97059226-11a9-427d-d4f1-8bc90c379760"
      },
      "execution_count": null,
      "outputs": [
        {
          "output_type": "stream",
          "name": "stdout",
          "text": [
            "Rakesh from Mysore\n",
            "Rakesh from Bangalore\n"
          ]
        }
      ]
    },
    {
      "cell_type": "code",
      "source": [
        "n=('Rakesh')\n",
        "print(n)"
      ],
      "metadata": {
        "colab": {
          "base_uri": "https://localhost:8080/"
        },
        "id": "rVApvhpVbtYt",
        "outputId": "2495910a-a80b-4677-f779-99a55773d91a"
      },
      "execution_count": null,
      "outputs": [
        {
          "output_type": "stream",
          "name": "stdout",
          "text": [
            "Rakesh\n"
          ]
        }
      ]
    },
    {
      "cell_type": "code",
      "source": [
        "name='Pavi Pavi'\n",
        "print(name.find('i'))\n",
        "print(len(name))  #includung space"
      ],
      "metadata": {
        "colab": {
          "base_uri": "https://localhost:8080/"
        },
        "id": "SgzYwzaab5QZ",
        "outputId": "6d123641-5c62-49c7-c969-0c6eb245c6b7"
      },
      "execution_count": null,
      "outputs": [
        {
          "output_type": "stream",
          "name": "stdout",
          "text": [
            "3\n",
            "9\n"
          ]
        }
      ]
    },
    {
      "cell_type": "code",
      "source": [
        "i=int(input('Enter the input :'))\n",
        "for i in range(i,i*5+1,i):\n",
        "  print(i)"
      ],
      "metadata": {
        "colab": {
          "base_uri": "https://localhost:8080/"
        },
        "id": "dMlOFqkjcGWI",
        "outputId": "b75903ec-4488-42a5-fbc4-93d9e1dabff1"
      },
      "execution_count": null,
      "outputs": [
        {
          "output_type": "stream",
          "name": "stdout",
          "text": [
            "Enter the input :2\n",
            "2\n",
            "4\n",
            "6\n",
            "8\n",
            "10\n"
          ]
        }
      ]
    },
    {
      "cell_type": "code",
      "source": [
        "c=5\n",
        "while(c<12):\n",
        "  print(c)\n",
        "  c=c+1"
      ],
      "metadata": {
        "colab": {
          "base_uri": "https://localhost:8080/"
        },
        "id": "ehlOwVB4dDoj",
        "outputId": "76a36a58-2e28-41b8-a6f5-678a2b501ab2"
      },
      "execution_count": null,
      "outputs": [
        {
          "output_type": "stream",
          "name": "stdout",
          "text": [
            "5\n",
            "6\n",
            "7\n",
            "8\n",
            "9\n",
            "10\n",
            "11\n"
          ]
        }
      ]
    },
    {
      "cell_type": "code",
      "source": [
        "c=5\n",
        "while(c<8):\n",
        "  c=c+1\n",
        "  print(c)"
      ],
      "metadata": {
        "colab": {
          "base_uri": "https://localhost:8080/"
        },
        "id": "UMa4grg8eAI5",
        "outputId": "f04cbfcd-b89d-49e7-8c4a-bebe76a1cb52"
      },
      "execution_count": null,
      "outputs": [
        {
          "output_type": "stream",
          "name": "stdout",
          "text": [
            "6\n",
            "7\n",
            "8\n"
          ]
        }
      ]
    },
    {
      "cell_type": "code",
      "source": [
        "age=int(input('enter the age:'))\n",
        "if(age>35):\n",
        "  print('u are welcome to elders club')\n",
        "\n",
        "else:\n",
        "  print('u cannot enter the elders club')"
      ],
      "metadata": {
        "colab": {
          "base_uri": "https://localhost:8080/"
        },
        "id": "Zo8KjyIMeG5u",
        "outputId": "b3aa01bc-63d9-481f-819b-1260db8e1a4e"
      },
      "execution_count": null,
      "outputs": [
        {
          "output_type": "stream",
          "name": "stdout",
          "text": [
            "enter the age:18\n",
            "u cannot enter the elders club\n"
          ]
        }
      ]
    },
    {
      "cell_type": "code",
      "source": [
        "t=0\n",
        "mpin=123\n",
        "if(t<3):\n",
        "  upin=int(input('enter the pin'))\n",
        "  t=t+1\n",
        "if(mpin==upin):\n",
        "  print('Successfully logged in :) ')\n",
        "\n",
        "elif(t==3):\n",
        "  print('Sorry your account is blocked :( )')\n",
        "else:\n",
        "  print('Invalid pin try again!')"
      ],
      "metadata": {
        "colab": {
          "base_uri": "https://localhost:8080/"
        },
        "id": "OXUZTUkde7wL",
        "outputId": "6f4832a6-03bb-4b07-fd77-c347755d6847"
      },
      "execution_count": null,
      "outputs": [
        {
          "output_type": "stream",
          "name": "stdout",
          "text": [
            "enter the pin123\n",
            "Successfully logged in :) \n"
          ]
        }
      ]
    },
    {
      "cell_type": "code",
      "source": [
        "name=input(\"enter your name:\")\n",
        "for i in name:\n",
        "  print(i)"
      ],
      "metadata": {
        "colab": {
          "base_uri": "https://localhost:8080/"
        },
        "id": "rwlY_lFWhC2E",
        "outputId": "86e74f3d-5439-4797-a7d6-cd05a00e8d18"
      },
      "execution_count": null,
      "outputs": [
        {
          "output_type": "stream",
          "name": "stdout",
          "text": [
            "enter your name:pavi\n",
            "p\n",
            "a\n",
            "v\n",
            "i\n"
          ]
        }
      ]
    },
    {
      "cell_type": "code",
      "source": [
        "num1=int(input(\"enter the first number :\"))\n",
        "num2=int(input(\"enter the second number :\"))\n",
        "print(num1+num2)\n",
        "print(num1-num2)\n",
        "print(num1/num2)\n",
        "print(num1*num2)"
      ],
      "metadata": {
        "colab": {
          "base_uri": "https://localhost:8080/"
        },
        "id": "-TJwCAWjhP2n",
        "outputId": "ce8ee0aa-9ae2-458d-c5dc-3fc634c702e2"
      },
      "execution_count": null,
      "outputs": [
        {
          "output_type": "stream",
          "name": "stdout",
          "text": [
            "enter the first number :5\n",
            "enter the second number :4\n",
            "9\n",
            "1\n",
            "1.25\n",
            "20\n"
          ]
        }
      ]
    },
    {
      "cell_type": "code",
      "source": [
        "t=12\n",
        "v=23\n",
        "t*=v\n",
        "t"
      ],
      "metadata": {
        "colab": {
          "base_uri": "https://localhost:8080/"
        },
        "id": "S_FQFkFXnT6F",
        "outputId": "03e0d729-bbf2-4944-ebe1-5bfce3f11dac"
      },
      "execution_count": null,
      "outputs": [
        {
          "output_type": "execute_result",
          "data": {
            "text/plain": [
              "276"
            ]
          },
          "metadata": {},
          "execution_count": 60
        }
      ]
    },
    {
      "cell_type": "code",
      "source": [
        "t=5\n",
        "t+=1\n",
        "t"
      ],
      "metadata": {
        "colab": {
          "base_uri": "https://localhost:8080/"
        },
        "id": "CVkWg2X4jkUm",
        "outputId": "bcbad1dc-952c-4711-c6e9-1636fb1ce249"
      },
      "execution_count": null,
      "outputs": [
        {
          "output_type": "execute_result",
          "data": {
            "text/plain": [
              "6"
            ]
          },
          "metadata": {},
          "execution_count": 49
        }
      ]
    },
    {
      "cell_type": "code",
      "source": [
        "  bill=0\n",
        "  print('.......WELCOME TO BIRIYANI MANE.........')\n",
        "  a='''-----------------MENU----------------\n",
        "        1.BIRIYANI=100Rs\n",
        "        2.KEBAB=120Rs\n",
        "        3.FRIED CHICKEN=350Rs'''\n",
        "  print(a)\n",
        "  ch=int(input('enter your choice:'))\n",
        "  if(ch==1):\n",
        "    bill+=100\n",
        "  elif(ch==2):\n",
        "    bill+=120\n",
        "  elif(ch==3):\n",
        "    bill+=350\n",
        "  ch1=('do you need extra sauces or salads? y\\n')\n",
        "  if(ch1=='y'):\n",
        "    bill+=50\n",
        "  else:\n",
        "    print('Thank you for your confirmation')\n",
        "\n",
        "  print('your total bill is',bill)"
      ],
      "metadata": {
        "colab": {
          "base_uri": "https://localhost:8080/"
        },
        "id": "-4XXtEmlGgnY",
        "outputId": "c0ab5a10-1698-4297-fc17-4771209e464f"
      },
      "execution_count": null,
      "outputs": [
        {
          "output_type": "stream",
          "name": "stdout",
          "text": [
            ".......WELCOME TO BIRIYANI MANE.........\n",
            "-----------------MENU----------------\n",
            "      1.BIRIYANI=100Rs\n",
            "      2.KEBAB=120Rs\n",
            "      3.FRIED CHICKEN=350Rs\n",
            "enter your choice:3\n",
            "Thank you for your confirmation\n",
            "your total bill is 350\n"
          ]
        }
      ]
    },
    {
      "cell_type": "code",
      "source": [
        "  age=int(input('enter the age:'))\n",
        "  if(age>25):\n",
        "    print('you are eligible to drink')\n",
        "  elif(age>18):\n",
        "    print('you are eligible to smoke')\n",
        "  elif (age<13):\n",
        "    print('you are eligible to drink juice')\n",
        "  elif(age<18 and age>13):\n",
        "    print('you are eligible to drink soft drink')\n",
        "  else:\n",
        "    print('Sorry! you are not eligible for anything')"
      ],
      "metadata": {
        "colab": {
          "base_uri": "https://localhost:8080/"
        },
        "id": "QcJ7e_0LH9ka",
        "outputId": "844e1ff7-ef4a-4b44-a144-e1bcd55df9b2"
      },
      "execution_count": null,
      "outputs": [
        {
          "output_type": "stream",
          "name": "stdout",
          "text": [
            "enter the age:26\n",
            "you are eligible to drink\n"
          ]
        }
      ]
    },
    {
      "cell_type": "code",
      "source": [
        "  num=5\n",
        "  for i in range(1,5):\n",
        "    print(num,'x',i,'=',num*i)"
      ],
      "metadata": {
        "colab": {
          "base_uri": "https://localhost:8080/"
        },
        "id": "490KaRB_IppD",
        "outputId": "be19af7c-3ead-4cca-9803-381e3dbe5af9"
      },
      "execution_count": null,
      "outputs": [
        {
          "output_type": "stream",
          "name": "stdout",
          "text": [
            "5 x 1 = 5\n",
            "5 x 2 = 10\n",
            "5 x 3 = 15\n",
            "5 x 4 = 20\n"
          ]
        }
      ]
    },
    {
      "cell_type": "code",
      "source": [
        "  #BMI CALVULATOR\n",
        "  weight=float(input('enter your weight in kg:'))\n",
        "  height=float(input('enter your height in centimeters:'))\n",
        "  bmi=weight/height**2\n",
        "  print(bmi)"
      ],
      "metadata": {
        "colab": {
          "base_uri": "https://localhost:8080/"
        },
        "id": "oXzIO1xJJCTZ",
        "outputId": "8c556302-441f-4664-ab88-0de97a4587c1"
      },
      "execution_count": null,
      "outputs": [
        {
          "output_type": "stream",
          "name": "stdout",
          "text": [
            "enter your weight in kg:75\n",
            "enter your height in centimeters:165\n",
            "0.0027548209366391185\n"
          ]
        }
      ]
    },
    {
      "cell_type": "code",
      "source": [
        "r=int(input('enter the radius of the circle:'))\n",
        "perimeter=2*3.14*r\n",
        "area=3.14*r*r\n",
        "print('area of circle is',area)\n",
        "print('perimeter of circle is',perimeter)\n",
        "l=int(input('enter the length of rectangle:'))\n",
        "b=int(input('enter the breadth of rectangle:'))\n",
        "perimeter1=2*l+b\n",
        "area1=l*b\n",
        "print('area of circlerectangle is',area1)\n",
        "print('perimeter of rectangle is',perimeter1)\n"
      ],
      "metadata": {
        "colab": {
          "base_uri": "https://localhost:8080/"
        },
        "id": "_tlI_gCDJjpd",
        "outputId": "8fa2bea6-b054-4966-dfb3-df5ace4ab282"
      },
      "execution_count": null,
      "outputs": [
        {
          "output_type": "stream",
          "name": "stdout",
          "text": [
            "enter the radius of the circle:2\n",
            "area of circle is 12.56\n",
            "perimeter of circle is 12.56\n",
            "enter the length of rectangle:3\n",
            "enter the breadth of rectangle:4\n",
            "area of circlerectangle is 12\n",
            "perimeter of rectangle is 10\n"
          ]
        }
      ]
    },
    {
      "cell_type": "code",
      "source": [
        "bill=0\n",
        "print('***************WELCOME TO IDLI MANE*******************')\n",
        "print('---------MENU 1.IDLI 2.PLAIN DOSA 3.PAULAV---------')\n",
        "ch=input('enter your choice  ')\n",
        "if(ch==1):\n",
        "  bill+=30\n",
        "elif(ch==2):\n",
        "  bill+=40\n",
        "elif(ch==3):\n",
        "  bill+=45\n",
        "else:\n",
        "  print('please order anything')\n",
        "\n",
        "print('your bill is',bill)"
      ],
      "metadata": {
        "colab": {
          "base_uri": "https://localhost:8080/"
        },
        "id": "i30NQDirKFF6",
        "outputId": "74a7aed5-23c3-4ad6-d5f5-ac10fcd54638"
      },
      "execution_count": null,
      "outputs": [
        {
          "output_type": "stream",
          "name": "stdout",
          "text": [
            "***************WELCOME TO IDLI MANE*******************\n",
            "---------MENU 1.IDLI 2.PLAIN DOSA 3.PAULAV---------\n",
            "enter your choice  2\n",
            "please order anything\n",
            "your bill is 0\n"
          ]
        }
      ]
    },
    {
      "cell_type": "code",
      "source": [
        "t=0\n",
        "balance=1000\n",
        "mpin=1234\n",
        "while(t<3):\n",
        "  upin=int(input('enter the pin:'))\n",
        "  t=t+1\n",
        "  if(mpin==upin):\n",
        "    print('you are successfully logged in')\n",
        "    ch=int(input('enter the choice:'))\n",
        "    if(ch==1):\n",
        "     deposit=int(input('enter the deposit amount:'))\n",
        "     balance=deposit+balance\n",
        "     print(\"your balance is\",balance)\n",
        "     break\n",
        "    elif(ch==2):\n",
        "      withdraw=int(input('enter the withdrawal amount:'))\n",
        "      balance=balance-withdraw\n",
        "      print(\"your balance is\",balance)\n",
        "      break\n",
        "    elif(t==3):\n",
        "      print('your account is blocked')\n",
        "  else:\n",
        "      print('please enter a valid pin')"
      ],
      "metadata": {
        "colab": {
          "base_uri": "https://localhost:8080/"
        },
        "id": "hD_MeZJ-KhlG",
        "outputId": "7cea6b75-4c1e-4882-b51d-c11177bbba3f"
      },
      "execution_count": null,
      "outputs": [
        {
          "output_type": "stream",
          "name": "stdout",
          "text": [
            "enter the pin:1234\n",
            "you are successfully logged in\n",
            "enter the choice:2\n",
            "enter the withdrawal amount:1000\n",
            "your balance is 0\n"
          ]
        }
      ]
    },
    {
      "cell_type": "code",
      "source": [
        "a='pavi'\n",
        "print(a[0:10:2])\n",
        "print(a[:-2])"
      ],
      "metadata": {
        "colab": {
          "base_uri": "https://localhost:8080/"
        },
        "id": "lV2oNhiVKoey",
        "outputId": "e9036c0d-12e9-430e-c771-1ddbf1a2497d"
      },
      "execution_count": null,
      "outputs": [
        {
          "output_type": "stream",
          "name": "stdout",
          "text": [
            "pv\n",
            "pa\n"
          ]
        }
      ]
    },
    {
      "cell_type": "code",
      "source": [
        "def marriage(place,bride, groom):\n",
        "  print(\"please come to\",place, \"for\",bride,groom,\"marriage\")\n"
      ],
      "metadata": {
        "id": "J7-AbNEDMGIp"
      },
      "execution_count": null,
      "outputs": []
    },
    {
      "cell_type": "code",
      "source": [
        "marriage('goa','gundi','gunda')"
      ],
      "metadata": {
        "colab": {
          "base_uri": "https://localhost:8080/"
        },
        "id": "ASr6tA1LMcYq",
        "outputId": "e5ff91f8-50b1-4b23-ab16-ff54f90330dc"
      },
      "execution_count": null,
      "outputs": [
        {
          "output_type": "stream",
          "name": "stdout",
          "text": [
            "please come to goa for gundi gunda marriage\n"
          ]
        }
      ]
    },
    {
      "cell_type": "code",
      "source": [
        "def add(a,b):\n",
        "  add=a+b\n",
        "  print(\"the addition of\",a,\"and\",b,\"is:\",a+b)\n",
        "def subtract(a,b):\n",
        "  subtract=a-b\n",
        "  print(\"the subtraction of\",a,\"and\",b,\"is:\",a-b)\n",
        "def multiply(a,b):\n",
        "  multiply=a*b\n",
        "  print(\"the multipication of\",a,\"and\",b,\"is:\",a*b)\n",
        "def division(a,b):\n",
        "  division=a/b\n",
        "  print(\"the division of\",a,\"and\",b,\"is:\",a/b)\n",
        "def floatdivision(a,b):\n",
        "  floatdivision=a/b\n",
        "  print(\"the floatdivision of\",a,\"and\",b,\"is:\",a/b)\n",
        "def exponential(a,b):\n",
        "  exponential=a**b\n",
        "  print(\"the exponential of\",a,\"and\",b,\"is:\",a**b)\n"
      ],
      "metadata": {
        "id": "wBQreUtNMmi9"
      },
      "execution_count": null,
      "outputs": []
    },
    {
      "cell_type": "code",
      "source": [
        "choice=int(input(\"enter the choice 1.add, 2.subtract, 3.multiply, 4.division. 5.floatdivision, 6.exponential:\"))\n",
        "\n",
        "if(choice==1):\n",
        "  add(a,b)\n",
        "elif(choice==2):\n",
        "  subtract(a,b)\n",
        "elif(choice==3):\n",
        "  multiply(a,b)\n",
        "elif(choice==4):\n",
        "  division(a,b)\n",
        "elif(choice==5):\n",
        "  floatdivision(a,b)\n",
        "else:\n",
        "    print(\"sorry\")"
      ],
      "metadata": {
        "id": "DVp6Y4h2M1ZK"
      },
      "execution_count": null,
      "outputs": []
    },
    {
      "cell_type": "code",
      "source": [
        "#Assignment\n",
        "Name=\"Mevi Tech\",\"Red\",\"Blue\"\n",
        "for i in Name:\n",
        "  print(i)\n",
        "  for j in i:\n",
        "    print(j)"
      ],
      "metadata": {
        "colab": {
          "base_uri": "https://localhost:8080/"
        },
        "id": "H1NnM5GMSaei",
        "outputId": "7f47d3a8-d3c0-45f2-8b2e-a4e55adc7a60"
      },
      "execution_count": null,
      "outputs": [
        {
          "output_type": "stream",
          "name": "stdout",
          "text": [
            "Mevi Tech\n",
            "M\n",
            "e\n",
            "v\n",
            "i\n",
            " \n",
            "T\n",
            "e\n",
            "c\n",
            "h\n",
            "Red\n",
            "R\n",
            "e\n",
            "d\n",
            "Blue\n",
            "B\n",
            "l\n",
            "u\n",
            "e\n"
          ]
        }
      ]
    },
    {
      "cell_type": "code",
      "source": [
        "l = []\n",
        "n = int(input('How many elements you want'))\n",
        "for i in range(n):\n",
        "  e=input('Enter the element')\n",
        "  l.append(e)\n",
        "  print(l)"
      ],
      "metadata": {
        "colab": {
          "base_uri": "https://localhost:8080/"
        },
        "id": "-HQMtZb1bgnT",
        "outputId": "a0d3179d-03d7-4ed1-cf01-e778204ec192"
      },
      "execution_count": null,
      "outputs": [
        {
          "output_type": "stream",
          "name": "stdout",
          "text": [
            "How many elements you want5\n",
            "Enter the elementpavi\n",
            "['pavi']\n",
            "Enter the elementnishu\n",
            "['pavi', 'nishu']\n",
            "Enter the elementkarthik\n",
            "['pavi', 'nishu', 'karthik']\n",
            "Enter the elementanand\n",
            "['pavi', 'nishu', 'karthik', 'anand']\n",
            "Enter the elementraki\n",
            "['pavi', 'nishu', 'karthik', 'anand', 'raki']\n"
          ]
        }
      ]
    },
    {
      "cell_type": "code",
      "source": [
        "l=[1,2,3,4,76,34]\n",
        "print(l)"
      ],
      "metadata": {
        "colab": {
          "base_uri": "https://localhost:8080/"
        },
        "id": "nV0t_P-ecquU",
        "outputId": "f85c68ef-423e-489d-b07c-3bedb526c71c"
      },
      "execution_count": null,
      "outputs": [
        {
          "output_type": "stream",
          "name": "stdout",
          "text": [
            "[1, 2, 3, 4, 76, 34]\n"
          ]
        }
      ]
    },
    {
      "cell_type": "code",
      "source": [
        "l=[1,2,3,4,76,34]\n",
        "print(l[1])"
      ],
      "metadata": {
        "colab": {
          "base_uri": "https://localhost:8080/"
        },
        "id": "Oi7t0NcUcmD2",
        "outputId": "9fa4dc0d-be51-4eb7-aec8-af5256c35fa7"
      },
      "execution_count": null,
      "outputs": [
        {
          "output_type": "stream",
          "name": "stdout",
          "text": [
            "2\n"
          ]
        }
      ]
    },
    {
      "cell_type": "code",
      "source": [
        "l=[1,2,3,4,76,34,'pavi','veena','raki']\n",
        "print(l)"
      ],
      "metadata": {
        "colab": {
          "base_uri": "https://localhost:8080/"
        },
        "id": "aM15Vpric7yZ",
        "outputId": "5b675809-217c-4712-eb74-dd44ffb8793b"
      },
      "execution_count": null,
      "outputs": [
        {
          "output_type": "stream",
          "name": "stdout",
          "text": [
            "[1, 2, 3, 4, 76, 34, 'pavi', 'veena', 'raki']\n"
          ]
        }
      ]
    },
    {
      "cell_type": "code",
      "source": [
        "l[1]=14\n",
        "l"
      ],
      "metadata": {
        "colab": {
          "base_uri": "https://localhost:8080/"
        },
        "id": "rmgPUgfzdGIE",
        "outputId": "7f4dbb4f-cf17-4ed4-8bfc-85bb9742083b"
      },
      "execution_count": null,
      "outputs": [
        {
          "output_type": "execute_result",
          "data": {
            "text/plain": [
              "[1, 14, 3, 4, 76, 34, 'pavi', 'veena', 'raki']"
            ]
          },
          "metadata": {},
          "execution_count": 14
        }
      ]
    },
    {
      "cell_type": "code",
      "source": [
        "len(l)"
      ],
      "metadata": {
        "colab": {
          "base_uri": "https://localhost:8080/"
        },
        "id": "BPopiQiFdUg4",
        "outputId": "5b6fcbd6-2833-4575-f50f-7b73becc25cf"
      },
      "execution_count": null,
      "outputs": [
        {
          "output_type": "execute_result",
          "data": {
            "text/plain": [
              "9"
            ]
          },
          "metadata": {},
          "execution_count": 15
        }
      ]
    },
    {
      "cell_type": "code",
      "source": [
        "l.append('prav')\n",
        "l"
      ],
      "metadata": {
        "colab": {
          "base_uri": "https://localhost:8080/"
        },
        "id": "ftEvHTpVd6wi",
        "outputId": "4d31081c-cc46-45e2-f446-ddea5237fe78"
      },
      "execution_count": null,
      "outputs": [
        {
          "output_type": "execute_result",
          "data": {
            "text/plain": [
              "[1,\n",
              " 14,\n",
              " 3,\n",
              " 4,\n",
              " 76,\n",
              " 34,\n",
              " 'pavi',\n",
              " 'veena',\n",
              " 'raki',\n",
              " 'praveen',\n",
              " 'praveen',\n",
              " 'praveen',\n",
              " 'praveen',\n",
              " 'praveen',\n",
              " 'praveen',\n",
              " 'praveen',\n",
              " 'praveen',\n",
              " 'prave',\n",
              " 'prav',\n",
              " 'prav']"
            ]
          },
          "metadata": {},
          "execution_count": 26
        }
      ]
    },
    {
      "cell_type": "code",
      "source": [
        "l.index('pavi')"
      ],
      "metadata": {
        "colab": {
          "base_uri": "https://localhost:8080/"
        },
        "id": "MG5m4v9keSO2",
        "outputId": "a6ec449c-aa2d-4dde-dc11-27ce777c4acc"
      },
      "execution_count": null,
      "outputs": [
        {
          "output_type": "execute_result",
          "data": {
            "text/plain": [
              "6"
            ]
          },
          "metadata": {},
          "execution_count": 27
        }
      ]
    },
    {
      "cell_type": "code",
      "source": [
        "l.insert(6,'ramu')\n",
        "l"
      ],
      "metadata": {
        "colab": {
          "base_uri": "https://localhost:8080/"
        },
        "id": "hDfFYSK2eamf",
        "outputId": "4cb64330-dc93-400e-f7a3-03c415e12938"
      },
      "execution_count": null,
      "outputs": [
        {
          "output_type": "execute_result",
          "data": {
            "text/plain": [
              "[1,\n",
              " 14,\n",
              " 3,\n",
              " 4,\n",
              " 76,\n",
              " 34,\n",
              " 'ramu',\n",
              " 'pavi',\n",
              " 'veena',\n",
              " 'raki',\n",
              " 'praveen',\n",
              " 'praveen',\n",
              " 'praveen',\n",
              " 'praveen',\n",
              " 'praveen',\n",
              " 'praveen',\n",
              " 'praveen',\n",
              " 'praveen',\n",
              " 'prave',\n",
              " 'prav',\n",
              " 'prav']"
            ]
          },
          "metadata": {},
          "execution_count": 28
        }
      ]
    },
    {
      "cell_type": "code",
      "source": [
        "l = []\n",
        "n = int(input('How many elements you want : '))\n",
        "for i in range(n):\n",
        "  e=input('Enter the element :')\n",
        "  print(e.upper())\n",
        "  print(e.lower())\n",
        "  print(e.title())\n",
        "  print(e.count('a'))\n",
        "  l.append(e)\n",
        "  print(l)"
      ],
      "metadata": {
        "colab": {
          "base_uri": "https://localhost:8080/"
        },
        "id": "AKL5565Jewgo",
        "outputId": "513d4bc1-70ae-4a11-b63e-6f48d1c08641"
      },
      "execution_count": null,
      "outputs": [
        {
          "output_type": "stream",
          "name": "stdout",
          "text": [
            "How many elements you want : 2\n",
            "Enter the element :pavi\n",
            "PAVI\n",
            "pavi\n",
            "Pavi\n",
            "1\n",
            "['pavi']\n",
            "Enter the element :raki\n",
            "RAKI\n",
            "raki\n",
            "Raki\n",
            "1\n",
            "['pavi', 'raki']\n"
          ]
        }
      ]
    },
    {
      "cell_type": "code",
      "source": [
        "l = []\n",
        "n = int(input('How many elements you want : '))\n",
        "for i in range(n):\n",
        "  e=input('Enter the element :')\n",
        "  print(e)\n",
        "  l.append(e)\n",
        "  print(l)\n",
        "  print(e.upper())\n",
        "  print(e.lower())\n",
        "  print(e.title())\n",
        "  print(e.count('a'))"
      ],
      "metadata": {
        "colab": {
          "base_uri": "https://localhost:8080/"
        },
        "id": "9N19h8A_gtZ1",
        "outputId": "3dff5815-1bb1-4e2b-dbac-4d28af5e4c2e"
      },
      "execution_count": null,
      "outputs": [
        {
          "output_type": "stream",
          "name": "stdout",
          "text": [
            "How many elements you want : 2\n",
            "Enter the element :pavi\n",
            "pavi\n",
            "['pavi']\n",
            "PAVI\n",
            "pavi\n",
            "Pavi\n",
            "1\n",
            "Enter the element :ramu\n",
            "ramu\n",
            "['pavi', 'ramu']\n",
            "RAMU\n",
            "ramu\n",
            "Ramu\n",
            "1\n"
          ]
        }
      ]
    },
    {
      "cell_type": "code",
      "source": [
        "l.append(e)\n",
        "l"
      ],
      "metadata": {
        "colab": {
          "base_uri": "https://localhost:8080/"
        },
        "id": "y99DaVYEhcLe",
        "outputId": "92efcde8-1c64-47f9-f1e6-29fa8f4c24f0"
      },
      "execution_count": null,
      "outputs": [
        {
          "output_type": "execute_result",
          "data": {
            "text/plain": [
              "['pavi', 'ramu', 'ramu']"
            ]
          },
          "metadata": {},
          "execution_count": 33
        }
      ]
    },
    {
      "cell_type": "code",
      "source": [
        "\n",
        "l = []\n",
        "n = int(input('How many elements you want : '))\n",
        "for i in range(n):\n",
        "  e=input('Enter the element :')\n",
        "  print(e.upper())\n",
        "  print(e.lower())\n",
        "  print(e.title())\n",
        "  print(e.count('a'))\n",
        "  l.append(e)\n",
        "  print(l)"
      ],
      "metadata": {
        "colab": {
          "base_uri": "https://localhost:8080/"
        },
        "id": "3qbxBn3ziENs",
        "outputId": "0e6d6c61-0312-4da0-f24d-8ccf61aba5c4"
      },
      "execution_count": null,
      "outputs": [
        {
          "output_type": "stream",
          "name": "stdout",
          "text": [
            "How many elements you want : 5\n",
            "Enter the element :Rakesh\n",
            "RAKESH\n",
            "rakesh\n",
            "Rakesh\n",
            "1\n",
            "['Rakesh']\n",
            "Enter the element :Pavithra\n",
            "PAVITHRA\n",
            "pavithra\n",
            "Pavithra\n",
            "2\n",
            "['Rakesh', 'Pavithra']\n",
            "Enter the element :Veena\n",
            "VEENA\n",
            "veena\n",
            "Veena\n",
            "1\n",
            "['Rakesh', 'Pavithra', 'Veena']\n",
            "Enter the element :Radha\n",
            "RADHA\n",
            "radha\n",
            "Radha\n",
            "2\n",
            "['Rakesh', 'Pavithra', 'Veena', 'Radha']\n",
            "Enter the element :Kothandan\n",
            "KOTHANDAN\n",
            "kothandan\n",
            "Kothandan\n",
            "2\n",
            "['Rakesh', 'Pavithra', 'Veena', 'Radha', 'Kothandan']\n"
          ]
        }
      ]
    },
    {
      "cell_type": "code",
      "source": [
        "l=[2,3,45,67,78,89,32,43]\n",
        "print('maximum num->',max(l))\n",
        "print(min(l))"
      ],
      "metadata": {
        "colab": {
          "base_uri": "https://localhost:8080/"
        },
        "id": "Rk0TktbqlO5c",
        "outputId": "2cde48b3-70ed-45ce-e148-47b41edbdfdc"
      },
      "execution_count": null,
      "outputs": [
        {
          "output_type": "stream",
          "name": "stdout",
          "text": [
            "maximum num-> 89\n",
            "2\n"
          ]
        }
      ]
    },
    {
      "cell_type": "code",
      "source": [
        "t=(1,2,3,4,43,23,32)\n",
        "t"
      ],
      "metadata": {
        "colab": {
          "base_uri": "https://localhost:8080/"
        },
        "id": "H9WYN_-5lt8K",
        "outputId": "3993b715-2b13-4a3b-826c-949ac14504fe"
      },
      "execution_count": null,
      "outputs": [
        {
          "output_type": "execute_result",
          "data": {
            "text/plain": [
              "(1, 2, 3, 4, 43, 23, 32)"
            ]
          },
          "metadata": {},
          "execution_count": 42
        }
      ]
    },
    {
      "cell_type": "code",
      "source": [
        "t=(1,2,3,4,43,23,32)\n",
        "t[3]"
      ],
      "metadata": {
        "colab": {
          "base_uri": "https://localhost:8080/"
        },
        "id": "00nltxL7l2P2",
        "outputId": "25585c42-dde0-4a38-9cf2-3594b48bff3c"
      },
      "execution_count": null,
      "outputs": [
        {
          "output_type": "execute_result",
          "data": {
            "text/plain": [
              "4"
            ]
          },
          "metadata": {},
          "execution_count": 43
        }
      ]
    },
    {
      "cell_type": "code",
      "source": [
        "t=(1,2,3,4,43,23,32,'string')\n",
        "t"
      ],
      "metadata": {
        "colab": {
          "base_uri": "https://localhost:8080/"
        },
        "id": "KO9Z3FtUl9xj",
        "outputId": "eabd1dae-9e3a-49f6-fed4-e09569dd2e4b"
      },
      "execution_count": null,
      "outputs": [
        {
          "output_type": "execute_result",
          "data": {
            "text/plain": [
              "(1, 2, 3, 4, 43, 23, 32, 'string')"
            ]
          },
          "metadata": {},
          "execution_count": 44
        }
      ]
    },
    {
      "cell_type": "markdown",
      "source": [
        "# **DICTIONARY**"
      ],
      "metadata": {
        "id": "38dzOwTD3MV6"
      }
    },
    {
      "cell_type": "code",
      "source": [
        "d={\n",
        "    'name':'mevi tech',\n",
        "    'age':3,\n",
        "    'employees':4\n",
        "}\n",
        "d"
      ],
      "metadata": {
        "colab": {
          "base_uri": "https://localhost:8080/"
        },
        "id": "r7FqJ1epoOxQ",
        "outputId": "01c7b4c0-20ff-4c76-d509-6b8d2afb6cc9"
      },
      "execution_count": null,
      "outputs": [
        {
          "output_type": "execute_result",
          "data": {
            "text/plain": [
              "{'name': 'mevi tech', 'age': 3, 'employees': 4}"
            ]
          },
          "metadata": {},
          "execution_count": 46
        }
      ]
    },
    {
      "cell_type": "code",
      "source": [
        "d={\n",
        "    'name':'mevi tech',\n",
        "    'age':3,\n",
        "    'employees':4\n",
        "\n",
        "}\n",
        "d['name']"
      ],
      "metadata": {
        "colab": {
          "base_uri": "https://localhost:8080/",
          "height": 36
        },
        "id": "FwytX53qo6iB",
        "outputId": "06972d5a-5c53-4f7d-aa17-8171a01ce15e"
      },
      "execution_count": null,
      "outputs": [
        {
          "output_type": "execute_result",
          "data": {
            "text/plain": [
              "'mevi tech'"
            ],
            "application/vnd.google.colaboratory.intrinsic+json": {
              "type": "string"
            }
          },
          "metadata": {},
          "execution_count": 49
        }
      ]
    },
    {
      "cell_type": "code",
      "source": [
        "d={\n",
        "    'name':'mevi tech',\n",
        "    'age':3,\n",
        "    'employees':4,\n",
        "    'name':'Mevi Technologies LLp'\n",
        "}\n",
        "d"
      ],
      "metadata": {
        "colab": {
          "base_uri": "https://localhost:8080/"
        },
        "id": "zjb99WvSpGjk",
        "outputId": "53ab9db6-e43c-44dc-ed71-e725a88d9c9b"
      },
      "execution_count": null,
      "outputs": [
        {
          "output_type": "execute_result",
          "data": {
            "text/plain": [
              "{'name': 'Mevi Technologies LLp', 'age': 3, 'employees': 4}"
            ]
          },
          "metadata": {},
          "execution_count": 50
        }
      ]
    },
    {
      "cell_type": "code",
      "source": [
        "d={\n",
        "    'name':'mevi tech',\n",
        "    'age':3,\n",
        "    'employees':4,\n",
        "    'name':'Mevi Technologies LLp'\n",
        "}\n",
        "d['name']"
      ],
      "metadata": {
        "colab": {
          "base_uri": "https://localhost:8080/",
          "height": 36
        },
        "id": "TC6wYge_pYyR",
        "outputId": "d9203990-b874-4060-9232-ff6d2678fc9c"
      },
      "execution_count": null,
      "outputs": [
        {
          "output_type": "execute_result",
          "data": {
            "text/plain": [
              "'Mevi Technologies LLp'"
            ],
            "application/vnd.google.colaboratory.intrinsic+json": {
              "type": "string"
            }
          },
          "metadata": {},
          "execution_count": 51
        }
      ]
    },
    {
      "cell_type": "code",
      "source": [
        "d={\n",
        "    'name':'mevi tech',\n",
        "    'age':3,\n",
        "    'employees':4,\n",
        "    'name':'Mevi Technologies LLp'\n",
        "}\n",
        "print(d.keys())\n",
        "print(d.values())"
      ],
      "metadata": {
        "colab": {
          "base_uri": "https://localhost:8080/"
        },
        "id": "4DWloyiopeej",
        "outputId": "f49b1505-7471-4c09-8f21-773a0bc98ad8"
      },
      "execution_count": null,
      "outputs": [
        {
          "output_type": "stream",
          "name": "stdout",
          "text": [
            "dict_keys(['name', 'age', 'employees'])\n",
            "dict_values(['Mevi Technologies LLp', 3, 4])\n"
          ]
        }
      ]
    },
    {
      "cell_type": "code",
      "source": [
        "d={\n",
        "    'name':'mevi tech',\n",
        "    'age':3,\n",
        "    'employees':4,\n",
        "    'name':'Mevi Technologies LLp'\n",
        "}\n",
        "print(d.keys())\n",
        "print(d.values())\n",
        "print(d)"
      ],
      "metadata": {
        "colab": {
          "base_uri": "https://localhost:8080/"
        },
        "id": "dcmPwz57p8pM",
        "outputId": "a5ccbffc-5ba8-4053-a559-466e0525308d"
      },
      "execution_count": null,
      "outputs": [
        {
          "output_type": "stream",
          "name": "stdout",
          "text": [
            "dict_keys(['name', 'age', 'employees'])\n",
            "dict_values(['Mevi Technologies LLp', 3, 4])\n",
            "{'name': 'Mevi Technologies LLp', 'age': 3, 'employees': 4}\n"
          ]
        }
      ]
    },
    {
      "cell_type": "code",
      "source": [
        "# 2.EXAMPLE\n",
        "l = []\n",
        "n = int(input('How many elements you want : '))\n",
        "for i in range(n):\n",
        "  e=input('Enter the element :')\n",
        "  print(e)\n",
        "  l.append(e)\n",
        "  print(e.upper())\n",
        "  print(e.lower())\n",
        "  print(e.title())\n",
        "  print(e.count('a'))\n",
        "print(l)"
      ],
      "metadata": {
        "colab": {
          "base_uri": "https://localhost:8080/"
        },
        "id": "xbGl1U7Bqhv6",
        "outputId": "8c1fd5c6-6dab-4208-b3b3-4cb825957afd"
      },
      "execution_count": null,
      "outputs": [
        {
          "output_type": "stream",
          "name": "stdout",
          "text": [
            "How many elements you want : 2\n",
            "Enter the element :pavi\n",
            "pavi\n",
            "PAVI\n",
            "pavi\n",
            "Pavi\n",
            "1\n",
            "Enter the element :raki\n",
            "raki\n",
            "RAKI\n",
            "raki\n",
            "Raki\n",
            "1\n",
            "['pavi', 'raki']\n"
          ]
        }
      ]
    },
    {
      "cell_type": "code",
      "source": [
        "d.update({'Location':'Nagarbhavi'})\n",
        "d"
      ],
      "metadata": {
        "colab": {
          "base_uri": "https://localhost:8080/"
        },
        "id": "JqWjz-2Orkiu",
        "outputId": "6035943a-80a7-4b26-90c6-3d171ec1ca0c"
      },
      "execution_count": null,
      "outputs": [
        {
          "output_type": "execute_result",
          "data": {
            "text/plain": [
              "{'name': 'Mevi Technologies LLp',\n",
              " 'age': 3,\n",
              " 'employees': 4,\n",
              " 'Location': 'Nagarbhavi'}"
            ]
          },
          "metadata": {},
          "execution_count": 57
        }
      ]
    },
    {
      "cell_type": "code",
      "source": [
        "name=input()\n",
        "age=input()\n",
        "d={\n",
        "    'name':name,\n",
        "    'age':age,\n",
        "    'employees':input('Enter the emp number'),\n",
        "    'name':'Mevi Technologies LLp',\n",
        "    'age':4\n",
        "}\n",
        "print(d.keys())\n",
        "print(d.values())\n",
        "print(d)"
      ],
      "metadata": {
        "colab": {
          "base_uri": "https://localhost:8080/"
        },
        "id": "233I1fxMsEs7",
        "outputId": "8939099a-ca52-4caf-f510-ec3684034e00"
      },
      "execution_count": null,
      "outputs": [
        {
          "output_type": "stream",
          "name": "stdout",
          "text": [
            "Mevi Technologies LLp\n",
            "4\n",
            "Enter the emp number3\n",
            "dict_keys(['name', 'age', 'employees'])\n",
            "dict_values(['Mevi Technologies LLp', 4, '3'])\n",
            "{'name': 'Mevi Technologies LLp', 'age': 4, 'employees': '3'}\n"
          ]
        }
      ]
    },
    {
      "cell_type": "code",
      "source": [
        "for i in d.items():\n",
        "  print(i)"
      ],
      "metadata": {
        "colab": {
          "base_uri": "https://localhost:8080/"
        },
        "id": "tc9ZPtOws0T5",
        "outputId": "ab001199-1948-4d1a-eeca-6ea465717be3"
      },
      "execution_count": null,
      "outputs": [
        {
          "output_type": "stream",
          "name": "stdout",
          "text": [
            "('name', 'Mevi Technologies LLp')\n",
            "('age', 4)\n",
            "('employees', '3')\n"
          ]
        }
      ]
    },
    {
      "cell_type": "code",
      "source": [
        "for i,j in d.items():\n",
        "  print(i)"
      ],
      "metadata": {
        "colab": {
          "base_uri": "https://localhost:8080/"
        },
        "id": "o_DPpiRntLPa",
        "outputId": "52beb842-605d-4930-afde-b1393efb7b8e"
      },
      "execution_count": null,
      "outputs": [
        {
          "output_type": "stream",
          "name": "stdout",
          "text": [
            "name\n",
            "age\n",
            "employees\n"
          ]
        }
      ]
    },
    {
      "cell_type": "code",
      "source": [
        "for i,j in d.items():\n",
        "  print(j)"
      ],
      "metadata": {
        "colab": {
          "base_uri": "https://localhost:8080/"
        },
        "id": "BQrYNEVjtSKK",
        "outputId": "16edc01b-ca4b-4825-d5a5-61a4c0ba2238"
      },
      "execution_count": null,
      "outputs": [
        {
          "output_type": "stream",
          "name": "stdout",
          "text": [
            "Mevi Technologies LLp\n",
            "4\n",
            "3\n"
          ]
        }
      ]
    },
    {
      "cell_type": "code",
      "source": [
        "print('Company details')\n",
        "for i,j in d.items():\n",
        "  print(i,'--->',j)"
      ],
      "metadata": {
        "colab": {
          "base_uri": "https://localhost:8080/"
        },
        "id": "zLdp_s96tSVn",
        "outputId": "27e7142e-95b7-41ea-a8cf-30d384736f39"
      },
      "execution_count": null,
      "outputs": [
        {
          "output_type": "stream",
          "name": "stdout",
          "text": [
            "Company details\n",
            "name ---> Mevi Technologies LLp\n",
            "age ---> 4\n",
            "employees ---> 3\n"
          ]
        }
      ]
    },
    {
      "cell_type": "code",
      "source": [
        "\n",
        "print('welcome to mevi')\n",
        "n=int(input('Enter the number of employee details '))\n",
        "l=[]\n",
        "for i in range(n):\n",
        "  d={\n",
        "      'name':input('Enter the name of the employee '),\n",
        "      'age':int(input('Enter the age ')),\n",
        "      'salary':int(input('Enter the salary ')),\n",
        "      'designation':input('Enter your designation '),\n",
        "      'company':input('In which company your working '),\n",
        "      'branch location':input('Address '),\n",
        "      'year of experince':int(input('your experince in years '))\n",
        "  }\n",
        "  l.append(d)\n",
        "print(d)"
      ],
      "metadata": {
        "colab": {
          "base_uri": "https://localhost:8080/"
        },
        "id": "AZNldvxfupyM",
        "outputId": "9daca118-c780-4962-a763-53cca10bff31"
      },
      "execution_count": null,
      "outputs": [
        {
          "output_type": "stream",
          "name": "stdout",
          "text": [
            "welcome to mevi\n",
            "Enter the number of employee details 1\n",
            "Enter the name of the employee pavi\n",
            "Enter the age 21\n",
            "Enter the salary 75000\n",
            "Enter your designation software\n",
            "In which company your workingMevi\n",
            "Addressnagrabhavi\n",
            "your experince in years2\n",
            "{'name': 'pavi', 'age': 21, 'salary': 75000, 'designation': 'software', 'company': 'Mevi', 'branch location': 'nagrabhavi', 'year of experince': 2}\n"
          ]
        }
      ]
    },
    {
      "cell_type": "markdown",
      "source": [
        "# **BASIC**"
      ],
      "metadata": {
        "id": "Bm_y3vOR3kDJ"
      }
    },
    {
      "cell_type": "code",
      "source": [
        "s={1,2,3,4,5}\n",
        "print(s)"
      ],
      "metadata": {
        "colab": {
          "base_uri": "https://localhost:8080/"
        },
        "id": "wF0Ttk2N7Exn",
        "outputId": "b52f7970-59ba-4cb5-9d8c-a3828cdb832e"
      },
      "execution_count": null,
      "outputs": [
        {
          "output_type": "stream",
          "name": "stdout",
          "text": [
            "{1, 2, 3, 4, 5}\n"
          ]
        }
      ]
    },
    {
      "cell_type": "code",
      "source": [
        "s={1,2,3,4,5,'hey'}\n",
        "print(s)"
      ],
      "metadata": {
        "colab": {
          "base_uri": "https://localhost:8080/"
        },
        "id": "hMVm4DNm7M_o",
        "outputId": "8cc7b501-ec2f-4b36-da4c-6019b0aca798"
      },
      "execution_count": null,
      "outputs": [
        {
          "output_type": "stream",
          "name": "stdout",
          "text": [
            "{1, 2, 3, 4, 5, 'hey'}\n"
          ]
        }
      ]
    },
    {
      "cell_type": "code",
      "source": [
        "s={1,2,3,4,5,'hey',8,4,3,6,7}\n",
        "print(s)"
      ],
      "metadata": {
        "colab": {
          "base_uri": "https://localhost:8080/"
        },
        "id": "hXOKwjzF7jDR",
        "outputId": "b7ed3777-d244-4c18-f398-a3e82b20e81b"
      },
      "execution_count": null,
      "outputs": [
        {
          "output_type": "stream",
          "name": "stdout",
          "text": [
            "{1, 2, 3, 4, 5, 6, 7, 8, 'hey'}\n"
          ]
        }
      ]
    },
    {
      "cell_type": "code",
      "source": [
        "# prompt:\n",
        "\n",
        "s.add('Mevi Tech')\n",
        "s\n"
      ],
      "metadata": {
        "colab": {
          "base_uri": "https://localhost:8080/"
        },
        "id": "8Wf9a32x7wTw",
        "outputId": "0dfee555-d706-4566-aaf6-2440a2d03504"
      },
      "execution_count": null,
      "outputs": [
        {
          "output_type": "execute_result",
          "data": {
            "text/plain": [
              "{1, 2, 3, 4, 5, 6, 7, 8, 'Mevi Tech', 'hey', 'pavi'}"
            ]
          },
          "metadata": {},
          "execution_count": 89
        }
      ]
    },
    {
      "cell_type": "code",
      "source": [
        "s.add('pavi')\n",
        "s"
      ],
      "metadata": {
        "colab": {
          "base_uri": "https://localhost:8080/"
        },
        "id": "eOy_Fap-7wPO",
        "outputId": "7860666b-1c4c-4a14-9cd6-83e634dc5a79"
      },
      "execution_count": null,
      "outputs": [
        {
          "output_type": "execute_result",
          "data": {
            "text/plain": [
              "{1, 2, 3, 4, 5, 6, 7, 8, 'Mevi Tech', 'hey', 'pavi'}"
            ]
          },
          "metadata": {},
          "execution_count": 90
        }
      ]
    },
    {
      "cell_type": "code",
      "source": [
        "s.pop()\n",
        "s"
      ],
      "metadata": {
        "colab": {
          "base_uri": "https://localhost:8080/"
        },
        "id": "hYS94osP8QXt",
        "outputId": "86a4d81e-9f51-492b-d468-95b447d9ed9b"
      },
      "execution_count": null,
      "outputs": [
        {
          "output_type": "execute_result",
          "data": {
            "text/plain": [
              "{2, 3, 4, 5, 6, 7, 8, 'Mevi Tech', 'hey', 'pavi'}"
            ]
          },
          "metadata": {},
          "execution_count": 91
        }
      ]
    },
    {
      "cell_type": "code",
      "source": [
        "s.pop()"
      ],
      "metadata": {
        "colab": {
          "base_uri": "https://localhost:8080/"
        },
        "id": "c2t6O1058cSs",
        "outputId": "f67f2775-ebab-44c9-f105-8af3462ba31d"
      },
      "execution_count": null,
      "outputs": [
        {
          "output_type": "execute_result",
          "data": {
            "text/plain": [
              "2"
            ]
          },
          "metadata": {},
          "execution_count": 92
        }
      ]
    },
    {
      "cell_type": "code",
      "source": [
        "s"
      ],
      "metadata": {
        "colab": {
          "base_uri": "https://localhost:8080/"
        },
        "id": "TN-qvMRZ8uTE",
        "outputId": "090481db-9c2b-41cc-e3c6-cafd8a7fb474"
      },
      "execution_count": null,
      "outputs": [
        {
          "output_type": "execute_result",
          "data": {
            "text/plain": [
              "{3, 4, 5, 6, 7, 8, 'Mevi Tech', 'hey', 'pavi'}"
            ]
          },
          "metadata": {},
          "execution_count": 93
        }
      ]
    },
    {
      "cell_type": "code",
      "source": [
        "a={1,2,3,4}\n",
        "b={3,4,5,6}\n",
        "c=a.intersection(b)\n",
        "d=a.union(b)\n",
        "print('intersection of a and b ->',c)\n",
        "print('union of a and b ->',d)"
      ],
      "metadata": {
        "colab": {
          "base_uri": "https://localhost:8080/"
        },
        "id": "kHsqxCqp8_Wr",
        "outputId": "d3a40452-7d59-4368-9eca-022b6964096e"
      },
      "execution_count": null,
      "outputs": [
        {
          "output_type": "stream",
          "name": "stdout",
          "text": [
            "intersection of a and b -> {3, 4}\n",
            "union of a and b -> {1, 2, 3, 4, 5, 6}\n"
          ]
        }
      ]
    },
    {
      "cell_type": "code",
      "source": [
        "l=[1,2,56,32,28,12,15,3,4,5,6]\n",
        "print(l)"
      ],
      "metadata": {
        "colab": {
          "base_uri": "https://localhost:8080/"
        },
        "id": "dLjjGG199l9F",
        "outputId": "18af0a0e-25e5-4429-9aed-efb3e2375198"
      },
      "execution_count": null,
      "outputs": [
        {
          "output_type": "stream",
          "name": "stdout",
          "text": [
            "[1, 2, 56, 32, 28, 12, 15, 3, 4, 5, 6]\n"
          ]
        }
      ]
    },
    {
      "cell_type": "code",
      "source": [
        "l=[1,2,56,32,28,12,15,3,4,5,6]\n",
        "sorted(l)"
      ],
      "metadata": {
        "colab": {
          "base_uri": "https://localhost:8080/"
        },
        "id": "0G4-tJGS92xF",
        "outputId": "80dafff9-4bcc-4406-9749-c4f61d7d464a"
      },
      "execution_count": null,
      "outputs": [
        {
          "output_type": "execute_result",
          "data": {
            "text/plain": [
              "[1, 2, 3, 4, 5, 6, 12, 15, 28, 32, 56]"
            ]
          },
          "metadata": {},
          "execution_count": 98
        }
      ]
    },
    {
      "cell_type": "code",
      "source": [
        "l=[1,2,56,32,28,12,15,3,4,5,6]\n",
        "l1=sorted(l)\n",
        "l1"
      ],
      "metadata": {
        "colab": {
          "base_uri": "https://localhost:8080/"
        },
        "id": "CHhYBGRe-CYT",
        "outputId": "5c0680b2-8720-4d5e-8b25-20402c37fdf3"
      },
      "execution_count": null,
      "outputs": [
        {
          "output_type": "execute_result",
          "data": {
            "text/plain": [
              "[1, 2, 3, 4, 5, 6, 12, 15, 28, 32, 56]"
            ]
          },
          "metadata": {},
          "execution_count": 99
        }
      ]
    },
    {
      "cell_type": "code",
      "source": [
        "name='mevi tech'\n",
        "print(name[8])"
      ],
      "metadata": {
        "colab": {
          "base_uri": "https://localhost:8080/"
        },
        "id": "Yvue9P00-M6V",
        "outputId": "ef5cfa44-0e35-4671-f624-7a2103db7c6c"
      },
      "execution_count": null,
      "outputs": [
        {
          "output_type": "stream",
          "name": "stdout",
          "text": [
            "h\n"
          ]
        }
      ]
    },
    {
      "cell_type": "code",
      "source": [
        "name='mevi tech'\n",
        "print(name[-1])"
      ],
      "metadata": {
        "colab": {
          "base_uri": "https://localhost:8080/"
        },
        "id": "XB1jMNlV-fSD",
        "outputId": "93369644-61b8-4b9c-80d5-9043edcdf452"
      },
      "execution_count": null,
      "outputs": [
        {
          "output_type": "stream",
          "name": "stdout",
          "text": [
            "h\n"
          ]
        }
      ]
    },
    {
      "cell_type": "code",
      "source": [
        "name='mevi tech'\n",
        "print(name[-9])"
      ],
      "metadata": {
        "colab": {
          "base_uri": "https://localhost:8080/"
        },
        "id": "-Pf4MjPH-lfJ",
        "outputId": "1f27e850-5c49-4b2b-81e5-ff0073a3a31b"
      },
      "execution_count": null,
      "outputs": [
        {
          "output_type": "stream",
          "name": "stdout",
          "text": [
            "m\n"
          ]
        }
      ]
    },
    {
      "cell_type": "markdown",
      "source": [
        "# **DMART**\n",
        "\n",
        "---\n",
        "\n"
      ],
      "metadata": {
        "id": "fV7emxKX2Ev_"
      }
    },
    {
      "cell_type": "code",
      "source": [
        "\n",
        "price=0\n",
        "print ('WELCOME TO DMART')\n",
        "while(True):\n",
        "  print('Enter the categories to shop : ')\n",
        "  print('1.Home Electronics\\n2.Chips')\n",
        "  op=int(input('Enter the choice : '))\n",
        "  if(op==1):\n",
        "    print(\"The items in Electronics are\\n1.Refrigerator\\n2.Speaker\\n3.TV\")\n",
        "    e1=int(input('Enter the choice:'))\n",
        "    if(e1==1):\n",
        "      q=int(input(' '))\n",
        "      price+=15000*q\n",
        "    elif(e1==2):\n",
        "      q=int(input(' '))\n",
        "      price+=1500*q\n",
        "    elif(e1==3):\n",
        "      q=int(input(' '))\n",
        "      price+=25000*q\n",
        "  elif(op==2):\n",
        "      print(\"The items in Chips are\\n1.Lays\\n2.Bingo\\n3.kurkure\")\n",
        "      ch=int(input('Enter the choice'))\n",
        "      if(ch==1):\n",
        "        q=int(input(' '))\n",
        "        price+=15*q\n",
        "      elif(ch==2):\n",
        "        q=int(input(' '))\n",
        "        price+=10*q\n",
        "      elif(ch==3):\n",
        "        q=int(input(' '))\n",
        "        price+=25*q\n",
        "  print(\"The final price is\",price)\n",
        "  c=input('Do You Wanna Continue?,YES or NO')\n",
        "  if(c=='NO'):\n",
        "    break\n",
        "\n"
      ],
      "metadata": {
        "colab": {
          "base_uri": "https://localhost:8080/"
        },
        "id": "_y9whz_-rgOZ",
        "outputId": "b174cbd3-74d0-484c-d583-c9676e8d29b5"
      },
      "execution_count": null,
      "outputs": [
        {
          "name": "stdout",
          "output_type": "stream",
          "text": [
            "WELCOME TO DMART\n",
            "Enter the categories to shop : \n",
            "1.Home Electronics\n",
            "2.Chips\n",
            "Enter the choice : 1\n",
            "The items in Electronics are\n",
            "1.Refrigerator\n",
            "2.Speaker\n",
            "3.TV\n",
            "Enter the choice:1\n",
            " 2\n",
            "The final price is 30000\n",
            "Do You Wanna Continue?,YES or NOYES\n",
            "Enter the categories to shop : \n",
            "1.Home Electronics\n",
            "2.Chips\n",
            "Enter the choice : 2\n",
            "The items in Chips are\n",
            "1.Lays\n",
            "2.Bingo\n",
            "3.kurkure\n",
            "Enter the choice2\n",
            " 5\n",
            "The final price is 30050\n",
            "Do You Wanna Continue?,YES or NONO\n"
          ]
        }
      ]
    },
    {
      "cell_type": "code",
      "source": [
        "\n",
        "price=0\n",
        "print ('WELCOME TO DMART')\n",
        "while(True):\n",
        "  print('Enter the categories to shop: ')\n",
        "  print('1.Home Electronics\\n2.Chips')\n",
        "  op=int(input('Enter the choice: '))\n",
        "  if(op==1):\n",
        "    print(\"The items in Electronics are\\n1.Refrigerator\\n2.Speaker\\n3.TV\")\n",
        "    e1=int(input('Enter the choice: '))\n",
        "    if(e1==1):\n",
        "      q=int(input('How many quantities do you need: '))\n",
        "      price+=15000*q\n",
        "    elif(e1==2):\n",
        "      q=int(input('How many quantities do you need: '))\n",
        "      price+=1500*q\n",
        "    elif(e1==3):\n",
        "      q=int(input('How many quantities do you need: '))\n",
        "      price+=25000*q\n",
        "  elif(op==2):\n",
        "      print(\"The items in Chips are\\n1.Lays\\n2.Bingo\\n3.kurkure\")\n",
        "      ch=int(input('Enter the choice: '))\n",
        "      if(ch==1):\n",
        "        q=int(input('How many quantities do you need: '))\n",
        "        price+=15*q\n",
        "      elif(ch==2):\n",
        "        q=int(input('How many quantities do you need: '))\n",
        "        price+=10*q\n",
        "      elif(ch==3):\n",
        "        q=int(input('How many quantities do you need: '))\n",
        "        price+=25*q\n",
        "  print(\"The final price is\",price)\n",
        "  c=input('Do You Wanna Continue?, YES or NO : ')\n",
        "  if(c=='YES'):\n",
        "    print(\"Okay,Please Continue Your Shopping\")\n",
        "  if(c=='NO'):\n",
        "    print(\"THANK YOU,For buying in our shop.\")\n",
        "    break"
      ],
      "metadata": {
        "colab": {
          "base_uri": "https://localhost:8080/"
        },
        "id": "GR1xuOgBzadb",
        "outputId": "21c51bc0-3478-4655-dfed-43d075526804"
      },
      "execution_count": null,
      "outputs": [
        {
          "output_type": "stream",
          "name": "stdout",
          "text": [
            "WELCOME TO DMART\n",
            "Enter the categories to shop: \n",
            "1.Home Electronics\n",
            "2.Chips\n",
            "Enter the choice: 1\n",
            "The items in Electronics are\n",
            "1.Refrigerator\n",
            "2.Speaker\n",
            "3.TV\n",
            "Enter the choice: 1\n",
            "How many quantities do you need: 2\n",
            "The final price is 30000\n",
            "Do You Wanna Continue?, YES or NO : YES\n",
            "Okay,Please Continue Your Shopping\n",
            "Enter the categories to shop: \n",
            "1.Home Electronics\n",
            "2.Chips\n",
            "Enter the choice: 2\n",
            "The items in Chips are\n",
            "1.Lays\n",
            "2.Bingo\n",
            "3.kurkure\n",
            "Enter the choice: 3\n",
            "How many quantities do you need: 5\n",
            "The final price is 30125\n",
            "Do You Wanna Continue?, YES or NO : NO\n",
            "THANK YOU,For buying in our shop\n"
          ]
        }
      ]
    },
    {
      "cell_type": "markdown",
      "source": [
        "# **RESORT** & **RESTUARNT**\n"
      ],
      "metadata": {
        "id": "yESeax_Jxut2"
      }
    },
    {
      "cell_type": "code",
      "source": [
        "\n",
        "price=0\n",
        "print ('WELCOME TO RESORT')\n",
        "while(True):\n",
        "  print('Enter the Items in Restaurent: ')\n",
        "  print('1.Tiffen\\n2.Lunch')\n",
        "  op=int(input('Enter the choice: '))\n",
        "  if(op==1):\n",
        "    print(\"The items to eat\\n1.Dosa\\n2.Idle\\n3.Poori\")\n",
        "    e1=int(input('Enter the choice: '))\n",
        "    if(e1==1):\n",
        "      q=int(input('How many plates do you need: '))\n",
        "      price+=50*q\n",
        "    elif(e1==2):\n",
        "      q=int(input('How many plates do you need: '))\n",
        "      price+=60*q\n",
        "    elif(e1==3):\n",
        "      q=int(input('How many plates do you need: '))\n",
        "      price+=75*q\n",
        "  elif(op==2):\n",
        "      print(\"The items to eat\\n1.Rice\\n2.Briyani\\n3.Ragiball\")\n",
        "      ch=int(input('Enter the choice: '))\n",
        "      if(ch==1):\n",
        "        q=int(input('How many plates do you need: '))\n",
        "        price+=150*q\n",
        "      elif(ch==2):\n",
        "        q=int(input('How many plates do you need: '))\n",
        "        price+=200*q\n",
        "      elif(ch==3):\n",
        "        q=int(input('How many plates do you need: '))\n",
        "        price+=50*q\n",
        "  print(\"The final price is\",price)\n",
        "  c=input('Do You Wanna Order anything ?, YES or NO : ')\n",
        "  if(c=='YES'):\n",
        "    print(\"What do you want to order\")\n",
        "  if(c=='NO'):\n",
        "    print(\"THANK YOU,FOR Visiting our restaurent\")\n",
        "    break"
      ],
      "metadata": {
        "colab": {
          "base_uri": "https://localhost:8080/"
        },
        "id": "E5Qc6mQ12nvT",
        "outputId": "65312550-6ca1-438a-c685-76d262a4a412"
      },
      "execution_count": null,
      "outputs": [
        {
          "output_type": "stream",
          "name": "stdout",
          "text": [
            "WELCOME TO RESORT\n",
            "Enter the Items in Restaurent: \n",
            "1.Tiffen\n",
            "2.Lunch\n",
            "Enter the choice: 1\n",
            "The items to eat\n",
            "1.Dosa\n",
            "2.Idle\n",
            "3.Poori\n",
            "Enter the choice: 1\n",
            "How many plates do you need: 2\n",
            "The final price is 100\n",
            "Do You Wanna Order anything ?, YES or NO : YES\n",
            "What do you want to order\n",
            "Enter the Items in Restaurent: \n",
            "1.Tiffen\n",
            "2.Lunch\n",
            "Enter the choice: 1\n",
            "The items to eat\n",
            "1.Dosa\n",
            "2.Idle\n",
            "3.Poori\n",
            "Enter the choice: 3\n",
            "How many plates do you need: 4\n",
            "The final price is 400\n",
            "Do You Wanna Order anything ?, YES or NO : YES\n",
            "What do you want to order\n",
            "Enter the Items in Restaurent: \n",
            "1.Tiffen\n",
            "2.Lunch\n",
            "Enter the choice: 2\n",
            "The items to eat\n",
            "1.Rice\n",
            "2.Briyani\n",
            "3.Ragiball\n",
            "Enter the choice: 2\n",
            "How many plates do you need: 2\n",
            "The final price is 800\n",
            "Do You Wanna Order anything ?, YES or NO : NO\n",
            "THANK YOU,FOR Visiting our restaurent\n"
          ]
        }
      ]
    },
    {
      "cell_type": "markdown",
      "source": [
        "# **SUPERMARKET**"
      ],
      "metadata": {
        "id": "wRKWPq7A16Ul"
      }
    },
    {
      "cell_type": "code",
      "source": [
        "\n",
        "print(\"-----Welcome-----\")\n",
        "n = input('Enter the element: ')\n",
        "l = []\n",
        "n = int(input('How many elements you want: '))\n",
        "for i in range(n):\n",
        "  e = input('Enter the element: ')\n",
        "  e = int(input('How many elements do you want: '))\n",
        "  for i in range(e):\n",
        "    m = input('Enter the elements of e: ')\n",
        "    print(m)\n",
        "    l.append(m)\n",
        "    print(l)\n",
        "l.append(e)\n",
        "l.append(n)"
      ],
      "metadata": {
        "colab": {
          "base_uri": "https://localhost:8080/"
        },
        "id": "6GM0nObq6QsM",
        "outputId": "c2fe9e49-17b6-4b11-fb12-c4f542b728ca"
      },
      "execution_count": null,
      "outputs": [
        {
          "output_type": "stream",
          "name": "stdout",
          "text": [
            "-----Welcome-----\n",
            "Enter the element: SUPERMARKET\n",
            "How many elements you want: 2\n",
            "Enter the element: HOME APPLIANCES\n",
            "How many elements do you want: 2\n",
            "Enter the elements of e: FAN\n",
            "FAN\n",
            "['FAN']\n",
            "Enter the elements of e: LIGHT\n",
            "LIGHT\n",
            "['FAN', 'LIGHT']\n",
            "Enter the element: GROCERIES\n",
            "How many elements do you want: 3\n",
            "Enter the elements of e: VEGIES\n",
            "VEGIES\n",
            "['FAN', 'LIGHT', 'VEGIES']\n",
            "Enter the elements of e: DAL\n",
            "DAL\n",
            "['FAN', 'LIGHT', 'VEGIES', 'DAL']\n",
            "Enter the elements of e: PEANUT\n",
            "PEANUT\n",
            "['FAN', 'LIGHT', 'VEGIES', 'DAL', 'PEANUT']\n"
          ]
        }
      ]
    },
    {
      "cell_type": "markdown",
      "source": [
        "# Printing **elements in uppercase, lowercase, title, count**"
      ],
      "metadata": {
        "id": "TcrXjKQM1Ofz"
      }
    },
    {
      "cell_type": "code",
      "source": [
        "\n",
        "l = ['Hi!,Everyone we met after longtime']\n",
        "n = int(input('How many members are staying here: '))\n",
        "for i in range(n):\n",
        "  e=input('Enter the name who are all staying:')\n",
        "  l.append(e)\n",
        "  print(e.upper())\n",
        "  print(e.lower())\n",
        "  print(e.title())\n",
        "  print(e.count('a'))\n",
        "print(l)\n",
        "len(e)"
      ],
      "metadata": {
        "id": "Gz3p9cCFhRKq",
        "colab": {
          "base_uri": "https://localhost:8080/"
        },
        "outputId": "09364c04-0f40-42f6-e490-70998f86a0e4"
      },
      "execution_count": 3,
      "outputs": [
        {
          "output_type": "stream",
          "name": "stdout",
          "text": [
            "How many members are staying here: 4\n",
            "Enter the name who are all staying:pavithra\n",
            "PAVITHRA\n",
            "pavithra\n",
            "Pavithra\n",
            "2\n",
            "Enter the name who are all staying:raki\n",
            "RAKI\n",
            "raki\n",
            "Raki\n",
            "1\n",
            "Enter the name who are all staying:veena\n",
            "VEENA\n",
            "veena\n",
            "Veena\n",
            "1\n",
            "Enter the name who are all staying:dad\n",
            "DAD\n",
            "dad\n",
            "Dad\n",
            "1\n",
            "['Hi!,Everyone we met after longtime', 'pavithra', 'raki', 'veena', 'dad']\n"
          ]
        },
        {
          "output_type": "execute_result",
          "data": {
            "text/plain": [
              "3"
            ]
          },
          "metadata": {},
          "execution_count": 3
        }
      ]
    },
    {
      "cell_type": "code",
      "source": [
        "len(l)"
      ],
      "metadata": {
        "colab": {
          "base_uri": "https://localhost:8080/"
        },
        "id": "Bd0BSAFn2FjD",
        "outputId": "aeab351d-c57f-45bb-be3d-a5d2b6da9830"
      },
      "execution_count": 4,
      "outputs": [
        {
          "output_type": "execute_result",
          "data": {
            "text/plain": [
              "5"
            ]
          },
          "metadata": {},
          "execution_count": 4
        }
      ]
    },
    {
      "cell_type": "markdown",
      "source": [
        "# REPLACING **'a'** To **'b'**"
      ],
      "metadata": {
        "id": "j29pwAU3yvVN"
      }
    },
    {
      "cell_type": "code",
      "source": [
        "\n",
        "l = ['Hi!,Everyone we met after longtime']\n",
        "n = int(input('How many members are staying here: '))\n",
        "for i in range(n):\n",
        "  e=input('Enter the name who are all staying:')\n",
        "  l.append(e)\n",
        "  print(e.upper())\n",
        "  print(e.lower())\n",
        "  print(e.title())\n",
        "  print(e.count('a'))\n",
        "print(l)\n",
        "print(e.replace('a','b'))\n",
        "len(e)"
      ],
      "metadata": {
        "colab": {
          "base_uri": "https://localhost:8080/"
        },
        "id": "TTnclyPJ6rQU",
        "outputId": "9691c015-0372-4681-e7c5-13b21f0ca6d7"
      },
      "execution_count": null,
      "outputs": [
        {
          "output_type": "stream",
          "name": "stdout",
          "text": [
            "How many members are staying here: 1\n",
            "Enter the name who are all staying:Pavithra pavi\n",
            "PAVITHRA PAVI\n",
            "pavithra pavi\n",
            "Pavithra Pavi\n",
            "3\n",
            "['Hi!,Everyone we met after longtime', 'Pavithra pavi']\n",
            "Pbvithrb pbvi\n"
          ]
        },
        {
          "output_type": "execute_result",
          "data": {
            "text/plain": [
              "13"
            ]
          },
          "metadata": {},
          "execution_count": 29
        }
      ]
    },
    {
      "cell_type": "code",
      "source": [
        "\n",
        "inp=input('Enter the input: ')\n",
        "a=0\n",
        "n=0\n",
        "w=0\n",
        "for i in inp:\n",
        "  if(i.isalpha()):\n",
        "    a+=1\n",
        "  elif(i.isnumeric()):\n",
        "    n+=1\n",
        "  elif(i.isspace()):\n",
        "    w+=1\n",
        "print(f'alphabet count-> {a}\\n numbers -> {n}\\n white space -> {w}')"
      ],
      "metadata": {
        "colab": {
          "base_uri": "https://localhost:8080/"
        },
        "id": "6EGgF2umj6pv",
        "outputId": "969fe18d-d2d1-457e-df8d-194674dd2ac3"
      },
      "execution_count": null,
      "outputs": [
        {
          "output_type": "stream",
          "name": "stdout",
          "text": [
            "Enter the input: pavithra k 2003\n",
            "alphabet count-> 9\n",
            " numbers -> 4\n",
            " white space -> 2\n"
          ]
        }
      ]
    },
    {
      "cell_type": "code",
      "source": [
        "\n",
        "l=[]\n",
        "n=int(input('Enter n : '))\n",
        "for i in range(n):\n",
        "  l.append(input('Enter the input '))\n",
        "  print(l)"
      ],
      "metadata": {
        "colab": {
          "base_uri": "https://localhost:8080/"
        },
        "id": "Iw4kSeMdleO0",
        "outputId": "64b3a86b-9ec8-422f-e97b-357e7e9184b4"
      },
      "execution_count": null,
      "outputs": [
        {
          "output_type": "stream",
          "name": "stdout",
          "text": [
            "Enter n : 3\n",
            "Enter the input megha\n",
            "['megha']\n",
            "Enter the input nishu\n",
            "['megha', 'nishu']\n",
            "Enter the input pavi\n",
            "['megha', 'nishu', 'pavi']\n"
          ]
        }
      ]
    },
    {
      "cell_type": "code",
      "source": [
        "a=0\n",
        "n=0\n",
        "w=0\n",
        "for i in l:\n",
        "  for j in i:\n",
        "    if(i.isalpha()):\n",
        "      a+=1\n",
        "    elif(i.isnumeric()):\n",
        "      n+=1\n",
        "    elif(i.isspace()):\n",
        "      w+=1\n",
        "print(f'alphabet count-> {a}\\n numbers -> {n}\\n white space -> {w}')"
      ],
      "metadata": {
        "colab": {
          "base_uri": "https://localhost:8080/"
        },
        "id": "_jru1s3sqFkc",
        "outputId": "ea1af4a1-b3c6-47d9-b56d-935c5b98d374"
      },
      "execution_count": null,
      "outputs": [
        {
          "output_type": "stream",
          "name": "stdout",
          "text": [
            "alphabet count-> 14\n",
            " numbers -> 0\n",
            " white space -> 0\n"
          ]
        }
      ]
    },
    {
      "cell_type": "code",
      "source": [
        "\n",
        "l=input(\"Enter a string : \")\n",
        "a=0\n",
        "n=0\n",
        "w=0\n",
        "for i in l:\n",
        "  for j in i:\n",
        "    if(i.isalpha()):\n",
        "      a+=1\n",
        "    elif(i.isnumeric()):\n",
        "      n+=1\n",
        "    elif(i.isspace()):\n",
        "      w+=1\n",
        "print(f'alphabet count-> {a}\\n numbers -> {n}\\n white space -> {w}')"
      ],
      "metadata": {
        "colab": {
          "base_uri": "https://localhost:8080/"
        },
        "id": "UP01OqmEwPpC",
        "outputId": "e0854cc5-c02f-4d72-e707-47a8f2eb87a9"
      },
      "execution_count": null,
      "outputs": [
        {
          "output_type": "stream",
          "name": "stdout",
          "text": [
            "Enter a string : pavii pavi 174\n",
            "alphabet count-> 9\n",
            " numbers -> 3\n",
            " white space -> 2\n"
          ]
        }
      ]
    },
    {
      "cell_type": "code",
      "source": [
        "#Function\n",
        "def hi():\n",
        "  print('hey')"
      ],
      "metadata": {
        "id": "nOnLF_-prs8q"
      },
      "execution_count": null,
      "outputs": []
    },
    {
      "cell_type": "code",
      "source": [
        "#calling function\n",
        "hi()"
      ],
      "metadata": {
        "colab": {
          "base_uri": "https://localhost:8080/"
        },
        "id": "b4U6oxJMr0Z6",
        "outputId": "8f9e2fb0-e821-40df-f958-8064a18c847e"
      },
      "execution_count": null,
      "outputs": [
        {
          "output_type": "stream",
          "name": "stdout",
          "text": [
            "hey\n"
          ]
        }
      ]
    },
    {
      "cell_type": "code",
      "source": [
        "def marriage(groom,bride):\n",
        "  print()"
      ],
      "metadata": {
        "id": "aG7vt7V0sGxu"
      },
      "execution_count": null,
      "outputs": []
    },
    {
      "cell_type": "code",
      "source": [
        "def add(a,b):\n",
        "  return a+b"
      ],
      "metadata": {
        "id": "-DfIqqomtUa2"
      },
      "execution_count": null,
      "outputs": []
    },
    {
      "cell_type": "code",
      "source": [
        "add(4,5)"
      ],
      "metadata": {
        "colab": {
          "base_uri": "https://localhost:8080/"
        },
        "id": "XvDSVHnGtfga",
        "outputId": "71236d10-3f47-4fc9-d8aa-7384c2c78e8d"
      },
      "execution_count": null,
      "outputs": [
        {
          "output_type": "execute_result",
          "data": {
            "text/plain": [
              "9"
            ]
          },
          "metadata": {},
          "execution_count": 50
        }
      ]
    },
    {
      "cell_type": "code",
      "source": [
        "def add(a,b):\n",
        "  return a+b\n",
        "add(4,9)"
      ],
      "metadata": {
        "colab": {
          "base_uri": "https://localhost:8080/"
        },
        "id": "s8NBRV_FtkfG",
        "outputId": "0345aade-51d9-4551-b6c9-f92f5f8a5421"
      },
      "execution_count": null,
      "outputs": [
        {
          "output_type": "execute_result",
          "data": {
            "text/plain": [
              "13"
            ]
          },
          "metadata": {},
          "execution_count": 53
        }
      ]
    },
    {
      "cell_type": "code",
      "source": [
        "d={\n",
        "    'HR':{'Name':'Jay',\n",
        "          'Age':20,\n",
        "          'Salary':20000,\n",
        "          'Department':'Store'\n",
        "          },\n",
        "\n",
        "    'Dev':{'Name':'Niveditha',\n",
        "           'Age':21,\n",
        "           'Salary':25000,\n",
        "           'Department':'Frozen'\n",
        "          }\n",
        "}"
      ],
      "metadata": {
        "id": "kuRLeYUk2zgw"
      },
      "execution_count": null,
      "outputs": []
    },
    {
      "cell_type": "code",
      "source": [
        "d"
      ],
      "metadata": {
        "colab": {
          "base_uri": "https://localhost:8080/"
        },
        "id": "d8bNlHvi4rpV",
        "outputId": "1caf89eb-669a-4d08-e5d6-a06c238917da"
      },
      "execution_count": null,
      "outputs": [
        {
          "output_type": "execute_result",
          "data": {
            "text/plain": [
              "{'HR': {'Name': 'Jay', 'Age': 20, 'Salary': 20000, 'Department': 'Store'},\n",
              " 'Dev': {'Name': 'Niveditha',\n",
              "  'Age': 21,\n",
              "  'Salary': 25000,\n",
              "  'Department': 'Frozen'}}"
            ]
          },
          "metadata": {},
          "execution_count": 77
        }
      ]
    },
    {
      "cell_type": "code",
      "source": [
        "d={\n",
        "    'ID1':{'Name':'Jay',\n",
        "          'Age':20,\n",
        "          'Salary':20000,\n",
        "          'Department':'Store'\n",
        "     },\n",
        "\n",
        "    'id3': {'Name':'Nivi',\n",
        "             'Age':22,\n",
        "             'Salary':27000,\n",
        "             'Department':'Fm'\n",
        "    },\n",
        "\n",
        "    'ID4': {'Name':'nin',\n",
        "           'Age':21,\n",
        "           'Salary':27540,\n",
        "           'Department':'Fen'\n",
        "    }\n",
        "\n",
        "  }"
      ],
      "metadata": {
        "id": "OdKMHte020WN"
      },
      "execution_count": null,
      "outputs": []
    },
    {
      "cell_type": "code",
      "source": [
        "d"
      ],
      "metadata": {
        "colab": {
          "base_uri": "https://localhost:8080/"
        },
        "id": "I9rJz7Tc9pwB",
        "outputId": "2261675d-b033-45d5-823e-ba213d825998"
      },
      "execution_count": null,
      "outputs": [
        {
          "output_type": "execute_result",
          "data": {
            "text/plain": [
              "{'ID1': {'Name': 'Jay', 'Age': 20, 'Salary': 20000, 'Department': 'Store'},\n",
              " 'id3': {'Name': 'Nivi', 'Age': 22, 'Salary': 27000, 'Department': 'Fm'},\n",
              " 'ID4': {'Name': 'nin', 'Age': 21, 'Salary': 27540, 'Department': 'Fen'}}"
            ]
          },
          "metadata": {},
          "execution_count": 92
        }
      ]
    },
    {
      "cell_type": "code",
      "source": [
        "def view_details(employees):\n",
        "  for i,j in employees.items():\n",
        "    print(f\"ID -> {i} | Name -> {j['Name']} | Age -> {j['Age']} | Salary -> {j['Salary']} | Department -> {j['Department']}\"   )"
      ],
      "metadata": {
        "id": "68Ckchdu6z5Y"
      },
      "execution_count": null,
      "outputs": []
    },
    {
      "cell_type": "code",
      "source": [
        "view_details(d)"
      ],
      "metadata": {
        "colab": {
          "base_uri": "https://localhost:8080/"
        },
        "id": "dfbrshV25Wiu",
        "outputId": "844e7997-3be1-4fc9-82e2-f1595ecc75bf"
      },
      "execution_count": null,
      "outputs": [
        {
          "output_type": "stream",
          "name": "stdout",
          "text": [
            "ID -> ID1 | Name -> Jay | Age -> 20 | Salary -> 20000 | Department -> Store\n",
            "ID -> id3 | Name -> Nivi | Age -> 22 | Salary -> 27000 | Department -> Fm\n",
            "ID -> ID4 | Name -> nin | Age -> 21 | Salary -> 27540 | Department -> Fen\n"
          ]
        }
      ]
    },
    {
      "cell_type": "code",
      "source": [
        "def deleteemp(employeelist,id):\n",
        "  print('try to delete',id)\n",
        "  del(employeelist[id])\n",
        "  print('Sucessfully deleted')"
      ],
      "metadata": {
        "id": "d_-fEtXe84XP"
      },
      "execution_count": null,
      "outputs": []
    },
    {
      "cell_type": "code",
      "source": [
        "deleteemp(d,'ID1')"
      ],
      "metadata": {
        "colab": {
          "base_uri": "https://localhost:8080/"
        },
        "id": "p-dlEJNj-y3C",
        "outputId": "d960176c-b419-4b51-829f-d2cddad24a13"
      },
      "execution_count": null,
      "outputs": [
        {
          "output_type": "stream",
          "name": "stdout",
          "text": [
            "try to delete ID1\n",
            "Sucessfully deleted\n"
          ]
        }
      ]
    },
    {
      "cell_type": "code",
      "source": [
        "d"
      ],
      "metadata": {
        "colab": {
          "base_uri": "https://localhost:8080/"
        },
        "id": "jio0hwB4_MZO",
        "outputId": "1a817a02-aa6a-4b53-c26d-0fc0c17a9b66"
      },
      "execution_count": null,
      "outputs": [
        {
          "output_type": "execute_result",
          "data": {
            "text/plain": [
              "{'ID4': {'Name': 'nin', 'Age': 21, 'Salary': 27540, 'Department': 'Fen'}}"
            ]
          },
          "metadata": {},
          "execution_count": 112
        }
      ]
    },
    {
      "cell_type": "code",
      "source": [
        "emp={}\n",
        "def addEmp(id,name,age,salary,department):\n",
        "  emp.update({id: {'Name':name,\n",
        "                   'Age':age,\n",
        "                   'Salary':salary,\n",
        "                   'Department':department\n",
        "                  }})\n",
        "  print('Sucessfull added',id)"
      ],
      "metadata": {
        "id": "NsYLvQ_I_P-b"
      },
      "execution_count": null,
      "outputs": []
    },
    {
      "cell_type": "code",
      "source": [
        "addEmp('id6','nish',22,60000,'Cse')\n"
      ],
      "metadata": {
        "colab": {
          "base_uri": "https://localhost:8080/"
        },
        "id": "0Ryi_17hAhcL",
        "outputId": "99644e38-4d87-446b-f4b1-7ddaa96052f4"
      },
      "execution_count": null,
      "outputs": [
        {
          "output_type": "stream",
          "name": "stdout",
          "text": [
            "Sucessfull added id6\n"
          ]
        }
      ]
    },
    {
      "cell_type": "code",
      "source": [
        "print (view_details(emp))"
      ],
      "metadata": {
        "colab": {
          "base_uri": "https://localhost:8080/"
        },
        "id": "caqYwmztEjlc",
        "outputId": "6f55d88a-0fd6-43b3-f3d6-3d35630cdcbf"
      },
      "execution_count": null,
      "outputs": [
        {
          "output_type": "stream",
          "name": "stdout",
          "text": [
            "ID -> id6 | Name -> nish | Age -> 22 | Salary -> 60000 | Department -> Cse\n",
            "None\n"
          ]
        }
      ]
    },
    {
      "cell_type": "code",
      "source": [
        "l = ['Hi!,Everyone we met after longtime']\n",
        "n = int(input('How many members are staying here: '))\n",
        "for i in range(n):\n",
        "  e=input('Enter the name who are all staying:')\n",
        "  l.append(e)\n",
        "  print(e.upper())\n",
        "  print(e.lower())\n",
        "  print(e.title())\n",
        "  print(e.count('a'))\n",
        "print(l)\n",
        "print(e.replace('a','b'))\n",
        "len(e)"
      ],
      "metadata": {
        "colab": {
          "base_uri": "https://localhost:8080/"
        },
        "outputId": "9691c015-0372-4681-e7c5-13b21f0ca6d7",
        "id": "kjW5p-Ey8Y4J"
      },
      "execution_count": null,
      "outputs": [
        {
          "output_type": "stream",
          "name": "stdout",
          "text": [
            "How many members are staying here: 1\n",
            "Enter the name who are all staying:Pavithra pavi\n",
            "PAVITHRA PAVI\n",
            "pavithra pavi\n",
            "Pavithra Pavi\n",
            "3\n",
            "['Hi!,Everyone we met after longtime', 'Pavithra pavi']\n",
            "Pbvithrb pbvi\n"
          ]
        },
        {
          "output_type": "execute_result",
          "data": {
            "text/plain": [
              "13"
            ]
          },
          "metadata": {},
          "execution_count": 29
        }
      ]
    },
    {
      "cell_type": "markdown",
      "source": [
        "# **odd and even**"
      ],
      "metadata": {
        "id": "4tOQmiaI4Ot-"
      }
    },
    {
      "cell_type": "code",
      "source": [
        "#Segregrate as odd and even\n",
        "def oddeven(num):\n",
        "  if(num % 2 != 0):\n",
        "    print('It is odd number')\n",
        "  elif(num % 2 == 0):\n",
        "    print('It is even number')"
      ],
      "metadata": {
        "id": "rgKzzJ1a8dIc"
      },
      "execution_count": null,
      "outputs": []
    },
    {
      "cell_type": "code",
      "source": [
        "num=int(input('Enter the number :'))\n",
        "oddeven(num)\n"
      ],
      "metadata": {
        "colab": {
          "base_uri": "https://localhost:8080/"
        },
        "id": "XmBxXbF7Y26-",
        "outputId": "96c24c2c-dc23-4fc2-d3b6-3a4be9bf0836"
      },
      "execution_count": null,
      "outputs": [
        {
          "output_type": "stream",
          "name": "stdout",
          "text": [
            "Enter the number :15\n",
            "It is odd number\n"
          ]
        }
      ]
    },
    {
      "cell_type": "code",
      "source": [
        "\n",
        "def filteroddeven(numbers):\n",
        "  even_no=[num for num in numbers if num % 2 ==0]\n",
        "  odd_no=[num for num in numbers if num % 2 !=0]\n",
        "  return even_no,odd_no\n",
        "mn=[1,2,3,4,5,6,7,8,9,10]\n",
        "even_no,odd_no=filteroddeven(mn)\n",
        "print(\"Even numbers :\",even_no)\n",
        "print(\"odd numbers:\",odd_no)"
      ],
      "metadata": {
        "colab": {
          "base_uri": "https://localhost:8080/"
        },
        "id": "Wp2aK3g-gDup",
        "outputId": "3f317d72-0d89-46db-e658-7f719c261ac2"
      },
      "execution_count": null,
      "outputs": [
        {
          "output_type": "stream",
          "name": "stdout",
          "text": [
            "Even numbers : [2, 4, 6, 8, 10]\n",
            "odd numbers: [1, 3, 5, 7, 9]\n"
          ]
        }
      ]
    },
    {
      "cell_type": "markdown",
      "source": [
        "# **DICTIONARY**"
      ],
      "metadata": {
        "id": "mtrsC3Wv4YYk"
      }
    },
    {
      "cell_type": "code",
      "source": [
        "d={\n",
        "    'ID1':{'Product Name':'Maggie',\n",
        "           'Category':'A',\n",
        "           'Price':20\n",
        "    },\n",
        "    'ID2':{'Product Name':'pasta',\n",
        "           'Category':'B',\n",
        "           'Price':50\n",
        "    },\n",
        "    'ID3':{'Product Name':'yippe',\n",
        "           'Category':'C',\n",
        "           'Price':60\n",
        "    }\n",
        "}"
      ],
      "metadata": {
        "id": "qWQwesTJi9HT"
      },
      "execution_count": null,
      "outputs": []
    },
    {
      "cell_type": "code",
      "source": [
        "print(\"SUPERMARKET\")\n",
        "d"
      ],
      "metadata": {
        "colab": {
          "base_uri": "https://localhost:8080/"
        },
        "id": "DGJR6c0lj8aU",
        "outputId": "3b668697-171d-48a3-a3c2-1880b7d21b1f"
      },
      "execution_count": null,
      "outputs": [
        {
          "output_type": "stream",
          "name": "stdout",
          "text": [
            "SUPERMARKET\n"
          ]
        },
        {
          "output_type": "execute_result",
          "data": {
            "text/plain": [
              "{'ID1': {'Product Name': 'Maggie', 'Category': 'A', 'Price': 20},\n",
              " 'ID2': {'Product Name': 'pasta', 'Category': 'B', 'Price': 50},\n",
              " 'ID3': {'Product Name': 'yippe', 'Category': 'C', 'Price': 60}}"
            ]
          },
          "metadata": {},
          "execution_count": 68
        }
      ]
    },
    {
      "cell_type": "code",
      "source": [
        "def view_details(stock):\n",
        "  for i,j in stock.items():\n",
        "    print(f\"ID -> {i} | Product Name -> {j['Product Name']} | Category -> {j['Category']} | Price -> {j['Price']} \")"
      ],
      "metadata": {
        "id": "bu-p70MjkseE"
      },
      "execution_count": null,
      "outputs": []
    },
    {
      "cell_type": "code",
      "source": [
        "view_details(d)"
      ],
      "metadata": {
        "colab": {
          "base_uri": "https://localhost:8080/"
        },
        "id": "adyxTE68nfVE",
        "outputId": "bb29cab4-5084-473e-d960-e7716e7f7fdb"
      },
      "execution_count": null,
      "outputs": [
        {
          "output_type": "stream",
          "name": "stdout",
          "text": [
            "ID -> ID1 | Product Name -> Maggie | Category -> A | Price -> 20 \n",
            "ID -> ID2 | Product Name -> pasta | Category -> B | Price -> 50 \n",
            "ID -> ID3 | Product Name -> yippe | Category -> C | Price -> 60 \n"
          ]
        }
      ]
    },
    {
      "cell_type": "markdown",
      "source": [
        "# **BILLING**"
      ],
      "metadata": {
        "id": "OicB-b--4oHd"
      }
    },
    {
      "cell_type": "code",
      "source": [
        "\n",
        "bill=0\n",
        "print('.......WELCOME TO BIRIYANI MANE.........')\n",
        "a='''-----------------MENU----------------\n",
        "        1.BIRIYANI=100Rs\n",
        "        2.KEBAB=120Rs\n",
        "        3.FRIED CHICKEN=350Rs'''\n",
        "while(True):\n",
        "  print(a)\n",
        "  ch=int(input('enter your choice:'))\n",
        "  if(ch==1):\n",
        "    bill+=100\n",
        "  elif(ch==2):\n",
        "    bill+=120\n",
        "  elif(ch==3):\n",
        "    bill+=350\n",
        "  ch1=('do you need extra sauces or salads? y\\n')\n",
        "  if(ch1=='y'):\n",
        "    bill+=50\n",
        "  else:\n",
        "    print('Thank you for your confirmation')\n",
        "\n",
        "  print('your total bill is',bill)\n",
        "  break"
      ],
      "metadata": {
        "colab": {
          "base_uri": "https://localhost:8080/"
        },
        "outputId": "90bf80ec-c05a-4c06-ffd4-903a04500319",
        "id": "2iyBOFgUfEMO"
      },
      "execution_count": null,
      "outputs": [
        {
          "output_type": "stream",
          "name": "stdout",
          "text": [
            ".......WELCOME TO BIRIYANI MANE.........\n",
            "-----------------MENU----------------\n",
            "        1.BIRIYANI=100Rs\n",
            "        2.KEBAB=120Rs\n",
            "        3.FRIED CHICKEN=350Rs\n",
            "enter your choice:1\n",
            "Thank you for your confirmation\n",
            "your total bill is 100\n"
          ]
        }
      ]
    },
    {
      "cell_type": "markdown",
      "source": [
        "# **BANK ACCOUNT PASSWORD AND AMOUNT**"
      ],
      "metadata": {
        "id": "LO9MZL2l4syu"
      }
    },
    {
      "cell_type": "code",
      "source": [
        "#//BANK\n",
        "\n",
        "t=0\n",
        "balance=1000\n",
        "mpin=1234\n",
        "while(t<3):\n",
        "  upin=int(input('Enter the pin:'))\n",
        "  t=t+1\n",
        "  if(mpin==upin):\n",
        "    print('You are sucessfully logged in')\n",
        "    ch=int(input('Enter the choice:'))\n",
        "    if(ch==1):\n",
        "      deposit=int(input('Enter the deposit amount:'))\n",
        "      balance=deposit+balance\n",
        "      print(\"balanceis:\",balance)\n",
        "      break\n",
        "    elif(ch==2):\n",
        "      withdraw=int(input('Enter the withdrawal amount'))\n",
        "      balance=balance-withdraw\n",
        "      print(balance)\n",
        "      break\n",
        "    elif(t==3):\n",
        "      print('Your account is blocked')\n",
        "    else:\n",
        "      print('Please Enter a valid pin')\n"
      ],
      "metadata": {
        "colab": {
          "base_uri": "https://localhost:8080/"
        },
        "id": "YvAc0nazEdks",
        "outputId": "abd0df27-f5a7-4acd-d79a-da2d1598505d"
      },
      "execution_count": 8,
      "outputs": [
        {
          "output_type": "stream",
          "name": "stdout",
          "text": [
            "Enter the pin:1234\n",
            "You are sucessfully logged in\n",
            "Enter the choice:1\n",
            "Enter the deposit amount:500\n",
            "balanceis: 1500\n"
          ]
        }
      ]
    },
    {
      "cell_type": "code",
      "source": [
        "mpin=1234\n",
        "bal=1000\n",
        "t=0\n",
        "while(t<3):\n",
        "  upin=int(input('enter the pin :'))\n",
        "  t+=1\n",
        "  if(upin==mpin):\n",
        "    print('successfully logged in')\n",
        "    while(True):\n",
        "      print('1.Deposit\\n2.Withdrawal:')\n",
        "      ch=int(input('Enter a choice: '))\n",
        "      if(ch==1):\n",
        "        deposit=int(input('enter the amount'))\n",
        "        bal+=deposit\n",
        "        print(bal)\n",
        "      elif(ch==2):\n",
        "        withdrawal=int(input('enter the amt'))\n",
        "        bal-=withdrawal\n",
        "        print(bal)\n",
        "      c=input('Do You Want to deposit/withdrawal?, YES or NO : ')\n",
        "      if(c=='YES'):\n",
        "        print(\"please select the choice\")\n",
        "      if(c=='NO'):\n",
        "        print(\"THANK YOU\")\n",
        "        break;\n",
        "    break;\n",
        "  else:\n",
        "    print('invalid input please enter a valid input')"
      ],
      "metadata": {
        "colab": {
          "base_uri": "https://localhost:8080/"
        },
        "id": "AwBpXe0ukoGg",
        "outputId": "142a76cc-29c8-4edd-815d-c3fa0ee02e69"
      },
      "execution_count": 9,
      "outputs": [
        {
          "output_type": "stream",
          "name": "stdout",
          "text": [
            "enter the pin :1234\n",
            "successfully logged in\n",
            "1.Deposit\n",
            "2.Withdrawal:\n",
            "Enter a choice: 1\n",
            "enter the amount500\n",
            "1500\n",
            "Do You Want to deposit/withdrawal?, YES or NO : NO\n",
            "THANK YOU\n"
          ]
        }
      ]
    },
    {
      "cell_type": "code",
      "source": [
        "d={\n",
        "    'Transaction_type':[],\n",
        "    'Transaction_amt':[],\n",
        "    'Current_balance':[]\n",
        "}\n",
        "d"
      ],
      "metadata": {
        "colab": {
          "base_uri": "https://localhost:8080/"
        },
        "id": "Ecl9SEXapzmA",
        "outputId": "c38cdbac-3b3b-46fd-c64c-4cdd02f5bfce"
      },
      "execution_count": 10,
      "outputs": [
        {
          "output_type": "execute_result",
          "data": {
            "text/plain": [
              "{'Transaction_type': [], 'Transaction_amt': [], 'Current_balance': []}"
            ]
          },
          "metadata": {},
          "execution_count": 10
        }
      ]
    },
    {
      "cell_type": "code",
      "source": [
        "mpin=1234\n",
        "bal=1000\n",
        "t=0\n",
        "while(t<3):\n",
        "  upin=int(input('enter the pin :'))\n",
        "  t+=1\n",
        "  if(upin==mpin):\n",
        "    print('successfully logged in')\n",
        "    while(True):\n",
        "      print('1.Deposit\\n2.Withdrawal:')\n",
        "      ch=int(input('Enter a choice: '))\n",
        "      if(ch==1):\n",
        "        type='Deposit'\n",
        "        deposit=int(input('enter the amount'))\n",
        "        bal+=deposit\n",
        "        print(bal)\n",
        "        d['Transaction_type'].append(type)\n",
        "        d['Transaction_amt'].append(deposit)\n",
        "        d['Current_balance'].append(bal)\n",
        "      elif(ch==2):\n",
        "        type='withdrawal'\n",
        "        withdrawal=int(input('enter the amt'))\n",
        "        bal-=withdrawal\n",
        "        print(bal)\n",
        "        d['Transaction_type'].append(type)\n",
        "        d['Transaction_amt'].append(withdrawal)\n",
        "        d['Current_balance'].append(bal)\n",
        "      c=input('Do You Want to deposit/withdrawal?, YES or NO : ')\n",
        "      if(c=='YES'):\n",
        "        print(\"please select the choice\")\n",
        "      if(c=='NO'):\n",
        "        print(\"THANK YOU\")\n",
        "        break;\n",
        "    break;\n",
        "  else:\n",
        "    print('invalid input please enter a valid input')"
      ],
      "metadata": {
        "id": "vaQsVfR74Vrr",
        "colab": {
          "base_uri": "https://localhost:8080/"
        },
        "outputId": "d02081ff-3d12-4dae-c093-9a0ff809b733"
      },
      "execution_count": 11,
      "outputs": [
        {
          "output_type": "stream",
          "name": "stdout",
          "text": [
            "enter the pin :1234\n",
            "successfully logged in\n",
            "1.Deposit\n",
            "2.Withdrawal:\n",
            "Enter a choice: 1\n",
            "enter the amount100\n",
            "1100\n",
            "Do You Want to deposit/withdrawal?, YES or NO : NO\n",
            "THANK YOU\n"
          ]
        }
      ]
    },
    {
      "cell_type": "code",
      "source": [
        "d"
      ],
      "metadata": {
        "colab": {
          "base_uri": "https://localhost:8080/"
        },
        "id": "XtlBXIH0F5aK",
        "outputId": "d697eae2-6faa-47e8-8cd7-906991f041a7"
      },
      "execution_count": 12,
      "outputs": [
        {
          "output_type": "execute_result",
          "data": {
            "text/plain": [
              "{'Transaction_type': ['Deposit'],\n",
              " 'Transaction_amt': [100],\n",
              " 'Current_balance': [1100]}"
            ]
          },
          "metadata": {},
          "execution_count": 12
        }
      ]
    },
    {
      "cell_type": "markdown",
      "source": [
        "# **NUMPY**"
      ],
      "metadata": {
        "id": "T64IkK4I5B3t"
      }
    },
    {
      "cell_type": "code",
      "source": [
        "\n",
        "import numpy as np"
      ],
      "metadata": {
        "id": "BH1GVUlqp4zn"
      },
      "execution_count": null,
      "outputs": []
    },
    {
      "cell_type": "code",
      "source": [
        "l=[1,2,3,4,5,6,7,8,89,65,43]"
      ],
      "metadata": {
        "id": "yTO3lnW0p_GT"
      },
      "execution_count": null,
      "outputs": []
    },
    {
      "cell_type": "code",
      "source": [
        "print(l)\n",
        "arr=np.array(l)\n",
        "print(arr)"
      ],
      "metadata": {
        "colab": {
          "base_uri": "https://localhost:8080/"
        },
        "id": "4FPP7KHNqJCi",
        "outputId": "60b1c28b-3e14-486d-fe75-15e11cf971e2"
      },
      "execution_count": null,
      "outputs": [
        {
          "output_type": "stream",
          "name": "stdout",
          "text": [
            "[1, 2, 3, 4, 5, 6, 7, 8, 89, 65, 43]\n",
            "[ 1  2  3  4  5  6  7  8 89 65 43]\n"
          ]
        }
      ]
    },
    {
      "cell_type": "code",
      "source": [
        "#float\n",
        "l=[1,2,3,4,5,6,7,8,89,65,43,9.6]"
      ],
      "metadata": {
        "id": "CcKejbByrrnR"
      },
      "execution_count": null,
      "outputs": []
    },
    {
      "cell_type": "code",
      "source": [
        "print(l)\n",
        "arr=np.array(l)\n",
        "print(arr)"
      ],
      "metadata": {
        "colab": {
          "base_uri": "https://localhost:8080/"
        },
        "id": "J1ltZXqIr86P",
        "outputId": "f257ad98-4bbd-4f4b-aaf4-de568d978c6e"
      },
      "execution_count": null,
      "outputs": [
        {
          "output_type": "stream",
          "name": "stdout",
          "text": [
            "[1, 2, 3, 4, 5, 6, 7, 8, 89, 65, 43, 9.6]\n",
            "[ 1.   2.   3.   4.   5.   6.   7.   8.  89.  65.  43.   9.6]\n"
          ]
        }
      ]
    },
    {
      "cell_type": "code",
      "source": [
        "#string\n",
        "l=[1,2,3,4,5,6,7,8,89,65,43,9.6,'hey']"
      ],
      "metadata": {
        "id": "sfO5UasesESy"
      },
      "execution_count": null,
      "outputs": []
    },
    {
      "cell_type": "code",
      "source": [
        "print(l)\n",
        "arr=np.array(l)\n",
        "print(arr)"
      ],
      "metadata": {
        "colab": {
          "base_uri": "https://localhost:8080/"
        },
        "outputId": "6e06da1a-6f4b-4981-bffe-1de80bfe97ee",
        "id": "YoUOv54VsO6-"
      },
      "execution_count": null,
      "outputs": [
        {
          "output_type": "stream",
          "name": "stdout",
          "text": [
            "[1, 2, 3, 4, 5, 6, 7, 8, 89, 65, 43, 9.6, 'hey']\n",
            "['1' '2' '3' '4' '5' '6' '7' '8' '89' '65' '43' '9.6' 'hey']\n"
          ]
        }
      ]
    },
    {
      "cell_type": "code",
      "source": [
        "ar1=np.array([2,3,4,5,6,7,89,12,34])"
      ],
      "metadata": {
        "id": "KYbCHzHMsYq4"
      },
      "execution_count": null,
      "outputs": []
    },
    {
      "cell_type": "code",
      "source": [
        "ar1[1]+ar1[6]"
      ],
      "metadata": {
        "colab": {
          "base_uri": "https://localhost:8080/"
        },
        "id": "f9X3ZuqmsnOW",
        "outputId": "77c56276-2fdf-4f8c-9699-6341630de001"
      },
      "execution_count": null,
      "outputs": [
        {
          "output_type": "execute_result",
          "data": {
            "text/plain": [
              "92"
            ]
          },
          "metadata": {},
          "execution_count": 30
        }
      ]
    },
    {
      "cell_type": "code",
      "source": [
        "ar1[3]=7\n",
        "ar1"
      ],
      "metadata": {
        "colab": {
          "base_uri": "https://localhost:8080/"
        },
        "id": "tKdy8KnHsyZN",
        "outputId": "4f0b8ff5-03f5-430f-a0e4-6ce172d61d3c"
      },
      "execution_count": null,
      "outputs": [
        {
          "output_type": "execute_result",
          "data": {
            "text/plain": [
              "array([ 2,  3,  4,  7,  6,  7, 89, 12, 34])"
            ]
          },
          "metadata": {},
          "execution_count": 33
        }
      ]
    },
    {
      "cell_type": "code",
      "source": [
        "#matrix\n",
        "l=[[1,2,3,4],[5,6,7,8],[9,10,11,12]]\n",
        "m=np.array(l)\n",
        "m"
      ],
      "metadata": {
        "colab": {
          "base_uri": "https://localhost:8080/"
        },
        "id": "7uyB8tMqs9jE",
        "outputId": "e683747b-32b1-4be2-fc56-1d3668e711f6"
      },
      "execution_count": null,
      "outputs": [
        {
          "output_type": "execute_result",
          "data": {
            "text/plain": [
              "array([[ 1,  2,  3,  4],\n",
              "       [ 5,  6,  7,  8],\n",
              "       [ 9, 10, 11, 12]])"
            ]
          },
          "metadata": {},
          "execution_count": 34
        }
      ]
    },
    {
      "cell_type": "code",
      "source": [
        "m[1][2]"
      ],
      "metadata": {
        "colab": {
          "base_uri": "https://localhost:8080/"
        },
        "id": "J_VJDB3ItROq",
        "outputId": "ede38599-fa27-44df-f0d7-7a6840310d40"
      },
      "execution_count": null,
      "outputs": [
        {
          "output_type": "execute_result",
          "data": {
            "text/plain": [
              "7"
            ]
          },
          "metadata": {},
          "execution_count": 35
        }
      ]
    },
    {
      "cell_type": "code",
      "source": [
        "#5x5 matrix\n",
        "l=[[1,2,3,4,5],[5,6,7,8,9],[9,10,11,12,1],[2,3,4,5,3],[5,6,7,8,4]]\n",
        "m=np.array(l)\n",
        "m"
      ],
      "metadata": {
        "colab": {
          "base_uri": "https://localhost:8080/"
        },
        "id": "zwp4gNXateHf",
        "outputId": "792bafe9-b1dd-41d2-fb13-89b06fc30ac1"
      },
      "execution_count": null,
      "outputs": [
        {
          "output_type": "execute_result",
          "data": {
            "text/plain": [
              "array([[ 1,  2,  3,  4,  5],\n",
              "       [ 5,  6,  7,  8,  9],\n",
              "       [ 9, 10, 11, 12,  1],\n",
              "       [ 2,  3,  4,  5,  3],\n",
              "       [ 5,  6,  7,  8,  4]])"
            ]
          },
          "metadata": {},
          "execution_count": 37
        }
      ]
    },
    {
      "cell_type": "code",
      "source": [
        "#convert one dimension to two dimension(matrix)\n",
        "l=[1,2,3,4]\n",
        "arr=np.array(l).reshape((2,2))\n",
        "arr"
      ],
      "metadata": {
        "colab": {
          "base_uri": "https://localhost:8080/"
        },
        "id": "IlWU8VKrt0JC",
        "outputId": "b5d2d475-cef0-478e-9b42-00bef0c89321"
      },
      "execution_count": null,
      "outputs": [
        {
          "output_type": "execute_result",
          "data": {
            "text/plain": [
              "array([[1, 2],\n",
              "       [3, 4]])"
            ]
          },
          "metadata": {},
          "execution_count": 39
        }
      ]
    },
    {
      "cell_type": "code",
      "source": [
        "#convert one dimension to two dimension(matrix)\n",
        "l=[1,2,3,4,5,5,6,7,8,9,1,2,3,4,5,6]\n",
        "arr=np.array(l).reshape((4,4))\n",
        "arr"
      ],
      "metadata": {
        "colab": {
          "base_uri": "https://localhost:8080/"
        },
        "outputId": "d7fc1549-7856-41c9-c84d-2beec6b78ab7",
        "id": "96WtFGulusWz"
      },
      "execution_count": null,
      "outputs": [
        {
          "output_type": "execute_result",
          "data": {
            "text/plain": [
              "array([[1, 2, 3, 4],\n",
              "       [5, 5, 6, 7],\n",
              "       [8, 9, 1, 2],\n",
              "       [3, 4, 5, 6]])"
            ]
          },
          "metadata": {},
          "execution_count": 40
        }
      ]
    },
    {
      "cell_type": "code",
      "source": [
        "l=[1,2,3,4,5]\n",
        "n=np.array(l).reshape((-1,1))\n",
        "n"
      ],
      "metadata": {
        "colab": {
          "base_uri": "https://localhost:8080/"
        },
        "id": "ZOZf2v7yu8D_",
        "outputId": "059bf9cc-cb63-44c7-eb3c-ac6a116b7c71"
      },
      "execution_count": null,
      "outputs": [
        {
          "output_type": "execute_result",
          "data": {
            "text/plain": [
              "array([[1],\n",
              "       [2],\n",
              "       [3],\n",
              "       [4],\n",
              "       [5]])"
            ]
          },
          "metadata": {},
          "execution_count": 41
        }
      ]
    },
    {
      "cell_type": "code",
      "source": [
        "l=[1,2,3,4,5,6]\n",
        "n=np.array(l).reshape((-2,2))\n",
        "n"
      ],
      "metadata": {
        "colab": {
          "base_uri": "https://localhost:8080/"
        },
        "id": "6aB_qwX_vRB2",
        "outputId": "f5b4c0b3-d512-464c-db07-c224cd84dd0a"
      },
      "execution_count": null,
      "outputs": [
        {
          "output_type": "execute_result",
          "data": {
            "text/plain": [
              "array([[1, 2],\n",
              "       [3, 4],\n",
              "       [5, 6]])"
            ]
          },
          "metadata": {},
          "execution_count": 47
        }
      ]
    },
    {
      "cell_type": "code",
      "source": [
        "z=np.zeros((3,3))\n",
        "z"
      ],
      "metadata": {
        "colab": {
          "base_uri": "https://localhost:8080/"
        },
        "id": "24e6VL6HvkiS",
        "outputId": "65d8641d-a312-437a-aff0-ec6d6c8fe2e0"
      },
      "execution_count": null,
      "outputs": [
        {
          "output_type": "execute_result",
          "data": {
            "text/plain": [
              "array([[0., 0., 0.],\n",
              "       [0., 0., 0.],\n",
              "       [0., 0., 0.]])"
            ]
          },
          "metadata": {},
          "execution_count": 45
        }
      ]
    },
    {
      "cell_type": "code",
      "source": [
        "t=np.ones((3,3))*2\n",
        "t"
      ],
      "metadata": {
        "colab": {
          "base_uri": "https://localhost:8080/"
        },
        "id": "Z4WNghRDvySu",
        "outputId": "5f8951b1-611b-4dca-87c1-2d4892cbfe22"
      },
      "execution_count": null,
      "outputs": [
        {
          "output_type": "execute_result",
          "data": {
            "text/plain": [
              "array([[2., 2., 2.],\n",
              "       [2., 2., 2.],\n",
              "       [2., 2., 2.]])"
            ]
          },
          "metadata": {},
          "execution_count": 48
        }
      ]
    },
    {
      "cell_type": "code",
      "source": [
        "n=np.ones((3,3))*12\n",
        "n"
      ],
      "metadata": {
        "colab": {
          "base_uri": "https://localhost:8080/"
        },
        "id": "XJuejRcvwCRW",
        "outputId": "e1fb1626-c50b-4795-a50d-34fc93812bb8"
      },
      "execution_count": null,
      "outputs": [
        {
          "output_type": "execute_result",
          "data": {
            "text/plain": [
              "array([[12., 12., 12.],\n",
              "       [12., 12., 12.],\n",
              "       [12., 12., 12.]])"
            ]
          },
          "metadata": {},
          "execution_count": 52
        }
      ]
    },
    {
      "cell_type": "code",
      "source": [
        "l=[1,2,3,4,5,6,7,8,9,12,14,15]\n",
        "ar=np.array(l)\n",
        "are=np.where(ar%2==0)\n",
        "are"
      ],
      "metadata": {
        "colab": {
          "base_uri": "https://localhost:8080/"
        },
        "id": "7S_6N7OgwZED",
        "outputId": "e704f933-ad5f-4841-bc56-5f5c8e3e28f5"
      },
      "execution_count": null,
      "outputs": [
        {
          "output_type": "execute_result",
          "data": {
            "text/plain": [
              "(array([ 1,  3,  5,  7,  9, 10]),)"
            ]
          },
          "metadata": {},
          "execution_count": 54
        }
      ]
    },
    {
      "cell_type": "code",
      "source": [
        "l=[1,2,3,4,5,6,7,8,9,12,14,15]\n",
        "ar=np.array(l)\n",
        "are=np.where(ar%2!=0)\n",
        "are"
      ],
      "metadata": {
        "colab": {
          "base_uri": "https://localhost:8080/"
        },
        "id": "zMfDgA5WxCuT",
        "outputId": "07973050-cea6-4e4e-c211-05914eff5fea"
      },
      "execution_count": null,
      "outputs": [
        {
          "output_type": "execute_result",
          "data": {
            "text/plain": [
              "(array([ 0,  2,  4,  6,  8, 11]),)"
            ]
          },
          "metadata": {},
          "execution_count": 55
        }
      ]
    },
    {
      "cell_type": "code",
      "source": [
        "l=['hey','hello','fruits','papayaa','blahblahblah']\n",
        "l1=sorted(l,key=len)\n",
        "print(l)\n",
        "print(l1[-1])"
      ],
      "metadata": {
        "colab": {
          "base_uri": "https://localhost:8080/"
        },
        "id": "4lJXPUBZxIsS",
        "outputId": "ae0fadae-d5cf-420f-e696-43b5bf449851"
      },
      "execution_count": null,
      "outputs": [
        {
          "output_type": "stream",
          "name": "stdout",
          "text": [
            "['hey', 'hello', 'fruits', 'papayaa', 'blahblahblah']\n",
            "blahblahblah\n"
          ]
        }
      ]
    },
    {
      "cell_type": "code",
      "source": [
        "l=['hey','hello','fruits','papayaa','blahblahblah']\n",
        "l1=sorted(l,key=len)\n",
        "print(l)\n",
        "print(l1[1])"
      ],
      "metadata": {
        "colab": {
          "base_uri": "https://localhost:8080/"
        },
        "id": "Ez_4IUP3x7Ur",
        "outputId": "6705e9e6-866e-43ee-9fbe-7a2f027e5f1f"
      },
      "execution_count": null,
      "outputs": [
        {
          "output_type": "stream",
          "name": "stdout",
          "text": [
            "['hey', 'hello', 'fruits', 'papayaa', 'blahblahblah']\n",
            "hello\n"
          ]
        }
      ]
    },
    {
      "cell_type": "markdown",
      "source": [
        "# **Employee details**"
      ],
      "metadata": {
        "id": "LhRBnjNQ9O2k"
      }
    },
    {
      "cell_type": "code",
      "source": [
        "d={\n",
        "    'Name':[],\n",
        "    'Salary':[],\n",
        "    'Designation':[],\n",
        "    'Years of Experience':[],\n",
        "    'no of lang_known':[]\n",
        "}\n",
        "d"
      ],
      "metadata": {
        "colab": {
          "base_uri": "https://localhost:8080/"
        },
        "id": "2msbVgF9x-QZ",
        "outputId": "cc738c34-364d-473a-a2c3-367d393796f3"
      },
      "execution_count": null,
      "outputs": [
        {
          "output_type": "execute_result",
          "data": {
            "text/plain": [
              "{'Name': [],\n",
              " 'Salary': [],\n",
              " 'Designation': [],\n",
              " 'Years of Experience': [],\n",
              " 'no of lang_known': []}"
            ]
          },
          "metadata": {},
          "execution_count": 112
        }
      ]
    },
    {
      "cell_type": "code",
      "source": [
        "d"
      ],
      "metadata": {
        "colab": {
          "base_uri": "https://localhost:8080/"
        },
        "id": "w8wKi_M0IFwB",
        "outputId": "6cd9b579-ce2b-469c-94bb-cc0685cec6ce"
      },
      "execution_count": null,
      "outputs": [
        {
          "output_type": "execute_result",
          "data": {
            "text/plain": [
              "{'Name': ['pk', 'pk', 'rk'],\n",
              " 'Salary': [2000, 22000, 25000],\n",
              " 'Designation': ['se', 'sse'],\n",
              " 'Years of Experience': [1, 2],\n",
              " 'no of lang_known': [5, 5]}"
            ]
          },
          "metadata": {},
          "execution_count": 116
        }
      ]
    },
    {
      "cell_type": "code",
      "source": [
        "print('Employee details')\n",
        "while(True):\n",
        "  name=input('Name:')\n",
        "  d['Name'].append(name)\n",
        "  Sal=int(input('Salary:'))\n",
        "  d['Salary'].append(Sal)\n",
        "  Des=input('Designation:')\n",
        "  d['Designation'].append(Des)\n",
        "  Yoe=int(input('years of exp:'))\n",
        "  d['Years of Experience'].append(Yoe)\n",
        "  lang=int(input('number of lang known:'))\n",
        "  d['no of lang_known'].append(lang)\n",
        "  n=input('Do you want to continue? Yes or no :')\n",
        "  if(n=='no'):\n",
        "    break"
      ],
      "metadata": {
        "colab": {
          "base_uri": "https://localhost:8080/"
        },
        "id": "sIA8gRnY79Q1",
        "outputId": "b2004c9a-4263-4fcb-9a31-a7c22ad07c8e"
      },
      "execution_count": null,
      "outputs": [
        {
          "name": "stdout",
          "output_type": "stream",
          "text": [
            "Employee details\n",
            "Name:pk\n",
            "Salary:22000\n",
            "Designation:se\n",
            "years of exp:1\n",
            "number of lang known:5\n",
            "Do you want to continue? Yes or no :Yes\n",
            "Name:rk\n",
            "Salary:25000\n",
            "Designation:sse\n",
            "years of exp:2\n",
            "number of lang known:5\n",
            "Do you want to continue? Yes or no :no\n"
          ]
        }
      ]
    },
    {
      "cell_type": "code",
      "source": [
        "print('Employee details')\n",
        "while(True):\n",
        "  name=input('Name:')\n",
        "  d['Name'].append(name)\n",
        "  Sal=int(input('Salary:'))\n",
        "  d['Salary'].append(Sal)\n",
        "  Des=input('Designation:')\n",
        "  d['Designation'].append(Des)\n",
        "  Yoe=int(input('years of exp:'))\n",
        "  d['Years of Experience'].append(Yoe)\n",
        "  lang=int(input('number of lang known:'))\n",
        "  d['no of lang_known'].append(lang)\n",
        "  n=input('Do you want to continue? Yes or no :')\n",
        "  if(n=='no'):\n",
        "    break"
      ],
      "metadata": {
        "colab": {
          "base_uri": "https://localhost:8080/"
        },
        "outputId": "1525d3ea-3f88-4866-ceea-dc3af358a243",
        "id": "X82l4DEqHtBP"
      },
      "execution_count": null,
      "outputs": [
        {
          "name": "stdout",
          "output_type": "stream",
          "text": [
            "Employee details\n",
            "Name:Pavi\n",
            "Salary:22000\n",
            "Designation:Associate engineer\n",
            "years of exp:2\n",
            "number of lang known:5\n",
            "Do you want to continue? Yes or no :Yes\n",
            "Name:Veena\n",
            "Salary:20000\n",
            "Designation:Associate software engineer\n",
            "years of exp:1\n",
            "number of lang known:3\n",
            "Do you want to continue? Yes or no :Yes\n",
            "Name:Arush\n",
            "Salary:30000\n",
            "Designation:engineer\n",
            "years of exp:3\n",
            "number of lang known:4\n",
            "Do you want to continue? Yes or no :Yes\n",
            "Name:Anu\n",
            "Salary:25000\n",
            "Designation:senior associate\n",
            "years of exp:3\n",
            "number of lang known:3\n",
            "Do you want to continue? Yes or no :Yes\n",
            "Name:Amish\n",
            "Salary:35000\n",
            "Designation:senior engineer\n",
            "years of exp:4\n",
            "number of lang known:3\n",
            "Do you want to continue? Yes or no :Yes\n",
            "Name:Naveen\n",
            "Salary:36000\n",
            "Designation:associate consultant\n",
            "years of exp:4\n",
            "number of lang known:4\n",
            "Do you want to continue? Yes or no :Yes\n",
            "Name:praveen\n",
            "Salary:40000\n",
            "Designation:senior consultant\n",
            "years of exp:5\n",
            "number of lang known:5\n",
            "Do you want to continue? Yes or no :Yes\n",
            "Name:Raki\n",
            "Salary:55000\n",
            "Designation:Architect\n",
            "years of exp:5\n",
            "number of lang known:5\n",
            "Do you want to continue? Yes or no :Yes\n",
            "Name:Rakesh\n",
            "Salary:60000\n",
            "Designation:Senior Architect\n",
            "years of exp:5\n",
            "number of lang known:5\n",
            "Do you want to continue? Yes or no :Yes\n",
            "Name:Ramu\n",
            "Salary:70000\n",
            "Designation:director\n",
            "years of exp:6\n",
            "number of lang known:5\n",
            "Do you want to continue? Yes or no :Yes\n",
            "Name:Ram\n",
            "Salary:75000\n",
            "Designation:senior director\n",
            "years of exp:6\n",
            "number of lang known:4\n",
            "Do you want to continue? Yes or no :Yes\n",
            "Name:kv\n",
            "Salary:78000\n",
            "Designation:senior director\n",
            "years of exp:7\n",
            "number of lang known:5\n",
            "Do you want to continue? Yes or no :Yes\n",
            "Name:AR\n",
            "Salary:80000\n",
            "Designation:dr\n",
            "years of exp:8\n",
            "number of lang known:5\n",
            "Do you want to continue? Yes or no :Yes\n",
            "Name:rk\n",
            "Salary:81000\n",
            "Designation:sd\n",
            "years of exp:9\n",
            "number of lang known:5\n",
            "Do you want to continue? Yes or no :Yes\n",
            "Name:pk\n",
            "Salary:82000\n",
            "Designation:sdd\n",
            "years of exp:9\n",
            "number of lang known:5\n",
            "Do you want to continue? Yes or no :no\n"
          ]
        }
      ]
    },
    {
      "cell_type": "markdown",
      "source": [
        "# **Pandas**"
      ],
      "metadata": {
        "id": "Cj6e91HJ7jmm"
      }
    },
    {
      "cell_type": "code",
      "source": [
        "#pandas/1.series\n",
        "import pandas as pd\n",
        "import numpy as np"
      ],
      "metadata": {
        "id": "nXiPG7Tg_nGT"
      },
      "execution_count": 17,
      "outputs": []
    },
    {
      "cell_type": "code",
      "source": [
        "l=[1,2,3,4,5,6]\n",
        "n=np.array(l)\n",
        "print(l)\n",
        "print(n)\n",
        "s=pd.Series(l)\n",
        "print(s)"
      ],
      "metadata": {
        "colab": {
          "base_uri": "https://localhost:8080/"
        },
        "id": "wUEurW5G_z3z",
        "outputId": "70f00b3e-b540-49e0-b0e4-47dd14117fbf"
      },
      "execution_count": 19,
      "outputs": [
        {
          "output_type": "stream",
          "name": "stdout",
          "text": [
            "[1, 2, 3, 4, 5, 6]\n",
            "[1 2 3 4 5 6]\n",
            "0    1\n",
            "1    2\n",
            "2    3\n",
            "3    4\n",
            "4    5\n",
            "5    6\n",
            "dtype: int64\n"
          ]
        }
      ]
    },
    {
      "cell_type": "code",
      "source": [
        "l=[1,2,3,4,5,6]\n",
        "n=np.array(l)\n",
        "print(l)\n",
        "print(n)\n",
        "s=pd.Series(l,index=['a','b','c','d','e','f'])\n",
        "print(s)"
      ],
      "metadata": {
        "colab": {
          "base_uri": "https://localhost:8080/"
        },
        "id": "FS9p7YOSDq5y",
        "outputId": "74fc1ed7-a7fb-419e-ccc5-3e4a5e9d73d4"
      },
      "execution_count": 20,
      "outputs": [
        {
          "output_type": "stream",
          "name": "stdout",
          "text": [
            "[1, 2, 3, 4, 5, 6]\n",
            "[1 2 3 4 5 6]\n",
            "a    1\n",
            "b    2\n",
            "c    3\n",
            "d    4\n",
            "e    5\n",
            "f    6\n",
            "dtype: int64\n"
          ]
        }
      ]
    },
    {
      "cell_type": "code",
      "source": [
        "l=[1,2,3,4,5,6,7.1]\n",
        "n=np.array(l)\n",
        "print(l)\n",
        "print(n)\n",
        "s=pd.Series(l)\n",
        "print(s)"
      ],
      "metadata": {
        "colab": {
          "base_uri": "https://localhost:8080/"
        },
        "id": "bPHd0YPrD6nD",
        "outputId": "7885a982-fb66-4435-cc2f-711405509fe3"
      },
      "execution_count": 21,
      "outputs": [
        {
          "output_type": "stream",
          "name": "stdout",
          "text": [
            "[1, 2, 3, 4, 5, 6, 7.1]\n",
            "[1.  2.  3.  4.  5.  6.  7.1]\n",
            "0    1.0\n",
            "1    2.0\n",
            "2    3.0\n",
            "3    4.0\n",
            "4    5.0\n",
            "5    6.0\n",
            "6    7.1\n",
            "dtype: float64\n"
          ]
        }
      ]
    },
    {
      "cell_type": "code",
      "source": [
        "l=[1,2,3,4,5,6,'hey']\n",
        "n=np.array(l)\n",
        "print(l)\n",
        "print(n)\n",
        "s=pd.Series(l)\n",
        "print(s)"
      ],
      "metadata": {
        "colab": {
          "base_uri": "https://localhost:8080/"
        },
        "id": "7vycf3uOD-P4",
        "outputId": "84fd7742-2e3e-480c-d9ba-50987f02aa37"
      },
      "execution_count": 22,
      "outputs": [
        {
          "output_type": "stream",
          "name": "stdout",
          "text": [
            "[1, 2, 3, 4, 5, 6, 'hey']\n",
            "['1' '2' '3' '4' '5' '6' 'hey']\n",
            "0      1\n",
            "1      2\n",
            "2      3\n",
            "3      4\n",
            "4      5\n",
            "5      6\n",
            "6    hey\n",
            "dtype: object\n"
          ]
        }
      ]
    },
    {
      "cell_type": "code",
      "source": [
        "#pandas/2.DataFrame\n",
        "dfa=pd.DataFrame(l)\n",
        "dfa"
      ],
      "metadata": {
        "colab": {
          "base_uri": "https://localhost:8080/",
          "height": 269
        },
        "id": "Udd2PlGXEQoZ",
        "outputId": "c827b236-db91-4df3-c297-f756e202b121"
      },
      "execution_count": 23,
      "outputs": [
        {
          "output_type": "execute_result",
          "data": {
            "text/plain": [
              "     0\n",
              "0    1\n",
              "1    2\n",
              "2    3\n",
              "3    4\n",
              "4    5\n",
              "5    6\n",
              "6  hey"
            ],
            "text/html": [
              "\n",
              "  <div id=\"df-ab76d60f-7e47-4326-bb5d-caf600186062\" class=\"colab-df-container\">\n",
              "    <div>\n",
              "<style scoped>\n",
              "    .dataframe tbody tr th:only-of-type {\n",
              "        vertical-align: middle;\n",
              "    }\n",
              "\n",
              "    .dataframe tbody tr th {\n",
              "        vertical-align: top;\n",
              "    }\n",
              "\n",
              "    .dataframe thead th {\n",
              "        text-align: right;\n",
              "    }\n",
              "</style>\n",
              "<table border=\"1\" class=\"dataframe\">\n",
              "  <thead>\n",
              "    <tr style=\"text-align: right;\">\n",
              "      <th></th>\n",
              "      <th>0</th>\n",
              "    </tr>\n",
              "  </thead>\n",
              "  <tbody>\n",
              "    <tr>\n",
              "      <th>0</th>\n",
              "      <td>1</td>\n",
              "    </tr>\n",
              "    <tr>\n",
              "      <th>1</th>\n",
              "      <td>2</td>\n",
              "    </tr>\n",
              "    <tr>\n",
              "      <th>2</th>\n",
              "      <td>3</td>\n",
              "    </tr>\n",
              "    <tr>\n",
              "      <th>3</th>\n",
              "      <td>4</td>\n",
              "    </tr>\n",
              "    <tr>\n",
              "      <th>4</th>\n",
              "      <td>5</td>\n",
              "    </tr>\n",
              "    <tr>\n",
              "      <th>5</th>\n",
              "      <td>6</td>\n",
              "    </tr>\n",
              "    <tr>\n",
              "      <th>6</th>\n",
              "      <td>hey</td>\n",
              "    </tr>\n",
              "  </tbody>\n",
              "</table>\n",
              "</div>\n",
              "    <div class=\"colab-df-buttons\">\n",
              "\n",
              "  <div class=\"colab-df-container\">\n",
              "    <button class=\"colab-df-convert\" onclick=\"convertToInteractive('df-ab76d60f-7e47-4326-bb5d-caf600186062')\"\n",
              "            title=\"Convert this dataframe to an interactive table.\"\n",
              "            style=\"display:none;\">\n",
              "\n",
              "  <svg xmlns=\"http://www.w3.org/2000/svg\" height=\"24px\" viewBox=\"0 -960 960 960\">\n",
              "    <path d=\"M120-120v-720h720v720H120Zm60-500h600v-160H180v160Zm220 220h160v-160H400v160Zm0 220h160v-160H400v160ZM180-400h160v-160H180v160Zm440 0h160v-160H620v160ZM180-180h160v-160H180v160Zm440 0h160v-160H620v160Z\"/>\n",
              "  </svg>\n",
              "    </button>\n",
              "\n",
              "  <style>\n",
              "    .colab-df-container {\n",
              "      display:flex;\n",
              "      gap: 12px;\n",
              "    }\n",
              "\n",
              "    .colab-df-convert {\n",
              "      background-color: #E8F0FE;\n",
              "      border: none;\n",
              "      border-radius: 50%;\n",
              "      cursor: pointer;\n",
              "      display: none;\n",
              "      fill: #1967D2;\n",
              "      height: 32px;\n",
              "      padding: 0 0 0 0;\n",
              "      width: 32px;\n",
              "    }\n",
              "\n",
              "    .colab-df-convert:hover {\n",
              "      background-color: #E2EBFA;\n",
              "      box-shadow: 0px 1px 2px rgba(60, 64, 67, 0.3), 0px 1px 3px 1px rgba(60, 64, 67, 0.15);\n",
              "      fill: #174EA6;\n",
              "    }\n",
              "\n",
              "    .colab-df-buttons div {\n",
              "      margin-bottom: 4px;\n",
              "    }\n",
              "\n",
              "    [theme=dark] .colab-df-convert {\n",
              "      background-color: #3B4455;\n",
              "      fill: #D2E3FC;\n",
              "    }\n",
              "\n",
              "    [theme=dark] .colab-df-convert:hover {\n",
              "      background-color: #434B5C;\n",
              "      box-shadow: 0px 1px 3px 1px rgba(0, 0, 0, 0.15);\n",
              "      filter: drop-shadow(0px 1px 2px rgba(0, 0, 0, 0.3));\n",
              "      fill: #FFFFFF;\n",
              "    }\n",
              "  </style>\n",
              "\n",
              "    <script>\n",
              "      const buttonEl =\n",
              "        document.querySelector('#df-ab76d60f-7e47-4326-bb5d-caf600186062 button.colab-df-convert');\n",
              "      buttonEl.style.display =\n",
              "        google.colab.kernel.accessAllowed ? 'block' : 'none';\n",
              "\n",
              "      async function convertToInteractive(key) {\n",
              "        const element = document.querySelector('#df-ab76d60f-7e47-4326-bb5d-caf600186062');\n",
              "        const dataTable =\n",
              "          await google.colab.kernel.invokeFunction('convertToInteractive',\n",
              "                                                    [key], {});\n",
              "        if (!dataTable) return;\n",
              "\n",
              "        const docLinkHtml = 'Like what you see? Visit the ' +\n",
              "          '<a target=\"_blank\" href=https://colab.research.google.com/notebooks/data_table.ipynb>data table notebook</a>'\n",
              "          + ' to learn more about interactive tables.';\n",
              "        element.innerHTML = '';\n",
              "        dataTable['output_type'] = 'display_data';\n",
              "        await google.colab.output.renderOutput(dataTable, element);\n",
              "        const docLink = document.createElement('div');\n",
              "        docLink.innerHTML = docLinkHtml;\n",
              "        element.appendChild(docLink);\n",
              "      }\n",
              "    </script>\n",
              "  </div>\n",
              "\n",
              "\n",
              "<div id=\"df-d3d201f1-85f6-491a-b81b-eda3c45162b2\">\n",
              "  <button class=\"colab-df-quickchart\" onclick=\"quickchart('df-d3d201f1-85f6-491a-b81b-eda3c45162b2')\"\n",
              "            title=\"Suggest charts\"\n",
              "            style=\"display:none;\">\n",
              "\n",
              "<svg xmlns=\"http://www.w3.org/2000/svg\" height=\"24px\"viewBox=\"0 0 24 24\"\n",
              "     width=\"24px\">\n",
              "    <g>\n",
              "        <path d=\"M19 3H5c-1.1 0-2 .9-2 2v14c0 1.1.9 2 2 2h14c1.1 0 2-.9 2-2V5c0-1.1-.9-2-2-2zM9 17H7v-7h2v7zm4 0h-2V7h2v10zm4 0h-2v-4h2v4z\"/>\n",
              "    </g>\n",
              "</svg>\n",
              "  </button>\n",
              "\n",
              "<style>\n",
              "  .colab-df-quickchart {\n",
              "      --bg-color: #E8F0FE;\n",
              "      --fill-color: #1967D2;\n",
              "      --hover-bg-color: #E2EBFA;\n",
              "      --hover-fill-color: #174EA6;\n",
              "      --disabled-fill-color: #AAA;\n",
              "      --disabled-bg-color: #DDD;\n",
              "  }\n",
              "\n",
              "  [theme=dark] .colab-df-quickchart {\n",
              "      --bg-color: #3B4455;\n",
              "      --fill-color: #D2E3FC;\n",
              "      --hover-bg-color: #434B5C;\n",
              "      --hover-fill-color: #FFFFFF;\n",
              "      --disabled-bg-color: #3B4455;\n",
              "      --disabled-fill-color: #666;\n",
              "  }\n",
              "\n",
              "  .colab-df-quickchart {\n",
              "    background-color: var(--bg-color);\n",
              "    border: none;\n",
              "    border-radius: 50%;\n",
              "    cursor: pointer;\n",
              "    display: none;\n",
              "    fill: var(--fill-color);\n",
              "    height: 32px;\n",
              "    padding: 0;\n",
              "    width: 32px;\n",
              "  }\n",
              "\n",
              "  .colab-df-quickchart:hover {\n",
              "    background-color: var(--hover-bg-color);\n",
              "    box-shadow: 0 1px 2px rgba(60, 64, 67, 0.3), 0 1px 3px 1px rgba(60, 64, 67, 0.15);\n",
              "    fill: var(--button-hover-fill-color);\n",
              "  }\n",
              "\n",
              "  .colab-df-quickchart-complete:disabled,\n",
              "  .colab-df-quickchart-complete:disabled:hover {\n",
              "    background-color: var(--disabled-bg-color);\n",
              "    fill: var(--disabled-fill-color);\n",
              "    box-shadow: none;\n",
              "  }\n",
              "\n",
              "  .colab-df-spinner {\n",
              "    border: 2px solid var(--fill-color);\n",
              "    border-color: transparent;\n",
              "    border-bottom-color: var(--fill-color);\n",
              "    animation:\n",
              "      spin 1s steps(1) infinite;\n",
              "  }\n",
              "\n",
              "  @keyframes spin {\n",
              "    0% {\n",
              "      border-color: transparent;\n",
              "      border-bottom-color: var(--fill-color);\n",
              "      border-left-color: var(--fill-color);\n",
              "    }\n",
              "    20% {\n",
              "      border-color: transparent;\n",
              "      border-left-color: var(--fill-color);\n",
              "      border-top-color: var(--fill-color);\n",
              "    }\n",
              "    30% {\n",
              "      border-color: transparent;\n",
              "      border-left-color: var(--fill-color);\n",
              "      border-top-color: var(--fill-color);\n",
              "      border-right-color: var(--fill-color);\n",
              "    }\n",
              "    40% {\n",
              "      border-color: transparent;\n",
              "      border-right-color: var(--fill-color);\n",
              "      border-top-color: var(--fill-color);\n",
              "    }\n",
              "    60% {\n",
              "      border-color: transparent;\n",
              "      border-right-color: var(--fill-color);\n",
              "    }\n",
              "    80% {\n",
              "      border-color: transparent;\n",
              "      border-right-color: var(--fill-color);\n",
              "      border-bottom-color: var(--fill-color);\n",
              "    }\n",
              "    90% {\n",
              "      border-color: transparent;\n",
              "      border-bottom-color: var(--fill-color);\n",
              "    }\n",
              "  }\n",
              "</style>\n",
              "\n",
              "  <script>\n",
              "    async function quickchart(key) {\n",
              "      const quickchartButtonEl =\n",
              "        document.querySelector('#' + key + ' button');\n",
              "      quickchartButtonEl.disabled = true;  // To prevent multiple clicks.\n",
              "      quickchartButtonEl.classList.add('colab-df-spinner');\n",
              "      try {\n",
              "        const charts = await google.colab.kernel.invokeFunction(\n",
              "            'suggestCharts', [key], {});\n",
              "      } catch (error) {\n",
              "        console.error('Error during call to suggestCharts:', error);\n",
              "      }\n",
              "      quickchartButtonEl.classList.remove('colab-df-spinner');\n",
              "      quickchartButtonEl.classList.add('colab-df-quickchart-complete');\n",
              "    }\n",
              "    (() => {\n",
              "      let quickchartButtonEl =\n",
              "        document.querySelector('#df-d3d201f1-85f6-491a-b81b-eda3c45162b2 button');\n",
              "      quickchartButtonEl.style.display =\n",
              "        google.colab.kernel.accessAllowed ? 'block' : 'none';\n",
              "    })();\n",
              "  </script>\n",
              "</div>\n",
              "\n",
              "  <div id=\"id_e1f12002-e6d0-4364-9019-2c959c93d3f0\">\n",
              "    <style>\n",
              "      .colab-df-generate {\n",
              "        background-color: #E8F0FE;\n",
              "        border: none;\n",
              "        border-radius: 50%;\n",
              "        cursor: pointer;\n",
              "        display: none;\n",
              "        fill: #1967D2;\n",
              "        height: 32px;\n",
              "        padding: 0 0 0 0;\n",
              "        width: 32px;\n",
              "      }\n",
              "\n",
              "      .colab-df-generate:hover {\n",
              "        background-color: #E2EBFA;\n",
              "        box-shadow: 0px 1px 2px rgba(60, 64, 67, 0.3), 0px 1px 3px 1px rgba(60, 64, 67, 0.15);\n",
              "        fill: #174EA6;\n",
              "      }\n",
              "\n",
              "      [theme=dark] .colab-df-generate {\n",
              "        background-color: #3B4455;\n",
              "        fill: #D2E3FC;\n",
              "      }\n",
              "\n",
              "      [theme=dark] .colab-df-generate:hover {\n",
              "        background-color: #434B5C;\n",
              "        box-shadow: 0px 1px 3px 1px rgba(0, 0, 0, 0.15);\n",
              "        filter: drop-shadow(0px 1px 2px rgba(0, 0, 0, 0.3));\n",
              "        fill: #FFFFFF;\n",
              "      }\n",
              "    </style>\n",
              "    <button class=\"colab-df-generate\" onclick=\"generateWithVariable('dfa')\"\n",
              "            title=\"Generate code using this dataframe.\"\n",
              "            style=\"display:none;\">\n",
              "\n",
              "  <svg xmlns=\"http://www.w3.org/2000/svg\" height=\"24px\"viewBox=\"0 0 24 24\"\n",
              "       width=\"24px\">\n",
              "    <path d=\"M7,19H8.4L18.45,9,17,7.55,7,17.6ZM5,21V16.75L18.45,3.32a2,2,0,0,1,2.83,0l1.4,1.43a1.91,1.91,0,0,1,.58,1.4,1.91,1.91,0,0,1-.58,1.4L9.25,21ZM18.45,9,17,7.55Zm-12,3A5.31,5.31,0,0,0,4.9,8.1,5.31,5.31,0,0,0,1,6.5,5.31,5.31,0,0,0,4.9,4.9,5.31,5.31,0,0,0,6.5,1,5.31,5.31,0,0,0,8.1,4.9,5.31,5.31,0,0,0,12,6.5,5.46,5.46,0,0,0,6.5,12Z\"/>\n",
              "  </svg>\n",
              "    </button>\n",
              "    <script>\n",
              "      (() => {\n",
              "      const buttonEl =\n",
              "        document.querySelector('#id_e1f12002-e6d0-4364-9019-2c959c93d3f0 button.colab-df-generate');\n",
              "      buttonEl.style.display =\n",
              "        google.colab.kernel.accessAllowed ? 'block' : 'none';\n",
              "\n",
              "      buttonEl.onclick = () => {\n",
              "        google.colab.notebook.generateWithVariable('dfa');\n",
              "      }\n",
              "      })();\n",
              "    </script>\n",
              "  </div>\n",
              "\n",
              "    </div>\n",
              "  </div>\n"
            ],
            "application/vnd.google.colaboratory.intrinsic+json": {
              "type": "dataframe",
              "variable_name": "dfa",
              "summary": "{\n  \"name\": \"dfa\",\n  \"rows\": 7,\n  \"fields\": [\n    {\n      \"column\": 0,\n      \"properties\": {\n        \"dtype\": \"string\",\n        \"num_unique_values\": 7,\n        \"samples\": [\n          1,\n          2,\n          6\n        ],\n        \"semantic_type\": \"\",\n        \"description\": \"\"\n      }\n    }\n  ]\n}"
            }
          },
          "metadata": {},
          "execution_count": 23
        }
      ]
    },
    {
      "cell_type": "code",
      "source": [
        "a=np.array([2,3,4,5,6,7,89,12,14]).reshape((3,3))\n",
        "a"
      ],
      "metadata": {
        "colab": {
          "base_uri": "https://localhost:8080/"
        },
        "id": "CkduZ2v_Ecte",
        "outputId": "cb9a7c08-8577-4a02-ab51-d0f09a6c7d9b"
      },
      "execution_count": 24,
      "outputs": [
        {
          "output_type": "execute_result",
          "data": {
            "text/plain": [
              "array([[ 2,  3,  4],\n",
              "       [ 5,  6,  7],\n",
              "       [89, 12, 14]])"
            ]
          },
          "metadata": {},
          "execution_count": 24
        }
      ]
    },
    {
      "cell_type": "code",
      "source": [
        "a=np.array([2,3,4,5,6,7,89,12,14]).reshape((3,3))\n"
      ],
      "metadata": {
        "id": "tIj69F8AEzFi"
      },
      "execution_count": 25,
      "outputs": []
    },
    {
      "cell_type": "code",
      "source": [
        "dfa=pd.DataFrame(a)\n",
        "dfa"
      ],
      "metadata": {
        "colab": {
          "base_uri": "https://localhost:8080/",
          "height": 143
        },
        "id": "dldyPH8YE6rX",
        "outputId": "5deff215-de43-44c0-cc32-47c33d6fa1f6"
      },
      "execution_count": 26,
      "outputs": [
        {
          "output_type": "execute_result",
          "data": {
            "text/plain": [
              "    0   1   2\n",
              "0   2   3   4\n",
              "1   5   6   7\n",
              "2  89  12  14"
            ],
            "text/html": [
              "\n",
              "  <div id=\"df-caf00f3b-c52a-40a4-90f0-27084dc603db\" class=\"colab-df-container\">\n",
              "    <div>\n",
              "<style scoped>\n",
              "    .dataframe tbody tr th:only-of-type {\n",
              "        vertical-align: middle;\n",
              "    }\n",
              "\n",
              "    .dataframe tbody tr th {\n",
              "        vertical-align: top;\n",
              "    }\n",
              "\n",
              "    .dataframe thead th {\n",
              "        text-align: right;\n",
              "    }\n",
              "</style>\n",
              "<table border=\"1\" class=\"dataframe\">\n",
              "  <thead>\n",
              "    <tr style=\"text-align: right;\">\n",
              "      <th></th>\n",
              "      <th>0</th>\n",
              "      <th>1</th>\n",
              "      <th>2</th>\n",
              "    </tr>\n",
              "  </thead>\n",
              "  <tbody>\n",
              "    <tr>\n",
              "      <th>0</th>\n",
              "      <td>2</td>\n",
              "      <td>3</td>\n",
              "      <td>4</td>\n",
              "    </tr>\n",
              "    <tr>\n",
              "      <th>1</th>\n",
              "      <td>5</td>\n",
              "      <td>6</td>\n",
              "      <td>7</td>\n",
              "    </tr>\n",
              "    <tr>\n",
              "      <th>2</th>\n",
              "      <td>89</td>\n",
              "      <td>12</td>\n",
              "      <td>14</td>\n",
              "    </tr>\n",
              "  </tbody>\n",
              "</table>\n",
              "</div>\n",
              "    <div class=\"colab-df-buttons\">\n",
              "\n",
              "  <div class=\"colab-df-container\">\n",
              "    <button class=\"colab-df-convert\" onclick=\"convertToInteractive('df-caf00f3b-c52a-40a4-90f0-27084dc603db')\"\n",
              "            title=\"Convert this dataframe to an interactive table.\"\n",
              "            style=\"display:none;\">\n",
              "\n",
              "  <svg xmlns=\"http://www.w3.org/2000/svg\" height=\"24px\" viewBox=\"0 -960 960 960\">\n",
              "    <path d=\"M120-120v-720h720v720H120Zm60-500h600v-160H180v160Zm220 220h160v-160H400v160Zm0 220h160v-160H400v160ZM180-400h160v-160H180v160Zm440 0h160v-160H620v160ZM180-180h160v-160H180v160Zm440 0h160v-160H620v160Z\"/>\n",
              "  </svg>\n",
              "    </button>\n",
              "\n",
              "  <style>\n",
              "    .colab-df-container {\n",
              "      display:flex;\n",
              "      gap: 12px;\n",
              "    }\n",
              "\n",
              "    .colab-df-convert {\n",
              "      background-color: #E8F0FE;\n",
              "      border: none;\n",
              "      border-radius: 50%;\n",
              "      cursor: pointer;\n",
              "      display: none;\n",
              "      fill: #1967D2;\n",
              "      height: 32px;\n",
              "      padding: 0 0 0 0;\n",
              "      width: 32px;\n",
              "    }\n",
              "\n",
              "    .colab-df-convert:hover {\n",
              "      background-color: #E2EBFA;\n",
              "      box-shadow: 0px 1px 2px rgba(60, 64, 67, 0.3), 0px 1px 3px 1px rgba(60, 64, 67, 0.15);\n",
              "      fill: #174EA6;\n",
              "    }\n",
              "\n",
              "    .colab-df-buttons div {\n",
              "      margin-bottom: 4px;\n",
              "    }\n",
              "\n",
              "    [theme=dark] .colab-df-convert {\n",
              "      background-color: #3B4455;\n",
              "      fill: #D2E3FC;\n",
              "    }\n",
              "\n",
              "    [theme=dark] .colab-df-convert:hover {\n",
              "      background-color: #434B5C;\n",
              "      box-shadow: 0px 1px 3px 1px rgba(0, 0, 0, 0.15);\n",
              "      filter: drop-shadow(0px 1px 2px rgba(0, 0, 0, 0.3));\n",
              "      fill: #FFFFFF;\n",
              "    }\n",
              "  </style>\n",
              "\n",
              "    <script>\n",
              "      const buttonEl =\n",
              "        document.querySelector('#df-caf00f3b-c52a-40a4-90f0-27084dc603db button.colab-df-convert');\n",
              "      buttonEl.style.display =\n",
              "        google.colab.kernel.accessAllowed ? 'block' : 'none';\n",
              "\n",
              "      async function convertToInteractive(key) {\n",
              "        const element = document.querySelector('#df-caf00f3b-c52a-40a4-90f0-27084dc603db');\n",
              "        const dataTable =\n",
              "          await google.colab.kernel.invokeFunction('convertToInteractive',\n",
              "                                                    [key], {});\n",
              "        if (!dataTable) return;\n",
              "\n",
              "        const docLinkHtml = 'Like what you see? Visit the ' +\n",
              "          '<a target=\"_blank\" href=https://colab.research.google.com/notebooks/data_table.ipynb>data table notebook</a>'\n",
              "          + ' to learn more about interactive tables.';\n",
              "        element.innerHTML = '';\n",
              "        dataTable['output_type'] = 'display_data';\n",
              "        await google.colab.output.renderOutput(dataTable, element);\n",
              "        const docLink = document.createElement('div');\n",
              "        docLink.innerHTML = docLinkHtml;\n",
              "        element.appendChild(docLink);\n",
              "      }\n",
              "    </script>\n",
              "  </div>\n",
              "\n",
              "\n",
              "<div id=\"df-3151ef3c-591d-4245-86d1-83aed485228b\">\n",
              "  <button class=\"colab-df-quickchart\" onclick=\"quickchart('df-3151ef3c-591d-4245-86d1-83aed485228b')\"\n",
              "            title=\"Suggest charts\"\n",
              "            style=\"display:none;\">\n",
              "\n",
              "<svg xmlns=\"http://www.w3.org/2000/svg\" height=\"24px\"viewBox=\"0 0 24 24\"\n",
              "     width=\"24px\">\n",
              "    <g>\n",
              "        <path d=\"M19 3H5c-1.1 0-2 .9-2 2v14c0 1.1.9 2 2 2h14c1.1 0 2-.9 2-2V5c0-1.1-.9-2-2-2zM9 17H7v-7h2v7zm4 0h-2V7h2v10zm4 0h-2v-4h2v4z\"/>\n",
              "    </g>\n",
              "</svg>\n",
              "  </button>\n",
              "\n",
              "<style>\n",
              "  .colab-df-quickchart {\n",
              "      --bg-color: #E8F0FE;\n",
              "      --fill-color: #1967D2;\n",
              "      --hover-bg-color: #E2EBFA;\n",
              "      --hover-fill-color: #174EA6;\n",
              "      --disabled-fill-color: #AAA;\n",
              "      --disabled-bg-color: #DDD;\n",
              "  }\n",
              "\n",
              "  [theme=dark] .colab-df-quickchart {\n",
              "      --bg-color: #3B4455;\n",
              "      --fill-color: #D2E3FC;\n",
              "      --hover-bg-color: #434B5C;\n",
              "      --hover-fill-color: #FFFFFF;\n",
              "      --disabled-bg-color: #3B4455;\n",
              "      --disabled-fill-color: #666;\n",
              "  }\n",
              "\n",
              "  .colab-df-quickchart {\n",
              "    background-color: var(--bg-color);\n",
              "    border: none;\n",
              "    border-radius: 50%;\n",
              "    cursor: pointer;\n",
              "    display: none;\n",
              "    fill: var(--fill-color);\n",
              "    height: 32px;\n",
              "    padding: 0;\n",
              "    width: 32px;\n",
              "  }\n",
              "\n",
              "  .colab-df-quickchart:hover {\n",
              "    background-color: var(--hover-bg-color);\n",
              "    box-shadow: 0 1px 2px rgba(60, 64, 67, 0.3), 0 1px 3px 1px rgba(60, 64, 67, 0.15);\n",
              "    fill: var(--button-hover-fill-color);\n",
              "  }\n",
              "\n",
              "  .colab-df-quickchart-complete:disabled,\n",
              "  .colab-df-quickchart-complete:disabled:hover {\n",
              "    background-color: var(--disabled-bg-color);\n",
              "    fill: var(--disabled-fill-color);\n",
              "    box-shadow: none;\n",
              "  }\n",
              "\n",
              "  .colab-df-spinner {\n",
              "    border: 2px solid var(--fill-color);\n",
              "    border-color: transparent;\n",
              "    border-bottom-color: var(--fill-color);\n",
              "    animation:\n",
              "      spin 1s steps(1) infinite;\n",
              "  }\n",
              "\n",
              "  @keyframes spin {\n",
              "    0% {\n",
              "      border-color: transparent;\n",
              "      border-bottom-color: var(--fill-color);\n",
              "      border-left-color: var(--fill-color);\n",
              "    }\n",
              "    20% {\n",
              "      border-color: transparent;\n",
              "      border-left-color: var(--fill-color);\n",
              "      border-top-color: var(--fill-color);\n",
              "    }\n",
              "    30% {\n",
              "      border-color: transparent;\n",
              "      border-left-color: var(--fill-color);\n",
              "      border-top-color: var(--fill-color);\n",
              "      border-right-color: var(--fill-color);\n",
              "    }\n",
              "    40% {\n",
              "      border-color: transparent;\n",
              "      border-right-color: var(--fill-color);\n",
              "      border-top-color: var(--fill-color);\n",
              "    }\n",
              "    60% {\n",
              "      border-color: transparent;\n",
              "      border-right-color: var(--fill-color);\n",
              "    }\n",
              "    80% {\n",
              "      border-color: transparent;\n",
              "      border-right-color: var(--fill-color);\n",
              "      border-bottom-color: var(--fill-color);\n",
              "    }\n",
              "    90% {\n",
              "      border-color: transparent;\n",
              "      border-bottom-color: var(--fill-color);\n",
              "    }\n",
              "  }\n",
              "</style>\n",
              "\n",
              "  <script>\n",
              "    async function quickchart(key) {\n",
              "      const quickchartButtonEl =\n",
              "        document.querySelector('#' + key + ' button');\n",
              "      quickchartButtonEl.disabled = true;  // To prevent multiple clicks.\n",
              "      quickchartButtonEl.classList.add('colab-df-spinner');\n",
              "      try {\n",
              "        const charts = await google.colab.kernel.invokeFunction(\n",
              "            'suggestCharts', [key], {});\n",
              "      } catch (error) {\n",
              "        console.error('Error during call to suggestCharts:', error);\n",
              "      }\n",
              "      quickchartButtonEl.classList.remove('colab-df-spinner');\n",
              "      quickchartButtonEl.classList.add('colab-df-quickchart-complete');\n",
              "    }\n",
              "    (() => {\n",
              "      let quickchartButtonEl =\n",
              "        document.querySelector('#df-3151ef3c-591d-4245-86d1-83aed485228b button');\n",
              "      quickchartButtonEl.style.display =\n",
              "        google.colab.kernel.accessAllowed ? 'block' : 'none';\n",
              "    })();\n",
              "  </script>\n",
              "</div>\n",
              "\n",
              "  <div id=\"id_f2a370ca-7898-4d9b-b5e0-30d9a382f71a\">\n",
              "    <style>\n",
              "      .colab-df-generate {\n",
              "        background-color: #E8F0FE;\n",
              "        border: none;\n",
              "        border-radius: 50%;\n",
              "        cursor: pointer;\n",
              "        display: none;\n",
              "        fill: #1967D2;\n",
              "        height: 32px;\n",
              "        padding: 0 0 0 0;\n",
              "        width: 32px;\n",
              "      }\n",
              "\n",
              "      .colab-df-generate:hover {\n",
              "        background-color: #E2EBFA;\n",
              "        box-shadow: 0px 1px 2px rgba(60, 64, 67, 0.3), 0px 1px 3px 1px rgba(60, 64, 67, 0.15);\n",
              "        fill: #174EA6;\n",
              "      }\n",
              "\n",
              "      [theme=dark] .colab-df-generate {\n",
              "        background-color: #3B4455;\n",
              "        fill: #D2E3FC;\n",
              "      }\n",
              "\n",
              "      [theme=dark] .colab-df-generate:hover {\n",
              "        background-color: #434B5C;\n",
              "        box-shadow: 0px 1px 3px 1px rgba(0, 0, 0, 0.15);\n",
              "        filter: drop-shadow(0px 1px 2px rgba(0, 0, 0, 0.3));\n",
              "        fill: #FFFFFF;\n",
              "      }\n",
              "    </style>\n",
              "    <button class=\"colab-df-generate\" onclick=\"generateWithVariable('dfa')\"\n",
              "            title=\"Generate code using this dataframe.\"\n",
              "            style=\"display:none;\">\n",
              "\n",
              "  <svg xmlns=\"http://www.w3.org/2000/svg\" height=\"24px\"viewBox=\"0 0 24 24\"\n",
              "       width=\"24px\">\n",
              "    <path d=\"M7,19H8.4L18.45,9,17,7.55,7,17.6ZM5,21V16.75L18.45,3.32a2,2,0,0,1,2.83,0l1.4,1.43a1.91,1.91,0,0,1,.58,1.4,1.91,1.91,0,0,1-.58,1.4L9.25,21ZM18.45,9,17,7.55Zm-12,3A5.31,5.31,0,0,0,4.9,8.1,5.31,5.31,0,0,0,1,6.5,5.31,5.31,0,0,0,4.9,4.9,5.31,5.31,0,0,0,6.5,1,5.31,5.31,0,0,0,8.1,4.9,5.31,5.31,0,0,0,12,6.5,5.46,5.46,0,0,0,6.5,12Z\"/>\n",
              "  </svg>\n",
              "    </button>\n",
              "    <script>\n",
              "      (() => {\n",
              "      const buttonEl =\n",
              "        document.querySelector('#id_f2a370ca-7898-4d9b-b5e0-30d9a382f71a button.colab-df-generate');\n",
              "      buttonEl.style.display =\n",
              "        google.colab.kernel.accessAllowed ? 'block' : 'none';\n",
              "\n",
              "      buttonEl.onclick = () => {\n",
              "        google.colab.notebook.generateWithVariable('dfa');\n",
              "      }\n",
              "      })();\n",
              "    </script>\n",
              "  </div>\n",
              "\n",
              "    </div>\n",
              "  </div>\n"
            ],
            "application/vnd.google.colaboratory.intrinsic+json": {
              "type": "dataframe",
              "variable_name": "dfa",
              "summary": "{\n  \"name\": \"dfa\",\n  \"rows\": 3,\n  \"fields\": [\n    {\n      \"column\": 0,\n      \"properties\": {\n        \"dtype\": \"number\",\n        \"std\": 49,\n        \"min\": 2,\n        \"max\": 89,\n        \"num_unique_values\": 3,\n        \"samples\": [\n          2,\n          5,\n          89\n        ],\n        \"semantic_type\": \"\",\n        \"description\": \"\"\n      }\n    },\n    {\n      \"column\": 1,\n      \"properties\": {\n        \"dtype\": \"number\",\n        \"std\": 4,\n        \"min\": 3,\n        \"max\": 12,\n        \"num_unique_values\": 3,\n        \"samples\": [\n          3,\n          6,\n          12\n        ],\n        \"semantic_type\": \"\",\n        \"description\": \"\"\n      }\n    },\n    {\n      \"column\": 2,\n      \"properties\": {\n        \"dtype\": \"number\",\n        \"std\": 5,\n        \"min\": 4,\n        \"max\": 14,\n        \"num_unique_values\": 3,\n        \"samples\": [\n          4,\n          7,\n          14\n        ],\n        \"semantic_type\": \"\",\n        \"description\": \"\"\n      }\n    }\n  ]\n}"
            }
          },
          "metadata": {},
          "execution_count": 26
        }
      ]
    },
    {
      "cell_type": "code",
      "source": [
        "a=np.array([2,3,4,5,6,7,89,12,14]).reshape((3,3))\n",
        "dfa=pd.DataFrame(a,index=['a1','a2','a3'],columns=['c1','c2','c3'])\n",
        "dfa"
      ],
      "metadata": {
        "colab": {
          "base_uri": "https://localhost:8080/",
          "height": 143
        },
        "id": "t0B0GbwEFDA2",
        "outputId": "9d348053-bff2-4315-b26b-0a09e86dc083"
      },
      "execution_count": 27,
      "outputs": [
        {
          "output_type": "execute_result",
          "data": {
            "text/plain": [
              "    c1  c2  c3\n",
              "a1   2   3   4\n",
              "a2   5   6   7\n",
              "a3  89  12  14"
            ],
            "text/html": [
              "\n",
              "  <div id=\"df-649259ef-7916-4144-9c5f-d8cfea2f0c2d\" class=\"colab-df-container\">\n",
              "    <div>\n",
              "<style scoped>\n",
              "    .dataframe tbody tr th:only-of-type {\n",
              "        vertical-align: middle;\n",
              "    }\n",
              "\n",
              "    .dataframe tbody tr th {\n",
              "        vertical-align: top;\n",
              "    }\n",
              "\n",
              "    .dataframe thead th {\n",
              "        text-align: right;\n",
              "    }\n",
              "</style>\n",
              "<table border=\"1\" class=\"dataframe\">\n",
              "  <thead>\n",
              "    <tr style=\"text-align: right;\">\n",
              "      <th></th>\n",
              "      <th>c1</th>\n",
              "      <th>c2</th>\n",
              "      <th>c3</th>\n",
              "    </tr>\n",
              "  </thead>\n",
              "  <tbody>\n",
              "    <tr>\n",
              "      <th>a1</th>\n",
              "      <td>2</td>\n",
              "      <td>3</td>\n",
              "      <td>4</td>\n",
              "    </tr>\n",
              "    <tr>\n",
              "      <th>a2</th>\n",
              "      <td>5</td>\n",
              "      <td>6</td>\n",
              "      <td>7</td>\n",
              "    </tr>\n",
              "    <tr>\n",
              "      <th>a3</th>\n",
              "      <td>89</td>\n",
              "      <td>12</td>\n",
              "      <td>14</td>\n",
              "    </tr>\n",
              "  </tbody>\n",
              "</table>\n",
              "</div>\n",
              "    <div class=\"colab-df-buttons\">\n",
              "\n",
              "  <div class=\"colab-df-container\">\n",
              "    <button class=\"colab-df-convert\" onclick=\"convertToInteractive('df-649259ef-7916-4144-9c5f-d8cfea2f0c2d')\"\n",
              "            title=\"Convert this dataframe to an interactive table.\"\n",
              "            style=\"display:none;\">\n",
              "\n",
              "  <svg xmlns=\"http://www.w3.org/2000/svg\" height=\"24px\" viewBox=\"0 -960 960 960\">\n",
              "    <path d=\"M120-120v-720h720v720H120Zm60-500h600v-160H180v160Zm220 220h160v-160H400v160Zm0 220h160v-160H400v160ZM180-400h160v-160H180v160Zm440 0h160v-160H620v160ZM180-180h160v-160H180v160Zm440 0h160v-160H620v160Z\"/>\n",
              "  </svg>\n",
              "    </button>\n",
              "\n",
              "  <style>\n",
              "    .colab-df-container {\n",
              "      display:flex;\n",
              "      gap: 12px;\n",
              "    }\n",
              "\n",
              "    .colab-df-convert {\n",
              "      background-color: #E8F0FE;\n",
              "      border: none;\n",
              "      border-radius: 50%;\n",
              "      cursor: pointer;\n",
              "      display: none;\n",
              "      fill: #1967D2;\n",
              "      height: 32px;\n",
              "      padding: 0 0 0 0;\n",
              "      width: 32px;\n",
              "    }\n",
              "\n",
              "    .colab-df-convert:hover {\n",
              "      background-color: #E2EBFA;\n",
              "      box-shadow: 0px 1px 2px rgba(60, 64, 67, 0.3), 0px 1px 3px 1px rgba(60, 64, 67, 0.15);\n",
              "      fill: #174EA6;\n",
              "    }\n",
              "\n",
              "    .colab-df-buttons div {\n",
              "      margin-bottom: 4px;\n",
              "    }\n",
              "\n",
              "    [theme=dark] .colab-df-convert {\n",
              "      background-color: #3B4455;\n",
              "      fill: #D2E3FC;\n",
              "    }\n",
              "\n",
              "    [theme=dark] .colab-df-convert:hover {\n",
              "      background-color: #434B5C;\n",
              "      box-shadow: 0px 1px 3px 1px rgba(0, 0, 0, 0.15);\n",
              "      filter: drop-shadow(0px 1px 2px rgba(0, 0, 0, 0.3));\n",
              "      fill: #FFFFFF;\n",
              "    }\n",
              "  </style>\n",
              "\n",
              "    <script>\n",
              "      const buttonEl =\n",
              "        document.querySelector('#df-649259ef-7916-4144-9c5f-d8cfea2f0c2d button.colab-df-convert');\n",
              "      buttonEl.style.display =\n",
              "        google.colab.kernel.accessAllowed ? 'block' : 'none';\n",
              "\n",
              "      async function convertToInteractive(key) {\n",
              "        const element = document.querySelector('#df-649259ef-7916-4144-9c5f-d8cfea2f0c2d');\n",
              "        const dataTable =\n",
              "          await google.colab.kernel.invokeFunction('convertToInteractive',\n",
              "                                                    [key], {});\n",
              "        if (!dataTable) return;\n",
              "\n",
              "        const docLinkHtml = 'Like what you see? Visit the ' +\n",
              "          '<a target=\"_blank\" href=https://colab.research.google.com/notebooks/data_table.ipynb>data table notebook</a>'\n",
              "          + ' to learn more about interactive tables.';\n",
              "        element.innerHTML = '';\n",
              "        dataTable['output_type'] = 'display_data';\n",
              "        await google.colab.output.renderOutput(dataTable, element);\n",
              "        const docLink = document.createElement('div');\n",
              "        docLink.innerHTML = docLinkHtml;\n",
              "        element.appendChild(docLink);\n",
              "      }\n",
              "    </script>\n",
              "  </div>\n",
              "\n",
              "\n",
              "<div id=\"df-ca33e526-7e18-4a61-8deb-53332acf7a0f\">\n",
              "  <button class=\"colab-df-quickchart\" onclick=\"quickchart('df-ca33e526-7e18-4a61-8deb-53332acf7a0f')\"\n",
              "            title=\"Suggest charts\"\n",
              "            style=\"display:none;\">\n",
              "\n",
              "<svg xmlns=\"http://www.w3.org/2000/svg\" height=\"24px\"viewBox=\"0 0 24 24\"\n",
              "     width=\"24px\">\n",
              "    <g>\n",
              "        <path d=\"M19 3H5c-1.1 0-2 .9-2 2v14c0 1.1.9 2 2 2h14c1.1 0 2-.9 2-2V5c0-1.1-.9-2-2-2zM9 17H7v-7h2v7zm4 0h-2V7h2v10zm4 0h-2v-4h2v4z\"/>\n",
              "    </g>\n",
              "</svg>\n",
              "  </button>\n",
              "\n",
              "<style>\n",
              "  .colab-df-quickchart {\n",
              "      --bg-color: #E8F0FE;\n",
              "      --fill-color: #1967D2;\n",
              "      --hover-bg-color: #E2EBFA;\n",
              "      --hover-fill-color: #174EA6;\n",
              "      --disabled-fill-color: #AAA;\n",
              "      --disabled-bg-color: #DDD;\n",
              "  }\n",
              "\n",
              "  [theme=dark] .colab-df-quickchart {\n",
              "      --bg-color: #3B4455;\n",
              "      --fill-color: #D2E3FC;\n",
              "      --hover-bg-color: #434B5C;\n",
              "      --hover-fill-color: #FFFFFF;\n",
              "      --disabled-bg-color: #3B4455;\n",
              "      --disabled-fill-color: #666;\n",
              "  }\n",
              "\n",
              "  .colab-df-quickchart {\n",
              "    background-color: var(--bg-color);\n",
              "    border: none;\n",
              "    border-radius: 50%;\n",
              "    cursor: pointer;\n",
              "    display: none;\n",
              "    fill: var(--fill-color);\n",
              "    height: 32px;\n",
              "    padding: 0;\n",
              "    width: 32px;\n",
              "  }\n",
              "\n",
              "  .colab-df-quickchart:hover {\n",
              "    background-color: var(--hover-bg-color);\n",
              "    box-shadow: 0 1px 2px rgba(60, 64, 67, 0.3), 0 1px 3px 1px rgba(60, 64, 67, 0.15);\n",
              "    fill: var(--button-hover-fill-color);\n",
              "  }\n",
              "\n",
              "  .colab-df-quickchart-complete:disabled,\n",
              "  .colab-df-quickchart-complete:disabled:hover {\n",
              "    background-color: var(--disabled-bg-color);\n",
              "    fill: var(--disabled-fill-color);\n",
              "    box-shadow: none;\n",
              "  }\n",
              "\n",
              "  .colab-df-spinner {\n",
              "    border: 2px solid var(--fill-color);\n",
              "    border-color: transparent;\n",
              "    border-bottom-color: var(--fill-color);\n",
              "    animation:\n",
              "      spin 1s steps(1) infinite;\n",
              "  }\n",
              "\n",
              "  @keyframes spin {\n",
              "    0% {\n",
              "      border-color: transparent;\n",
              "      border-bottom-color: var(--fill-color);\n",
              "      border-left-color: var(--fill-color);\n",
              "    }\n",
              "    20% {\n",
              "      border-color: transparent;\n",
              "      border-left-color: var(--fill-color);\n",
              "      border-top-color: var(--fill-color);\n",
              "    }\n",
              "    30% {\n",
              "      border-color: transparent;\n",
              "      border-left-color: var(--fill-color);\n",
              "      border-top-color: var(--fill-color);\n",
              "      border-right-color: var(--fill-color);\n",
              "    }\n",
              "    40% {\n",
              "      border-color: transparent;\n",
              "      border-right-color: var(--fill-color);\n",
              "      border-top-color: var(--fill-color);\n",
              "    }\n",
              "    60% {\n",
              "      border-color: transparent;\n",
              "      border-right-color: var(--fill-color);\n",
              "    }\n",
              "    80% {\n",
              "      border-color: transparent;\n",
              "      border-right-color: var(--fill-color);\n",
              "      border-bottom-color: var(--fill-color);\n",
              "    }\n",
              "    90% {\n",
              "      border-color: transparent;\n",
              "      border-bottom-color: var(--fill-color);\n",
              "    }\n",
              "  }\n",
              "</style>\n",
              "\n",
              "  <script>\n",
              "    async function quickchart(key) {\n",
              "      const quickchartButtonEl =\n",
              "        document.querySelector('#' + key + ' button');\n",
              "      quickchartButtonEl.disabled = true;  // To prevent multiple clicks.\n",
              "      quickchartButtonEl.classList.add('colab-df-spinner');\n",
              "      try {\n",
              "        const charts = await google.colab.kernel.invokeFunction(\n",
              "            'suggestCharts', [key], {});\n",
              "      } catch (error) {\n",
              "        console.error('Error during call to suggestCharts:', error);\n",
              "      }\n",
              "      quickchartButtonEl.classList.remove('colab-df-spinner');\n",
              "      quickchartButtonEl.classList.add('colab-df-quickchart-complete');\n",
              "    }\n",
              "    (() => {\n",
              "      let quickchartButtonEl =\n",
              "        document.querySelector('#df-ca33e526-7e18-4a61-8deb-53332acf7a0f button');\n",
              "      quickchartButtonEl.style.display =\n",
              "        google.colab.kernel.accessAllowed ? 'block' : 'none';\n",
              "    })();\n",
              "  </script>\n",
              "</div>\n",
              "\n",
              "  <div id=\"id_675760b9-2f06-47bf-b4bf-9a835edf2c7e\">\n",
              "    <style>\n",
              "      .colab-df-generate {\n",
              "        background-color: #E8F0FE;\n",
              "        border: none;\n",
              "        border-radius: 50%;\n",
              "        cursor: pointer;\n",
              "        display: none;\n",
              "        fill: #1967D2;\n",
              "        height: 32px;\n",
              "        padding: 0 0 0 0;\n",
              "        width: 32px;\n",
              "      }\n",
              "\n",
              "      .colab-df-generate:hover {\n",
              "        background-color: #E2EBFA;\n",
              "        box-shadow: 0px 1px 2px rgba(60, 64, 67, 0.3), 0px 1px 3px 1px rgba(60, 64, 67, 0.15);\n",
              "        fill: #174EA6;\n",
              "      }\n",
              "\n",
              "      [theme=dark] .colab-df-generate {\n",
              "        background-color: #3B4455;\n",
              "        fill: #D2E3FC;\n",
              "      }\n",
              "\n",
              "      [theme=dark] .colab-df-generate:hover {\n",
              "        background-color: #434B5C;\n",
              "        box-shadow: 0px 1px 3px 1px rgba(0, 0, 0, 0.15);\n",
              "        filter: drop-shadow(0px 1px 2px rgba(0, 0, 0, 0.3));\n",
              "        fill: #FFFFFF;\n",
              "      }\n",
              "    </style>\n",
              "    <button class=\"colab-df-generate\" onclick=\"generateWithVariable('dfa')\"\n",
              "            title=\"Generate code using this dataframe.\"\n",
              "            style=\"display:none;\">\n",
              "\n",
              "  <svg xmlns=\"http://www.w3.org/2000/svg\" height=\"24px\"viewBox=\"0 0 24 24\"\n",
              "       width=\"24px\">\n",
              "    <path d=\"M7,19H8.4L18.45,9,17,7.55,7,17.6ZM5,21V16.75L18.45,3.32a2,2,0,0,1,2.83,0l1.4,1.43a1.91,1.91,0,0,1,.58,1.4,1.91,1.91,0,0,1-.58,1.4L9.25,21ZM18.45,9,17,7.55Zm-12,3A5.31,5.31,0,0,0,4.9,8.1,5.31,5.31,0,0,0,1,6.5,5.31,5.31,0,0,0,4.9,4.9,5.31,5.31,0,0,0,6.5,1,5.31,5.31,0,0,0,8.1,4.9,5.31,5.31,0,0,0,12,6.5,5.46,5.46,0,0,0,6.5,12Z\"/>\n",
              "  </svg>\n",
              "    </button>\n",
              "    <script>\n",
              "      (() => {\n",
              "      const buttonEl =\n",
              "        document.querySelector('#id_675760b9-2f06-47bf-b4bf-9a835edf2c7e button.colab-df-generate');\n",
              "      buttonEl.style.display =\n",
              "        google.colab.kernel.accessAllowed ? 'block' : 'none';\n",
              "\n",
              "      buttonEl.onclick = () => {\n",
              "        google.colab.notebook.generateWithVariable('dfa');\n",
              "      }\n",
              "      })();\n",
              "    </script>\n",
              "  </div>\n",
              "\n",
              "    </div>\n",
              "  </div>\n"
            ],
            "application/vnd.google.colaboratory.intrinsic+json": {
              "type": "dataframe",
              "variable_name": "dfa",
              "summary": "{\n  \"name\": \"dfa\",\n  \"rows\": 3,\n  \"fields\": [\n    {\n      \"column\": \"c1\",\n      \"properties\": {\n        \"dtype\": \"number\",\n        \"std\": 49,\n        \"min\": 2,\n        \"max\": 89,\n        \"num_unique_values\": 3,\n        \"samples\": [\n          2,\n          5,\n          89\n        ],\n        \"semantic_type\": \"\",\n        \"description\": \"\"\n      }\n    },\n    {\n      \"column\": \"c2\",\n      \"properties\": {\n        \"dtype\": \"number\",\n        \"std\": 4,\n        \"min\": 3,\n        \"max\": 12,\n        \"num_unique_values\": 3,\n        \"samples\": [\n          3,\n          6,\n          12\n        ],\n        \"semantic_type\": \"\",\n        \"description\": \"\"\n      }\n    },\n    {\n      \"column\": \"c3\",\n      \"properties\": {\n        \"dtype\": \"number\",\n        \"std\": 5,\n        \"min\": 4,\n        \"max\": 14,\n        \"num_unique_values\": 3,\n        \"samples\": [\n          4,\n          7,\n          14\n        ],\n        \"semantic_type\": \"\",\n        \"description\": \"\"\n      }\n    }\n  ]\n}"
            }
          },
          "metadata": {},
          "execution_count": 27
        }
      ]
    },
    {
      "cell_type": "code",
      "source": [
        "dfa.to_csv('c1.csv')"
      ],
      "metadata": {
        "id": "QETuJSE7FbGI"
      },
      "execution_count": 28,
      "outputs": []
    },
    {
      "cell_type": "code",
      "source": [
        "d={\n",
        "    'Names':['nishu','pavi','p','raveen'],\n",
        "    'marks':[92,93,94,95]\n",
        "}"
      ],
      "metadata": {
        "id": "_a9_TmmiQeg3"
      },
      "execution_count": 29,
      "outputs": []
    },
    {
      "cell_type": "code",
      "source": [
        "n=pd.DataFrame(d)\n",
        "n"
      ],
      "metadata": {
        "colab": {
          "base_uri": "https://localhost:8080/",
          "height": 175
        },
        "id": "Re1Jx3PoQesA",
        "outputId": "1fcc6b0f-5d83-4884-dfd5-acd0dbb43d3a"
      },
      "execution_count": 30,
      "outputs": [
        {
          "output_type": "execute_result",
          "data": {
            "text/plain": [
              "    Names  marks\n",
              "0   nishu     92\n",
              "1    pavi     93\n",
              "2       p     94\n",
              "3  raveen     95"
            ],
            "text/html": [
              "\n",
              "  <div id=\"df-9baf872b-ec14-4ede-8375-0f07d9dd1bec\" class=\"colab-df-container\">\n",
              "    <div>\n",
              "<style scoped>\n",
              "    .dataframe tbody tr th:only-of-type {\n",
              "        vertical-align: middle;\n",
              "    }\n",
              "\n",
              "    .dataframe tbody tr th {\n",
              "        vertical-align: top;\n",
              "    }\n",
              "\n",
              "    .dataframe thead th {\n",
              "        text-align: right;\n",
              "    }\n",
              "</style>\n",
              "<table border=\"1\" class=\"dataframe\">\n",
              "  <thead>\n",
              "    <tr style=\"text-align: right;\">\n",
              "      <th></th>\n",
              "      <th>Names</th>\n",
              "      <th>marks</th>\n",
              "    </tr>\n",
              "  </thead>\n",
              "  <tbody>\n",
              "    <tr>\n",
              "      <th>0</th>\n",
              "      <td>nishu</td>\n",
              "      <td>92</td>\n",
              "    </tr>\n",
              "    <tr>\n",
              "      <th>1</th>\n",
              "      <td>pavi</td>\n",
              "      <td>93</td>\n",
              "    </tr>\n",
              "    <tr>\n",
              "      <th>2</th>\n",
              "      <td>p</td>\n",
              "      <td>94</td>\n",
              "    </tr>\n",
              "    <tr>\n",
              "      <th>3</th>\n",
              "      <td>raveen</td>\n",
              "      <td>95</td>\n",
              "    </tr>\n",
              "  </tbody>\n",
              "</table>\n",
              "</div>\n",
              "    <div class=\"colab-df-buttons\">\n",
              "\n",
              "  <div class=\"colab-df-container\">\n",
              "    <button class=\"colab-df-convert\" onclick=\"convertToInteractive('df-9baf872b-ec14-4ede-8375-0f07d9dd1bec')\"\n",
              "            title=\"Convert this dataframe to an interactive table.\"\n",
              "            style=\"display:none;\">\n",
              "\n",
              "  <svg xmlns=\"http://www.w3.org/2000/svg\" height=\"24px\" viewBox=\"0 -960 960 960\">\n",
              "    <path d=\"M120-120v-720h720v720H120Zm60-500h600v-160H180v160Zm220 220h160v-160H400v160Zm0 220h160v-160H400v160ZM180-400h160v-160H180v160Zm440 0h160v-160H620v160ZM180-180h160v-160H180v160Zm440 0h160v-160H620v160Z\"/>\n",
              "  </svg>\n",
              "    </button>\n",
              "\n",
              "  <style>\n",
              "    .colab-df-container {\n",
              "      display:flex;\n",
              "      gap: 12px;\n",
              "    }\n",
              "\n",
              "    .colab-df-convert {\n",
              "      background-color: #E8F0FE;\n",
              "      border: none;\n",
              "      border-radius: 50%;\n",
              "      cursor: pointer;\n",
              "      display: none;\n",
              "      fill: #1967D2;\n",
              "      height: 32px;\n",
              "      padding: 0 0 0 0;\n",
              "      width: 32px;\n",
              "    }\n",
              "\n",
              "    .colab-df-convert:hover {\n",
              "      background-color: #E2EBFA;\n",
              "      box-shadow: 0px 1px 2px rgba(60, 64, 67, 0.3), 0px 1px 3px 1px rgba(60, 64, 67, 0.15);\n",
              "      fill: #174EA6;\n",
              "    }\n",
              "\n",
              "    .colab-df-buttons div {\n",
              "      margin-bottom: 4px;\n",
              "    }\n",
              "\n",
              "    [theme=dark] .colab-df-convert {\n",
              "      background-color: #3B4455;\n",
              "      fill: #D2E3FC;\n",
              "    }\n",
              "\n",
              "    [theme=dark] .colab-df-convert:hover {\n",
              "      background-color: #434B5C;\n",
              "      box-shadow: 0px 1px 3px 1px rgba(0, 0, 0, 0.15);\n",
              "      filter: drop-shadow(0px 1px 2px rgba(0, 0, 0, 0.3));\n",
              "      fill: #FFFFFF;\n",
              "    }\n",
              "  </style>\n",
              "\n",
              "    <script>\n",
              "      const buttonEl =\n",
              "        document.querySelector('#df-9baf872b-ec14-4ede-8375-0f07d9dd1bec button.colab-df-convert');\n",
              "      buttonEl.style.display =\n",
              "        google.colab.kernel.accessAllowed ? 'block' : 'none';\n",
              "\n",
              "      async function convertToInteractive(key) {\n",
              "        const element = document.querySelector('#df-9baf872b-ec14-4ede-8375-0f07d9dd1bec');\n",
              "        const dataTable =\n",
              "          await google.colab.kernel.invokeFunction('convertToInteractive',\n",
              "                                                    [key], {});\n",
              "        if (!dataTable) return;\n",
              "\n",
              "        const docLinkHtml = 'Like what you see? Visit the ' +\n",
              "          '<a target=\"_blank\" href=https://colab.research.google.com/notebooks/data_table.ipynb>data table notebook</a>'\n",
              "          + ' to learn more about interactive tables.';\n",
              "        element.innerHTML = '';\n",
              "        dataTable['output_type'] = 'display_data';\n",
              "        await google.colab.output.renderOutput(dataTable, element);\n",
              "        const docLink = document.createElement('div');\n",
              "        docLink.innerHTML = docLinkHtml;\n",
              "        element.appendChild(docLink);\n",
              "      }\n",
              "    </script>\n",
              "  </div>\n",
              "\n",
              "\n",
              "<div id=\"df-5b1890ef-5062-4cab-9cfc-5d00fd56bd97\">\n",
              "  <button class=\"colab-df-quickchart\" onclick=\"quickchart('df-5b1890ef-5062-4cab-9cfc-5d00fd56bd97')\"\n",
              "            title=\"Suggest charts\"\n",
              "            style=\"display:none;\">\n",
              "\n",
              "<svg xmlns=\"http://www.w3.org/2000/svg\" height=\"24px\"viewBox=\"0 0 24 24\"\n",
              "     width=\"24px\">\n",
              "    <g>\n",
              "        <path d=\"M19 3H5c-1.1 0-2 .9-2 2v14c0 1.1.9 2 2 2h14c1.1 0 2-.9 2-2V5c0-1.1-.9-2-2-2zM9 17H7v-7h2v7zm4 0h-2V7h2v10zm4 0h-2v-4h2v4z\"/>\n",
              "    </g>\n",
              "</svg>\n",
              "  </button>\n",
              "\n",
              "<style>\n",
              "  .colab-df-quickchart {\n",
              "      --bg-color: #E8F0FE;\n",
              "      --fill-color: #1967D2;\n",
              "      --hover-bg-color: #E2EBFA;\n",
              "      --hover-fill-color: #174EA6;\n",
              "      --disabled-fill-color: #AAA;\n",
              "      --disabled-bg-color: #DDD;\n",
              "  }\n",
              "\n",
              "  [theme=dark] .colab-df-quickchart {\n",
              "      --bg-color: #3B4455;\n",
              "      --fill-color: #D2E3FC;\n",
              "      --hover-bg-color: #434B5C;\n",
              "      --hover-fill-color: #FFFFFF;\n",
              "      --disabled-bg-color: #3B4455;\n",
              "      --disabled-fill-color: #666;\n",
              "  }\n",
              "\n",
              "  .colab-df-quickchart {\n",
              "    background-color: var(--bg-color);\n",
              "    border: none;\n",
              "    border-radius: 50%;\n",
              "    cursor: pointer;\n",
              "    display: none;\n",
              "    fill: var(--fill-color);\n",
              "    height: 32px;\n",
              "    padding: 0;\n",
              "    width: 32px;\n",
              "  }\n",
              "\n",
              "  .colab-df-quickchart:hover {\n",
              "    background-color: var(--hover-bg-color);\n",
              "    box-shadow: 0 1px 2px rgba(60, 64, 67, 0.3), 0 1px 3px 1px rgba(60, 64, 67, 0.15);\n",
              "    fill: var(--button-hover-fill-color);\n",
              "  }\n",
              "\n",
              "  .colab-df-quickchart-complete:disabled,\n",
              "  .colab-df-quickchart-complete:disabled:hover {\n",
              "    background-color: var(--disabled-bg-color);\n",
              "    fill: var(--disabled-fill-color);\n",
              "    box-shadow: none;\n",
              "  }\n",
              "\n",
              "  .colab-df-spinner {\n",
              "    border: 2px solid var(--fill-color);\n",
              "    border-color: transparent;\n",
              "    border-bottom-color: var(--fill-color);\n",
              "    animation:\n",
              "      spin 1s steps(1) infinite;\n",
              "  }\n",
              "\n",
              "  @keyframes spin {\n",
              "    0% {\n",
              "      border-color: transparent;\n",
              "      border-bottom-color: var(--fill-color);\n",
              "      border-left-color: var(--fill-color);\n",
              "    }\n",
              "    20% {\n",
              "      border-color: transparent;\n",
              "      border-left-color: var(--fill-color);\n",
              "      border-top-color: var(--fill-color);\n",
              "    }\n",
              "    30% {\n",
              "      border-color: transparent;\n",
              "      border-left-color: var(--fill-color);\n",
              "      border-top-color: var(--fill-color);\n",
              "      border-right-color: var(--fill-color);\n",
              "    }\n",
              "    40% {\n",
              "      border-color: transparent;\n",
              "      border-right-color: var(--fill-color);\n",
              "      border-top-color: var(--fill-color);\n",
              "    }\n",
              "    60% {\n",
              "      border-color: transparent;\n",
              "      border-right-color: var(--fill-color);\n",
              "    }\n",
              "    80% {\n",
              "      border-color: transparent;\n",
              "      border-right-color: var(--fill-color);\n",
              "      border-bottom-color: var(--fill-color);\n",
              "    }\n",
              "    90% {\n",
              "      border-color: transparent;\n",
              "      border-bottom-color: var(--fill-color);\n",
              "    }\n",
              "  }\n",
              "</style>\n",
              "\n",
              "  <script>\n",
              "    async function quickchart(key) {\n",
              "      const quickchartButtonEl =\n",
              "        document.querySelector('#' + key + ' button');\n",
              "      quickchartButtonEl.disabled = true;  // To prevent multiple clicks.\n",
              "      quickchartButtonEl.classList.add('colab-df-spinner');\n",
              "      try {\n",
              "        const charts = await google.colab.kernel.invokeFunction(\n",
              "            'suggestCharts', [key], {});\n",
              "      } catch (error) {\n",
              "        console.error('Error during call to suggestCharts:', error);\n",
              "      }\n",
              "      quickchartButtonEl.classList.remove('colab-df-spinner');\n",
              "      quickchartButtonEl.classList.add('colab-df-quickchart-complete');\n",
              "    }\n",
              "    (() => {\n",
              "      let quickchartButtonEl =\n",
              "        document.querySelector('#df-5b1890ef-5062-4cab-9cfc-5d00fd56bd97 button');\n",
              "      quickchartButtonEl.style.display =\n",
              "        google.colab.kernel.accessAllowed ? 'block' : 'none';\n",
              "    })();\n",
              "  </script>\n",
              "</div>\n",
              "\n",
              "  <div id=\"id_1c3b8f95-fab9-4433-89f1-23800e379d66\">\n",
              "    <style>\n",
              "      .colab-df-generate {\n",
              "        background-color: #E8F0FE;\n",
              "        border: none;\n",
              "        border-radius: 50%;\n",
              "        cursor: pointer;\n",
              "        display: none;\n",
              "        fill: #1967D2;\n",
              "        height: 32px;\n",
              "        padding: 0 0 0 0;\n",
              "        width: 32px;\n",
              "      }\n",
              "\n",
              "      .colab-df-generate:hover {\n",
              "        background-color: #E2EBFA;\n",
              "        box-shadow: 0px 1px 2px rgba(60, 64, 67, 0.3), 0px 1px 3px 1px rgba(60, 64, 67, 0.15);\n",
              "        fill: #174EA6;\n",
              "      }\n",
              "\n",
              "      [theme=dark] .colab-df-generate {\n",
              "        background-color: #3B4455;\n",
              "        fill: #D2E3FC;\n",
              "      }\n",
              "\n",
              "      [theme=dark] .colab-df-generate:hover {\n",
              "        background-color: #434B5C;\n",
              "        box-shadow: 0px 1px 3px 1px rgba(0, 0, 0, 0.15);\n",
              "        filter: drop-shadow(0px 1px 2px rgba(0, 0, 0, 0.3));\n",
              "        fill: #FFFFFF;\n",
              "      }\n",
              "    </style>\n",
              "    <button class=\"colab-df-generate\" onclick=\"generateWithVariable('n')\"\n",
              "            title=\"Generate code using this dataframe.\"\n",
              "            style=\"display:none;\">\n",
              "\n",
              "  <svg xmlns=\"http://www.w3.org/2000/svg\" height=\"24px\"viewBox=\"0 0 24 24\"\n",
              "       width=\"24px\">\n",
              "    <path d=\"M7,19H8.4L18.45,9,17,7.55,7,17.6ZM5,21V16.75L18.45,3.32a2,2,0,0,1,2.83,0l1.4,1.43a1.91,1.91,0,0,1,.58,1.4,1.91,1.91,0,0,1-.58,1.4L9.25,21ZM18.45,9,17,7.55Zm-12,3A5.31,5.31,0,0,0,4.9,8.1,5.31,5.31,0,0,0,1,6.5,5.31,5.31,0,0,0,4.9,4.9,5.31,5.31,0,0,0,6.5,1,5.31,5.31,0,0,0,8.1,4.9,5.31,5.31,0,0,0,12,6.5,5.46,5.46,0,0,0,6.5,12Z\"/>\n",
              "  </svg>\n",
              "    </button>\n",
              "    <script>\n",
              "      (() => {\n",
              "      const buttonEl =\n",
              "        document.querySelector('#id_1c3b8f95-fab9-4433-89f1-23800e379d66 button.colab-df-generate');\n",
              "      buttonEl.style.display =\n",
              "        google.colab.kernel.accessAllowed ? 'block' : 'none';\n",
              "\n",
              "      buttonEl.onclick = () => {\n",
              "        google.colab.notebook.generateWithVariable('n');\n",
              "      }\n",
              "      })();\n",
              "    </script>\n",
              "  </div>\n",
              "\n",
              "    </div>\n",
              "  </div>\n"
            ],
            "application/vnd.google.colaboratory.intrinsic+json": {
              "type": "dataframe",
              "variable_name": "n",
              "summary": "{\n  \"name\": \"n\",\n  \"rows\": 4,\n  \"fields\": [\n    {\n      \"column\": \"Names\",\n      \"properties\": {\n        \"dtype\": \"string\",\n        \"num_unique_values\": 4,\n        \"samples\": [\n          \"pavi\",\n          \"raveen\",\n          \"nishu\"\n        ],\n        \"semantic_type\": \"\",\n        \"description\": \"\"\n      }\n    },\n    {\n      \"column\": \"marks\",\n      \"properties\": {\n        \"dtype\": \"number\",\n        \"std\": 1,\n        \"min\": 92,\n        \"max\": 95,\n        \"num_unique_values\": 4,\n        \"samples\": [\n          93,\n          95,\n          92\n        ],\n        \"semantic_type\": \"\",\n        \"description\": \"\"\n      }\n    }\n  ]\n}"
            }
          },
          "metadata": {},
          "execution_count": 30
        }
      ]
    },
    {
      "cell_type": "markdown",
      "source": [
        "# **Pandas and numpy**"
      ],
      "metadata": {
        "id": "PlC7crHC8U71"
      }
    },
    {
      "cell_type": "code",
      "source": [
        "import pandas as pd\n",
        "import numpy as np"
      ],
      "metadata": {
        "id": "rh6a_7mmS4tf"
      },
      "execution_count": 31,
      "outputs": []
    },
    {
      "cell_type": "code",
      "source": [
        "d={'Name': ['Sunidhi','AArya','Aarya','Indu','Anu','Padma','Vikram','Nitish','Nithya','Nutana','Sayed Fazil','bhumika','Vaishnavi','Maneesh','manoj','Vishesh','Sunidhi'],\n",
        " 'Sal': [100000,20000, 100000,200000,10000,30000,\n",
        "  40000,\n",
        "  50000,\n",
        "  60000,\n",
        "  60000,\n",
        "  70000,\n",
        "  80000,\n",
        "  90000,\n",
        "  100000,\n",
        "  80000,\n",
        "  120000,\n",
        "  130000],\n",
        " 'Des': ['Managing director',\n",
        "  'Associate Engineer',\n",
        "  'Director',\n",
        "  'Senior Director',\n",
        "  'Associate Engineer',\n",
        "  'Engineer',\n",
        "  'Senior Software Engineer',\n",
        "  'Associate consultant',\n",
        "  'consultant',\n",
        "  'Senior Consultant',\n",
        "  'Architect',\n",
        "  'Senior Architect',\n",
        "  'Managing Diresctor',\n",
        "  'director',\n",
        "  'Associate Director',\n",
        "  'Senior Director',\n",
        "  'Senior Director'],\n",
        " 'Yoe': [9, 3, 5, 10, 1, 2, 3, 4, 5, 5, 6, 8, 8, 8, 9, 10, 11],\n",
        " 'lang_known': [4, 4, 4, 5, 3, 3, 3, 4, 3, 4, 4, 4, 5, 5, 4, 5, 6]}"
      ],
      "metadata": {
        "id": "RGZpX23PIhsm"
      },
      "execution_count": 32,
      "outputs": []
    },
    {
      "cell_type": "code",
      "source": [
        "dfa=pd.DataFrame(d)\n",
        "dfa"
      ],
      "metadata": {
        "colab": {
          "base_uri": "https://localhost:8080/",
          "height": 582
        },
        "id": "VxYjNZciQSnY",
        "outputId": "73773296-8048-4b85-83b5-92c6671dc712"
      },
      "execution_count": 33,
      "outputs": [
        {
          "output_type": "execute_result",
          "data": {
            "text/plain": [
              "           Name     Sal                       Des  Yoe  lang_known\n",
              "0       Sunidhi  100000         Managing director    9           4\n",
              "1         AArya   20000        Associate Engineer    3           4\n",
              "2         Aarya  100000                  Director    5           4\n",
              "3          Indu  200000           Senior Director   10           5\n",
              "4           Anu   10000        Associate Engineer    1           3\n",
              "5         Padma   30000                  Engineer    2           3\n",
              "6        Vikram   40000  Senior Software Engineer    3           3\n",
              "7        Nitish   50000      Associate consultant    4           4\n",
              "8        Nithya   60000                consultant    5           3\n",
              "9        Nutana   60000         Senior Consultant    5           4\n",
              "10  Sayed Fazil   70000                 Architect    6           4\n",
              "11      bhumika   80000          Senior Architect    8           4\n",
              "12    Vaishnavi   90000        Managing Diresctor    8           5\n",
              "13      Maneesh  100000                  director    8           5\n",
              "14        manoj   80000        Associate Director    9           4\n",
              "15      Vishesh  120000           Senior Director   10           5\n",
              "16      Sunidhi  130000           Senior Director   11           6"
            ],
            "text/html": [
              "\n",
              "  <div id=\"df-9a1f53e6-1cd9-4395-bf57-2fdd737631ca\" class=\"colab-df-container\">\n",
              "    <div>\n",
              "<style scoped>\n",
              "    .dataframe tbody tr th:only-of-type {\n",
              "        vertical-align: middle;\n",
              "    }\n",
              "\n",
              "    .dataframe tbody tr th {\n",
              "        vertical-align: top;\n",
              "    }\n",
              "\n",
              "    .dataframe thead th {\n",
              "        text-align: right;\n",
              "    }\n",
              "</style>\n",
              "<table border=\"1\" class=\"dataframe\">\n",
              "  <thead>\n",
              "    <tr style=\"text-align: right;\">\n",
              "      <th></th>\n",
              "      <th>Name</th>\n",
              "      <th>Sal</th>\n",
              "      <th>Des</th>\n",
              "      <th>Yoe</th>\n",
              "      <th>lang_known</th>\n",
              "    </tr>\n",
              "  </thead>\n",
              "  <tbody>\n",
              "    <tr>\n",
              "      <th>0</th>\n",
              "      <td>Sunidhi</td>\n",
              "      <td>100000</td>\n",
              "      <td>Managing director</td>\n",
              "      <td>9</td>\n",
              "      <td>4</td>\n",
              "    </tr>\n",
              "    <tr>\n",
              "      <th>1</th>\n",
              "      <td>AArya</td>\n",
              "      <td>20000</td>\n",
              "      <td>Associate Engineer</td>\n",
              "      <td>3</td>\n",
              "      <td>4</td>\n",
              "    </tr>\n",
              "    <tr>\n",
              "      <th>2</th>\n",
              "      <td>Aarya</td>\n",
              "      <td>100000</td>\n",
              "      <td>Director</td>\n",
              "      <td>5</td>\n",
              "      <td>4</td>\n",
              "    </tr>\n",
              "    <tr>\n",
              "      <th>3</th>\n",
              "      <td>Indu</td>\n",
              "      <td>200000</td>\n",
              "      <td>Senior Director</td>\n",
              "      <td>10</td>\n",
              "      <td>5</td>\n",
              "    </tr>\n",
              "    <tr>\n",
              "      <th>4</th>\n",
              "      <td>Anu</td>\n",
              "      <td>10000</td>\n",
              "      <td>Associate Engineer</td>\n",
              "      <td>1</td>\n",
              "      <td>3</td>\n",
              "    </tr>\n",
              "    <tr>\n",
              "      <th>5</th>\n",
              "      <td>Padma</td>\n",
              "      <td>30000</td>\n",
              "      <td>Engineer</td>\n",
              "      <td>2</td>\n",
              "      <td>3</td>\n",
              "    </tr>\n",
              "    <tr>\n",
              "      <th>6</th>\n",
              "      <td>Vikram</td>\n",
              "      <td>40000</td>\n",
              "      <td>Senior Software Engineer</td>\n",
              "      <td>3</td>\n",
              "      <td>3</td>\n",
              "    </tr>\n",
              "    <tr>\n",
              "      <th>7</th>\n",
              "      <td>Nitish</td>\n",
              "      <td>50000</td>\n",
              "      <td>Associate consultant</td>\n",
              "      <td>4</td>\n",
              "      <td>4</td>\n",
              "    </tr>\n",
              "    <tr>\n",
              "      <th>8</th>\n",
              "      <td>Nithya</td>\n",
              "      <td>60000</td>\n",
              "      <td>consultant</td>\n",
              "      <td>5</td>\n",
              "      <td>3</td>\n",
              "    </tr>\n",
              "    <tr>\n",
              "      <th>9</th>\n",
              "      <td>Nutana</td>\n",
              "      <td>60000</td>\n",
              "      <td>Senior Consultant</td>\n",
              "      <td>5</td>\n",
              "      <td>4</td>\n",
              "    </tr>\n",
              "    <tr>\n",
              "      <th>10</th>\n",
              "      <td>Sayed Fazil</td>\n",
              "      <td>70000</td>\n",
              "      <td>Architect</td>\n",
              "      <td>6</td>\n",
              "      <td>4</td>\n",
              "    </tr>\n",
              "    <tr>\n",
              "      <th>11</th>\n",
              "      <td>bhumika</td>\n",
              "      <td>80000</td>\n",
              "      <td>Senior Architect</td>\n",
              "      <td>8</td>\n",
              "      <td>4</td>\n",
              "    </tr>\n",
              "    <tr>\n",
              "      <th>12</th>\n",
              "      <td>Vaishnavi</td>\n",
              "      <td>90000</td>\n",
              "      <td>Managing Diresctor</td>\n",
              "      <td>8</td>\n",
              "      <td>5</td>\n",
              "    </tr>\n",
              "    <tr>\n",
              "      <th>13</th>\n",
              "      <td>Maneesh</td>\n",
              "      <td>100000</td>\n",
              "      <td>director</td>\n",
              "      <td>8</td>\n",
              "      <td>5</td>\n",
              "    </tr>\n",
              "    <tr>\n",
              "      <th>14</th>\n",
              "      <td>manoj</td>\n",
              "      <td>80000</td>\n",
              "      <td>Associate Director</td>\n",
              "      <td>9</td>\n",
              "      <td>4</td>\n",
              "    </tr>\n",
              "    <tr>\n",
              "      <th>15</th>\n",
              "      <td>Vishesh</td>\n",
              "      <td>120000</td>\n",
              "      <td>Senior Director</td>\n",
              "      <td>10</td>\n",
              "      <td>5</td>\n",
              "    </tr>\n",
              "    <tr>\n",
              "      <th>16</th>\n",
              "      <td>Sunidhi</td>\n",
              "      <td>130000</td>\n",
              "      <td>Senior Director</td>\n",
              "      <td>11</td>\n",
              "      <td>6</td>\n",
              "    </tr>\n",
              "  </tbody>\n",
              "</table>\n",
              "</div>\n",
              "    <div class=\"colab-df-buttons\">\n",
              "\n",
              "  <div class=\"colab-df-container\">\n",
              "    <button class=\"colab-df-convert\" onclick=\"convertToInteractive('df-9a1f53e6-1cd9-4395-bf57-2fdd737631ca')\"\n",
              "            title=\"Convert this dataframe to an interactive table.\"\n",
              "            style=\"display:none;\">\n",
              "\n",
              "  <svg xmlns=\"http://www.w3.org/2000/svg\" height=\"24px\" viewBox=\"0 -960 960 960\">\n",
              "    <path d=\"M120-120v-720h720v720H120Zm60-500h600v-160H180v160Zm220 220h160v-160H400v160Zm0 220h160v-160H400v160ZM180-400h160v-160H180v160Zm440 0h160v-160H620v160ZM180-180h160v-160H180v160Zm440 0h160v-160H620v160Z\"/>\n",
              "  </svg>\n",
              "    </button>\n",
              "\n",
              "  <style>\n",
              "    .colab-df-container {\n",
              "      display:flex;\n",
              "      gap: 12px;\n",
              "    }\n",
              "\n",
              "    .colab-df-convert {\n",
              "      background-color: #E8F0FE;\n",
              "      border: none;\n",
              "      border-radius: 50%;\n",
              "      cursor: pointer;\n",
              "      display: none;\n",
              "      fill: #1967D2;\n",
              "      height: 32px;\n",
              "      padding: 0 0 0 0;\n",
              "      width: 32px;\n",
              "    }\n",
              "\n",
              "    .colab-df-convert:hover {\n",
              "      background-color: #E2EBFA;\n",
              "      box-shadow: 0px 1px 2px rgba(60, 64, 67, 0.3), 0px 1px 3px 1px rgba(60, 64, 67, 0.15);\n",
              "      fill: #174EA6;\n",
              "    }\n",
              "\n",
              "    .colab-df-buttons div {\n",
              "      margin-bottom: 4px;\n",
              "    }\n",
              "\n",
              "    [theme=dark] .colab-df-convert {\n",
              "      background-color: #3B4455;\n",
              "      fill: #D2E3FC;\n",
              "    }\n",
              "\n",
              "    [theme=dark] .colab-df-convert:hover {\n",
              "      background-color: #434B5C;\n",
              "      box-shadow: 0px 1px 3px 1px rgba(0, 0, 0, 0.15);\n",
              "      filter: drop-shadow(0px 1px 2px rgba(0, 0, 0, 0.3));\n",
              "      fill: #FFFFFF;\n",
              "    }\n",
              "  </style>\n",
              "\n",
              "    <script>\n",
              "      const buttonEl =\n",
              "        document.querySelector('#df-9a1f53e6-1cd9-4395-bf57-2fdd737631ca button.colab-df-convert');\n",
              "      buttonEl.style.display =\n",
              "        google.colab.kernel.accessAllowed ? 'block' : 'none';\n",
              "\n",
              "      async function convertToInteractive(key) {\n",
              "        const element = document.querySelector('#df-9a1f53e6-1cd9-4395-bf57-2fdd737631ca');\n",
              "        const dataTable =\n",
              "          await google.colab.kernel.invokeFunction('convertToInteractive',\n",
              "                                                    [key], {});\n",
              "        if (!dataTable) return;\n",
              "\n",
              "        const docLinkHtml = 'Like what you see? Visit the ' +\n",
              "          '<a target=\"_blank\" href=https://colab.research.google.com/notebooks/data_table.ipynb>data table notebook</a>'\n",
              "          + ' to learn more about interactive tables.';\n",
              "        element.innerHTML = '';\n",
              "        dataTable['output_type'] = 'display_data';\n",
              "        await google.colab.output.renderOutput(dataTable, element);\n",
              "        const docLink = document.createElement('div');\n",
              "        docLink.innerHTML = docLinkHtml;\n",
              "        element.appendChild(docLink);\n",
              "      }\n",
              "    </script>\n",
              "  </div>\n",
              "\n",
              "\n",
              "<div id=\"df-93d52d2e-ddd1-47a8-b9e3-b32641612a17\">\n",
              "  <button class=\"colab-df-quickchart\" onclick=\"quickchart('df-93d52d2e-ddd1-47a8-b9e3-b32641612a17')\"\n",
              "            title=\"Suggest charts\"\n",
              "            style=\"display:none;\">\n",
              "\n",
              "<svg xmlns=\"http://www.w3.org/2000/svg\" height=\"24px\"viewBox=\"0 0 24 24\"\n",
              "     width=\"24px\">\n",
              "    <g>\n",
              "        <path d=\"M19 3H5c-1.1 0-2 .9-2 2v14c0 1.1.9 2 2 2h14c1.1 0 2-.9 2-2V5c0-1.1-.9-2-2-2zM9 17H7v-7h2v7zm4 0h-2V7h2v10zm4 0h-2v-4h2v4z\"/>\n",
              "    </g>\n",
              "</svg>\n",
              "  </button>\n",
              "\n",
              "<style>\n",
              "  .colab-df-quickchart {\n",
              "      --bg-color: #E8F0FE;\n",
              "      --fill-color: #1967D2;\n",
              "      --hover-bg-color: #E2EBFA;\n",
              "      --hover-fill-color: #174EA6;\n",
              "      --disabled-fill-color: #AAA;\n",
              "      --disabled-bg-color: #DDD;\n",
              "  }\n",
              "\n",
              "  [theme=dark] .colab-df-quickchart {\n",
              "      --bg-color: #3B4455;\n",
              "      --fill-color: #D2E3FC;\n",
              "      --hover-bg-color: #434B5C;\n",
              "      --hover-fill-color: #FFFFFF;\n",
              "      --disabled-bg-color: #3B4455;\n",
              "      --disabled-fill-color: #666;\n",
              "  }\n",
              "\n",
              "  .colab-df-quickchart {\n",
              "    background-color: var(--bg-color);\n",
              "    border: none;\n",
              "    border-radius: 50%;\n",
              "    cursor: pointer;\n",
              "    display: none;\n",
              "    fill: var(--fill-color);\n",
              "    height: 32px;\n",
              "    padding: 0;\n",
              "    width: 32px;\n",
              "  }\n",
              "\n",
              "  .colab-df-quickchart:hover {\n",
              "    background-color: var(--hover-bg-color);\n",
              "    box-shadow: 0 1px 2px rgba(60, 64, 67, 0.3), 0 1px 3px 1px rgba(60, 64, 67, 0.15);\n",
              "    fill: var(--button-hover-fill-color);\n",
              "  }\n",
              "\n",
              "  .colab-df-quickchart-complete:disabled,\n",
              "  .colab-df-quickchart-complete:disabled:hover {\n",
              "    background-color: var(--disabled-bg-color);\n",
              "    fill: var(--disabled-fill-color);\n",
              "    box-shadow: none;\n",
              "  }\n",
              "\n",
              "  .colab-df-spinner {\n",
              "    border: 2px solid var(--fill-color);\n",
              "    border-color: transparent;\n",
              "    border-bottom-color: var(--fill-color);\n",
              "    animation:\n",
              "      spin 1s steps(1) infinite;\n",
              "  }\n",
              "\n",
              "  @keyframes spin {\n",
              "    0% {\n",
              "      border-color: transparent;\n",
              "      border-bottom-color: var(--fill-color);\n",
              "      border-left-color: var(--fill-color);\n",
              "    }\n",
              "    20% {\n",
              "      border-color: transparent;\n",
              "      border-left-color: var(--fill-color);\n",
              "      border-top-color: var(--fill-color);\n",
              "    }\n",
              "    30% {\n",
              "      border-color: transparent;\n",
              "      border-left-color: var(--fill-color);\n",
              "      border-top-color: var(--fill-color);\n",
              "      border-right-color: var(--fill-color);\n",
              "    }\n",
              "    40% {\n",
              "      border-color: transparent;\n",
              "      border-right-color: var(--fill-color);\n",
              "      border-top-color: var(--fill-color);\n",
              "    }\n",
              "    60% {\n",
              "      border-color: transparent;\n",
              "      border-right-color: var(--fill-color);\n",
              "    }\n",
              "    80% {\n",
              "      border-color: transparent;\n",
              "      border-right-color: var(--fill-color);\n",
              "      border-bottom-color: var(--fill-color);\n",
              "    }\n",
              "    90% {\n",
              "      border-color: transparent;\n",
              "      border-bottom-color: var(--fill-color);\n",
              "    }\n",
              "  }\n",
              "</style>\n",
              "\n",
              "  <script>\n",
              "    async function quickchart(key) {\n",
              "      const quickchartButtonEl =\n",
              "        document.querySelector('#' + key + ' button');\n",
              "      quickchartButtonEl.disabled = true;  // To prevent multiple clicks.\n",
              "      quickchartButtonEl.classList.add('colab-df-spinner');\n",
              "      try {\n",
              "        const charts = await google.colab.kernel.invokeFunction(\n",
              "            'suggestCharts', [key], {});\n",
              "      } catch (error) {\n",
              "        console.error('Error during call to suggestCharts:', error);\n",
              "      }\n",
              "      quickchartButtonEl.classList.remove('colab-df-spinner');\n",
              "      quickchartButtonEl.classList.add('colab-df-quickchart-complete');\n",
              "    }\n",
              "    (() => {\n",
              "      let quickchartButtonEl =\n",
              "        document.querySelector('#df-93d52d2e-ddd1-47a8-b9e3-b32641612a17 button');\n",
              "      quickchartButtonEl.style.display =\n",
              "        google.colab.kernel.accessAllowed ? 'block' : 'none';\n",
              "    })();\n",
              "  </script>\n",
              "</div>\n",
              "\n",
              "  <div id=\"id_ff28c65c-abce-4690-b8e6-4624e963cb15\">\n",
              "    <style>\n",
              "      .colab-df-generate {\n",
              "        background-color: #E8F0FE;\n",
              "        border: none;\n",
              "        border-radius: 50%;\n",
              "        cursor: pointer;\n",
              "        display: none;\n",
              "        fill: #1967D2;\n",
              "        height: 32px;\n",
              "        padding: 0 0 0 0;\n",
              "        width: 32px;\n",
              "      }\n",
              "\n",
              "      .colab-df-generate:hover {\n",
              "        background-color: #E2EBFA;\n",
              "        box-shadow: 0px 1px 2px rgba(60, 64, 67, 0.3), 0px 1px 3px 1px rgba(60, 64, 67, 0.15);\n",
              "        fill: #174EA6;\n",
              "      }\n",
              "\n",
              "      [theme=dark] .colab-df-generate {\n",
              "        background-color: #3B4455;\n",
              "        fill: #D2E3FC;\n",
              "      }\n",
              "\n",
              "      [theme=dark] .colab-df-generate:hover {\n",
              "        background-color: #434B5C;\n",
              "        box-shadow: 0px 1px 3px 1px rgba(0, 0, 0, 0.15);\n",
              "        filter: drop-shadow(0px 1px 2px rgba(0, 0, 0, 0.3));\n",
              "        fill: #FFFFFF;\n",
              "      }\n",
              "    </style>\n",
              "    <button class=\"colab-df-generate\" onclick=\"generateWithVariable('dfa')\"\n",
              "            title=\"Generate code using this dataframe.\"\n",
              "            style=\"display:none;\">\n",
              "\n",
              "  <svg xmlns=\"http://www.w3.org/2000/svg\" height=\"24px\"viewBox=\"0 0 24 24\"\n",
              "       width=\"24px\">\n",
              "    <path d=\"M7,19H8.4L18.45,9,17,7.55,7,17.6ZM5,21V16.75L18.45,3.32a2,2,0,0,1,2.83,0l1.4,1.43a1.91,1.91,0,0,1,.58,1.4,1.91,1.91,0,0,1-.58,1.4L9.25,21ZM18.45,9,17,7.55Zm-12,3A5.31,5.31,0,0,0,4.9,8.1,5.31,5.31,0,0,0,1,6.5,5.31,5.31,0,0,0,4.9,4.9,5.31,5.31,0,0,0,6.5,1,5.31,5.31,0,0,0,8.1,4.9,5.31,5.31,0,0,0,12,6.5,5.46,5.46,0,0,0,6.5,12Z\"/>\n",
              "  </svg>\n",
              "    </button>\n",
              "    <script>\n",
              "      (() => {\n",
              "      const buttonEl =\n",
              "        document.querySelector('#id_ff28c65c-abce-4690-b8e6-4624e963cb15 button.colab-df-generate');\n",
              "      buttonEl.style.display =\n",
              "        google.colab.kernel.accessAllowed ? 'block' : 'none';\n",
              "\n",
              "      buttonEl.onclick = () => {\n",
              "        google.colab.notebook.generateWithVariable('dfa');\n",
              "      }\n",
              "      })();\n",
              "    </script>\n",
              "  </div>\n",
              "\n",
              "    </div>\n",
              "  </div>\n"
            ],
            "application/vnd.google.colaboratory.intrinsic+json": {
              "type": "dataframe",
              "variable_name": "dfa",
              "summary": "{\n  \"name\": \"dfa\",\n  \"rows\": 17,\n  \"fields\": [\n    {\n      \"column\": \"Name\",\n      \"properties\": {\n        \"dtype\": \"string\",\n        \"num_unique_values\": 16,\n        \"samples\": [\n          \"Sunidhi\",\n          \"AArya\",\n          \"Padma\"\n        ],\n        \"semantic_type\": \"\",\n        \"description\": \"\"\n      }\n    },\n    {\n      \"column\": \"Sal\",\n      \"properties\": {\n        \"dtype\": \"number\",\n        \"std\": 46217,\n        \"min\": 10000,\n        \"max\": 200000,\n        \"num_unique_values\": 13,\n        \"samples\": [\n          120000,\n          80000,\n          100000\n        ],\n        \"semantic_type\": \"\",\n        \"description\": \"\"\n      }\n    },\n    {\n      \"column\": \"Des\",\n      \"properties\": {\n        \"dtype\": \"string\",\n        \"num_unique_values\": 14,\n        \"samples\": [\n          \"Architect\",\n          \"Managing Diresctor\",\n          \"Managing director\"\n        ],\n        \"semantic_type\": \"\",\n        \"description\": \"\"\n      }\n    },\n    {\n      \"column\": \"Yoe\",\n      \"properties\": {\n        \"dtype\": \"number\",\n        \"std\": 3,\n        \"min\": 1,\n        \"max\": 11,\n        \"num_unique_values\": 10,\n        \"samples\": [\n          8,\n          3,\n          2\n        ],\n        \"semantic_type\": \"\",\n        \"description\": \"\"\n      }\n    },\n    {\n      \"column\": \"lang_known\",\n      \"properties\": {\n        \"dtype\": \"number\",\n        \"std\": 0,\n        \"min\": 3,\n        \"max\": 6,\n        \"num_unique_values\": 4,\n        \"samples\": [\n          5,\n          6,\n          4\n        ],\n        \"semantic_type\": \"\",\n        \"description\": \"\"\n      }\n    }\n  ]\n}"
            }
          },
          "metadata": {},
          "execution_count": 33
        }
      ]
    },
    {
      "cell_type": "code",
      "source": [
        "dfa.shape"
      ],
      "metadata": {
        "colab": {
          "base_uri": "https://localhost:8080/"
        },
        "id": "YeV3KfHlRlAi",
        "outputId": "dca28996-07f6-4ed0-ccf9-73272c81757f"
      },
      "execution_count": 34,
      "outputs": [
        {
          "output_type": "execute_result",
          "data": {
            "text/plain": [
              "(17, 5)"
            ]
          },
          "metadata": {},
          "execution_count": 34
        }
      ]
    },
    {
      "cell_type": "code",
      "source": [
        "dfa.size"
      ],
      "metadata": {
        "colab": {
          "base_uri": "https://localhost:8080/"
        },
        "id": "WCqE8SIeRp_6",
        "outputId": "b5fe5667-ad18-4c9b-a439-5dc27d394c46"
      },
      "execution_count": 35,
      "outputs": [
        {
          "output_type": "execute_result",
          "data": {
            "text/plain": [
              "85"
            ]
          },
          "metadata": {},
          "execution_count": 35
        }
      ]
    },
    {
      "cell_type": "code",
      "source": [
        "dfa.columns"
      ],
      "metadata": {
        "colab": {
          "base_uri": "https://localhost:8080/"
        },
        "id": "DmQaVzXORtE5",
        "outputId": "7059694f-55ae-4a60-8822-80c146ddd234"
      },
      "execution_count": 36,
      "outputs": [
        {
          "output_type": "execute_result",
          "data": {
            "text/plain": [
              "Index(['Name', 'Sal', 'Des', 'Yoe', 'lang_known'], dtype='object')"
            ]
          },
          "metadata": {},
          "execution_count": 36
        }
      ]
    },
    {
      "cell_type": "code",
      "source": [
        "dfa[dfa['Sal']>50000]"
      ],
      "metadata": {
        "colab": {
          "base_uri": "https://localhost:8080/",
          "height": 425
        },
        "id": "QT9BliYjR-VE",
        "outputId": "290e0c15-34b5-43b1-c354-f7386e8583f5"
      },
      "execution_count": 37,
      "outputs": [
        {
          "output_type": "execute_result",
          "data": {
            "text/plain": [
              "           Name     Sal                 Des  Yoe  lang_known\n",
              "0       Sunidhi  100000   Managing director    9           4\n",
              "2         Aarya  100000            Director    5           4\n",
              "3          Indu  200000     Senior Director   10           5\n",
              "8        Nithya   60000          consultant    5           3\n",
              "9        Nutana   60000   Senior Consultant    5           4\n",
              "10  Sayed Fazil   70000           Architect    6           4\n",
              "11      bhumika   80000    Senior Architect    8           4\n",
              "12    Vaishnavi   90000  Managing Diresctor    8           5\n",
              "13      Maneesh  100000            director    8           5\n",
              "14        manoj   80000  Associate Director    9           4\n",
              "15      Vishesh  120000     Senior Director   10           5\n",
              "16      Sunidhi  130000     Senior Director   11           6"
            ],
            "text/html": [
              "\n",
              "  <div id=\"df-c4bf882e-0528-4e89-a588-17e66b0676df\" class=\"colab-df-container\">\n",
              "    <div>\n",
              "<style scoped>\n",
              "    .dataframe tbody tr th:only-of-type {\n",
              "        vertical-align: middle;\n",
              "    }\n",
              "\n",
              "    .dataframe tbody tr th {\n",
              "        vertical-align: top;\n",
              "    }\n",
              "\n",
              "    .dataframe thead th {\n",
              "        text-align: right;\n",
              "    }\n",
              "</style>\n",
              "<table border=\"1\" class=\"dataframe\">\n",
              "  <thead>\n",
              "    <tr style=\"text-align: right;\">\n",
              "      <th></th>\n",
              "      <th>Name</th>\n",
              "      <th>Sal</th>\n",
              "      <th>Des</th>\n",
              "      <th>Yoe</th>\n",
              "      <th>lang_known</th>\n",
              "    </tr>\n",
              "  </thead>\n",
              "  <tbody>\n",
              "    <tr>\n",
              "      <th>0</th>\n",
              "      <td>Sunidhi</td>\n",
              "      <td>100000</td>\n",
              "      <td>Managing director</td>\n",
              "      <td>9</td>\n",
              "      <td>4</td>\n",
              "    </tr>\n",
              "    <tr>\n",
              "      <th>2</th>\n",
              "      <td>Aarya</td>\n",
              "      <td>100000</td>\n",
              "      <td>Director</td>\n",
              "      <td>5</td>\n",
              "      <td>4</td>\n",
              "    </tr>\n",
              "    <tr>\n",
              "      <th>3</th>\n",
              "      <td>Indu</td>\n",
              "      <td>200000</td>\n",
              "      <td>Senior Director</td>\n",
              "      <td>10</td>\n",
              "      <td>5</td>\n",
              "    </tr>\n",
              "    <tr>\n",
              "      <th>8</th>\n",
              "      <td>Nithya</td>\n",
              "      <td>60000</td>\n",
              "      <td>consultant</td>\n",
              "      <td>5</td>\n",
              "      <td>3</td>\n",
              "    </tr>\n",
              "    <tr>\n",
              "      <th>9</th>\n",
              "      <td>Nutana</td>\n",
              "      <td>60000</td>\n",
              "      <td>Senior Consultant</td>\n",
              "      <td>5</td>\n",
              "      <td>4</td>\n",
              "    </tr>\n",
              "    <tr>\n",
              "      <th>10</th>\n",
              "      <td>Sayed Fazil</td>\n",
              "      <td>70000</td>\n",
              "      <td>Architect</td>\n",
              "      <td>6</td>\n",
              "      <td>4</td>\n",
              "    </tr>\n",
              "    <tr>\n",
              "      <th>11</th>\n",
              "      <td>bhumika</td>\n",
              "      <td>80000</td>\n",
              "      <td>Senior Architect</td>\n",
              "      <td>8</td>\n",
              "      <td>4</td>\n",
              "    </tr>\n",
              "    <tr>\n",
              "      <th>12</th>\n",
              "      <td>Vaishnavi</td>\n",
              "      <td>90000</td>\n",
              "      <td>Managing Diresctor</td>\n",
              "      <td>8</td>\n",
              "      <td>5</td>\n",
              "    </tr>\n",
              "    <tr>\n",
              "      <th>13</th>\n",
              "      <td>Maneesh</td>\n",
              "      <td>100000</td>\n",
              "      <td>director</td>\n",
              "      <td>8</td>\n",
              "      <td>5</td>\n",
              "    </tr>\n",
              "    <tr>\n",
              "      <th>14</th>\n",
              "      <td>manoj</td>\n",
              "      <td>80000</td>\n",
              "      <td>Associate Director</td>\n",
              "      <td>9</td>\n",
              "      <td>4</td>\n",
              "    </tr>\n",
              "    <tr>\n",
              "      <th>15</th>\n",
              "      <td>Vishesh</td>\n",
              "      <td>120000</td>\n",
              "      <td>Senior Director</td>\n",
              "      <td>10</td>\n",
              "      <td>5</td>\n",
              "    </tr>\n",
              "    <tr>\n",
              "      <th>16</th>\n",
              "      <td>Sunidhi</td>\n",
              "      <td>130000</td>\n",
              "      <td>Senior Director</td>\n",
              "      <td>11</td>\n",
              "      <td>6</td>\n",
              "    </tr>\n",
              "  </tbody>\n",
              "</table>\n",
              "</div>\n",
              "    <div class=\"colab-df-buttons\">\n",
              "\n",
              "  <div class=\"colab-df-container\">\n",
              "    <button class=\"colab-df-convert\" onclick=\"convertToInteractive('df-c4bf882e-0528-4e89-a588-17e66b0676df')\"\n",
              "            title=\"Convert this dataframe to an interactive table.\"\n",
              "            style=\"display:none;\">\n",
              "\n",
              "  <svg xmlns=\"http://www.w3.org/2000/svg\" height=\"24px\" viewBox=\"0 -960 960 960\">\n",
              "    <path d=\"M120-120v-720h720v720H120Zm60-500h600v-160H180v160Zm220 220h160v-160H400v160Zm0 220h160v-160H400v160ZM180-400h160v-160H180v160Zm440 0h160v-160H620v160ZM180-180h160v-160H180v160Zm440 0h160v-160H620v160Z\"/>\n",
              "  </svg>\n",
              "    </button>\n",
              "\n",
              "  <style>\n",
              "    .colab-df-container {\n",
              "      display:flex;\n",
              "      gap: 12px;\n",
              "    }\n",
              "\n",
              "    .colab-df-convert {\n",
              "      background-color: #E8F0FE;\n",
              "      border: none;\n",
              "      border-radius: 50%;\n",
              "      cursor: pointer;\n",
              "      display: none;\n",
              "      fill: #1967D2;\n",
              "      height: 32px;\n",
              "      padding: 0 0 0 0;\n",
              "      width: 32px;\n",
              "    }\n",
              "\n",
              "    .colab-df-convert:hover {\n",
              "      background-color: #E2EBFA;\n",
              "      box-shadow: 0px 1px 2px rgba(60, 64, 67, 0.3), 0px 1px 3px 1px rgba(60, 64, 67, 0.15);\n",
              "      fill: #174EA6;\n",
              "    }\n",
              "\n",
              "    .colab-df-buttons div {\n",
              "      margin-bottom: 4px;\n",
              "    }\n",
              "\n",
              "    [theme=dark] .colab-df-convert {\n",
              "      background-color: #3B4455;\n",
              "      fill: #D2E3FC;\n",
              "    }\n",
              "\n",
              "    [theme=dark] .colab-df-convert:hover {\n",
              "      background-color: #434B5C;\n",
              "      box-shadow: 0px 1px 3px 1px rgba(0, 0, 0, 0.15);\n",
              "      filter: drop-shadow(0px 1px 2px rgba(0, 0, 0, 0.3));\n",
              "      fill: #FFFFFF;\n",
              "    }\n",
              "  </style>\n",
              "\n",
              "    <script>\n",
              "      const buttonEl =\n",
              "        document.querySelector('#df-c4bf882e-0528-4e89-a588-17e66b0676df button.colab-df-convert');\n",
              "      buttonEl.style.display =\n",
              "        google.colab.kernel.accessAllowed ? 'block' : 'none';\n",
              "\n",
              "      async function convertToInteractive(key) {\n",
              "        const element = document.querySelector('#df-c4bf882e-0528-4e89-a588-17e66b0676df');\n",
              "        const dataTable =\n",
              "          await google.colab.kernel.invokeFunction('convertToInteractive',\n",
              "                                                    [key], {});\n",
              "        if (!dataTable) return;\n",
              "\n",
              "        const docLinkHtml = 'Like what you see? Visit the ' +\n",
              "          '<a target=\"_blank\" href=https://colab.research.google.com/notebooks/data_table.ipynb>data table notebook</a>'\n",
              "          + ' to learn more about interactive tables.';\n",
              "        element.innerHTML = '';\n",
              "        dataTable['output_type'] = 'display_data';\n",
              "        await google.colab.output.renderOutput(dataTable, element);\n",
              "        const docLink = document.createElement('div');\n",
              "        docLink.innerHTML = docLinkHtml;\n",
              "        element.appendChild(docLink);\n",
              "      }\n",
              "    </script>\n",
              "  </div>\n",
              "\n",
              "\n",
              "<div id=\"df-a4a02ddb-3514-4d24-96c4-da1c77e8007f\">\n",
              "  <button class=\"colab-df-quickchart\" onclick=\"quickchart('df-a4a02ddb-3514-4d24-96c4-da1c77e8007f')\"\n",
              "            title=\"Suggest charts\"\n",
              "            style=\"display:none;\">\n",
              "\n",
              "<svg xmlns=\"http://www.w3.org/2000/svg\" height=\"24px\"viewBox=\"0 0 24 24\"\n",
              "     width=\"24px\">\n",
              "    <g>\n",
              "        <path d=\"M19 3H5c-1.1 0-2 .9-2 2v14c0 1.1.9 2 2 2h14c1.1 0 2-.9 2-2V5c0-1.1-.9-2-2-2zM9 17H7v-7h2v7zm4 0h-2V7h2v10zm4 0h-2v-4h2v4z\"/>\n",
              "    </g>\n",
              "</svg>\n",
              "  </button>\n",
              "\n",
              "<style>\n",
              "  .colab-df-quickchart {\n",
              "      --bg-color: #E8F0FE;\n",
              "      --fill-color: #1967D2;\n",
              "      --hover-bg-color: #E2EBFA;\n",
              "      --hover-fill-color: #174EA6;\n",
              "      --disabled-fill-color: #AAA;\n",
              "      --disabled-bg-color: #DDD;\n",
              "  }\n",
              "\n",
              "  [theme=dark] .colab-df-quickchart {\n",
              "      --bg-color: #3B4455;\n",
              "      --fill-color: #D2E3FC;\n",
              "      --hover-bg-color: #434B5C;\n",
              "      --hover-fill-color: #FFFFFF;\n",
              "      --disabled-bg-color: #3B4455;\n",
              "      --disabled-fill-color: #666;\n",
              "  }\n",
              "\n",
              "  .colab-df-quickchart {\n",
              "    background-color: var(--bg-color);\n",
              "    border: none;\n",
              "    border-radius: 50%;\n",
              "    cursor: pointer;\n",
              "    display: none;\n",
              "    fill: var(--fill-color);\n",
              "    height: 32px;\n",
              "    padding: 0;\n",
              "    width: 32px;\n",
              "  }\n",
              "\n",
              "  .colab-df-quickchart:hover {\n",
              "    background-color: var(--hover-bg-color);\n",
              "    box-shadow: 0 1px 2px rgba(60, 64, 67, 0.3), 0 1px 3px 1px rgba(60, 64, 67, 0.15);\n",
              "    fill: var(--button-hover-fill-color);\n",
              "  }\n",
              "\n",
              "  .colab-df-quickchart-complete:disabled,\n",
              "  .colab-df-quickchart-complete:disabled:hover {\n",
              "    background-color: var(--disabled-bg-color);\n",
              "    fill: var(--disabled-fill-color);\n",
              "    box-shadow: none;\n",
              "  }\n",
              "\n",
              "  .colab-df-spinner {\n",
              "    border: 2px solid var(--fill-color);\n",
              "    border-color: transparent;\n",
              "    border-bottom-color: var(--fill-color);\n",
              "    animation:\n",
              "      spin 1s steps(1) infinite;\n",
              "  }\n",
              "\n",
              "  @keyframes spin {\n",
              "    0% {\n",
              "      border-color: transparent;\n",
              "      border-bottom-color: var(--fill-color);\n",
              "      border-left-color: var(--fill-color);\n",
              "    }\n",
              "    20% {\n",
              "      border-color: transparent;\n",
              "      border-left-color: var(--fill-color);\n",
              "      border-top-color: var(--fill-color);\n",
              "    }\n",
              "    30% {\n",
              "      border-color: transparent;\n",
              "      border-left-color: var(--fill-color);\n",
              "      border-top-color: var(--fill-color);\n",
              "      border-right-color: var(--fill-color);\n",
              "    }\n",
              "    40% {\n",
              "      border-color: transparent;\n",
              "      border-right-color: var(--fill-color);\n",
              "      border-top-color: var(--fill-color);\n",
              "    }\n",
              "    60% {\n",
              "      border-color: transparent;\n",
              "      border-right-color: var(--fill-color);\n",
              "    }\n",
              "    80% {\n",
              "      border-color: transparent;\n",
              "      border-right-color: var(--fill-color);\n",
              "      border-bottom-color: var(--fill-color);\n",
              "    }\n",
              "    90% {\n",
              "      border-color: transparent;\n",
              "      border-bottom-color: var(--fill-color);\n",
              "    }\n",
              "  }\n",
              "</style>\n",
              "\n",
              "  <script>\n",
              "    async function quickchart(key) {\n",
              "      const quickchartButtonEl =\n",
              "        document.querySelector('#' + key + ' button');\n",
              "      quickchartButtonEl.disabled = true;  // To prevent multiple clicks.\n",
              "      quickchartButtonEl.classList.add('colab-df-spinner');\n",
              "      try {\n",
              "        const charts = await google.colab.kernel.invokeFunction(\n",
              "            'suggestCharts', [key], {});\n",
              "      } catch (error) {\n",
              "        console.error('Error during call to suggestCharts:', error);\n",
              "      }\n",
              "      quickchartButtonEl.classList.remove('colab-df-spinner');\n",
              "      quickchartButtonEl.classList.add('colab-df-quickchart-complete');\n",
              "    }\n",
              "    (() => {\n",
              "      let quickchartButtonEl =\n",
              "        document.querySelector('#df-a4a02ddb-3514-4d24-96c4-da1c77e8007f button');\n",
              "      quickchartButtonEl.style.display =\n",
              "        google.colab.kernel.accessAllowed ? 'block' : 'none';\n",
              "    })();\n",
              "  </script>\n",
              "</div>\n",
              "\n",
              "    </div>\n",
              "  </div>\n"
            ],
            "application/vnd.google.colaboratory.intrinsic+json": {
              "type": "dataframe",
              "summary": "{\n  \"name\": \"dfa[dfa['Sal']>50000]\",\n  \"rows\": 12,\n  \"fields\": [\n    {\n      \"column\": \"Name\",\n      \"properties\": {\n        \"dtype\": \"string\",\n        \"num_unique_values\": 11,\n        \"samples\": [\n          \"Sayed Fazil\",\n          \"Sunidhi\",\n          \"manoj\"\n        ],\n        \"semantic_type\": \"\",\n        \"description\": \"\"\n      }\n    },\n    {\n      \"column\": \"Sal\",\n      \"properties\": {\n        \"dtype\": \"number\",\n        \"std\": 38484,\n        \"min\": 60000,\n        \"max\": 200000,\n        \"num_unique_values\": 8,\n        \"samples\": [\n          200000,\n          90000,\n          100000\n        ],\n        \"semantic_type\": \"\",\n        \"description\": \"\"\n      }\n    },\n    {\n      \"column\": \"Des\",\n      \"properties\": {\n        \"dtype\": \"string\",\n        \"num_unique_values\": 10,\n        \"samples\": [\n          \"director\",\n          \"Director\",\n          \"Architect\"\n        ],\n        \"semantic_type\": \"\",\n        \"description\": \"\"\n      }\n    },\n    {\n      \"column\": \"Yoe\",\n      \"properties\": {\n        \"dtype\": \"number\",\n        \"std\": 2,\n        \"min\": 5,\n        \"max\": 11,\n        \"num_unique_values\": 6,\n        \"samples\": [\n          9,\n          5,\n          11\n        ],\n        \"semantic_type\": \"\",\n        \"description\": \"\"\n      }\n    },\n    {\n      \"column\": \"lang_known\",\n      \"properties\": {\n        \"dtype\": \"number\",\n        \"std\": 0,\n        \"min\": 3,\n        \"max\": 6,\n        \"num_unique_values\": 4,\n        \"samples\": [\n          5,\n          6,\n          4\n        ],\n        \"semantic_type\": \"\",\n        \"description\": \"\"\n      }\n    }\n  ]\n}"
            }
          },
          "metadata": {},
          "execution_count": 37
        }
      ]
    },
    {
      "cell_type": "code",
      "source": [
        "dfasal5=dfa[dfa['Sal']>50000]"
      ],
      "metadata": {
        "id": "gt2VzKi7SOPF"
      },
      "execution_count": 38,
      "outputs": []
    },
    {
      "cell_type": "code",
      "source": [
        "del type # This will delete the variable 'type' if it exists, restoring the built-in function.\n",
        "print(type(dfasal5))"
      ],
      "metadata": {
        "colab": {
          "base_uri": "https://localhost:8080/"
        },
        "id": "1ELFZr7ASv1j",
        "outputId": "d9b35def-4a52-43ce-cf2d-1524679f47dd"
      },
      "execution_count": 40,
      "outputs": [
        {
          "output_type": "stream",
          "name": "stdout",
          "text": [
            "<class 'pandas.core.frame.DataFrame'>\n"
          ]
        }
      ]
    },
    {
      "cell_type": "code",
      "source": [
        "dfasal5=dfa[dfa['Sal']==50000]\n",
        "dfasal5"
      ],
      "metadata": {
        "colab": {
          "base_uri": "https://localhost:8080/",
          "height": 89
        },
        "id": "VjbnxkG7XJ1W",
        "outputId": "bd4087d8-3934-4b9e-a1f0-a2124a93c1e2"
      },
      "execution_count": null,
      "outputs": [
        {
          "output_type": "execute_result",
          "data": {
            "text/plain": [
              "     Name    Sal                   Des  Yoe  lang_known\n",
              "7  Nitish  50000  Associate consultant    4           4"
            ],
            "text/html": [
              "\n",
              "  <div id=\"df-c3a8730f-c2cf-48bd-9580-493a266c7446\" class=\"colab-df-container\">\n",
              "    <div>\n",
              "<style scoped>\n",
              "    .dataframe tbody tr th:only-of-type {\n",
              "        vertical-align: middle;\n",
              "    }\n",
              "\n",
              "    .dataframe tbody tr th {\n",
              "        vertical-align: top;\n",
              "    }\n",
              "\n",
              "    .dataframe thead th {\n",
              "        text-align: right;\n",
              "    }\n",
              "</style>\n",
              "<table border=\"1\" class=\"dataframe\">\n",
              "  <thead>\n",
              "    <tr style=\"text-align: right;\">\n",
              "      <th></th>\n",
              "      <th>Name</th>\n",
              "      <th>Sal</th>\n",
              "      <th>Des</th>\n",
              "      <th>Yoe</th>\n",
              "      <th>lang_known</th>\n",
              "    </tr>\n",
              "  </thead>\n",
              "  <tbody>\n",
              "    <tr>\n",
              "      <th>7</th>\n",
              "      <td>Nitish</td>\n",
              "      <td>50000</td>\n",
              "      <td>Associate consultant</td>\n",
              "      <td>4</td>\n",
              "      <td>4</td>\n",
              "    </tr>\n",
              "  </tbody>\n",
              "</table>\n",
              "</div>\n",
              "    <div class=\"colab-df-buttons\">\n",
              "\n",
              "  <div class=\"colab-df-container\">\n",
              "    <button class=\"colab-df-convert\" onclick=\"convertToInteractive('df-c3a8730f-c2cf-48bd-9580-493a266c7446')\"\n",
              "            title=\"Convert this dataframe to an interactive table.\"\n",
              "            style=\"display:none;\">\n",
              "\n",
              "  <svg xmlns=\"http://www.w3.org/2000/svg\" height=\"24px\" viewBox=\"0 -960 960 960\">\n",
              "    <path d=\"M120-120v-720h720v720H120Zm60-500h600v-160H180v160Zm220 220h160v-160H400v160Zm0 220h160v-160H400v160ZM180-400h160v-160H180v160Zm440 0h160v-160H620v160ZM180-180h160v-160H180v160Zm440 0h160v-160H620v160Z\"/>\n",
              "  </svg>\n",
              "    </button>\n",
              "\n",
              "  <style>\n",
              "    .colab-df-container {\n",
              "      display:flex;\n",
              "      gap: 12px;\n",
              "    }\n",
              "\n",
              "    .colab-df-convert {\n",
              "      background-color: #E8F0FE;\n",
              "      border: none;\n",
              "      border-radius: 50%;\n",
              "      cursor: pointer;\n",
              "      display: none;\n",
              "      fill: #1967D2;\n",
              "      height: 32px;\n",
              "      padding: 0 0 0 0;\n",
              "      width: 32px;\n",
              "    }\n",
              "\n",
              "    .colab-df-convert:hover {\n",
              "      background-color: #E2EBFA;\n",
              "      box-shadow: 0px 1px 2px rgba(60, 64, 67, 0.3), 0px 1px 3px 1px rgba(60, 64, 67, 0.15);\n",
              "      fill: #174EA6;\n",
              "    }\n",
              "\n",
              "    .colab-df-buttons div {\n",
              "      margin-bottom: 4px;\n",
              "    }\n",
              "\n",
              "    [theme=dark] .colab-df-convert {\n",
              "      background-color: #3B4455;\n",
              "      fill: #D2E3FC;\n",
              "    }\n",
              "\n",
              "    [theme=dark] .colab-df-convert:hover {\n",
              "      background-color: #434B5C;\n",
              "      box-shadow: 0px 1px 3px 1px rgba(0, 0, 0, 0.15);\n",
              "      filter: drop-shadow(0px 1px 2px rgba(0, 0, 0, 0.3));\n",
              "      fill: #FFFFFF;\n",
              "    }\n",
              "  </style>\n",
              "\n",
              "    <script>\n",
              "      const buttonEl =\n",
              "        document.querySelector('#df-c3a8730f-c2cf-48bd-9580-493a266c7446 button.colab-df-convert');\n",
              "      buttonEl.style.display =\n",
              "        google.colab.kernel.accessAllowed ? 'block' : 'none';\n",
              "\n",
              "      async function convertToInteractive(key) {\n",
              "        const element = document.querySelector('#df-c3a8730f-c2cf-48bd-9580-493a266c7446');\n",
              "        const dataTable =\n",
              "          await google.colab.kernel.invokeFunction('convertToInteractive',\n",
              "                                                    [key], {});\n",
              "        if (!dataTable) return;\n",
              "\n",
              "        const docLinkHtml = 'Like what you see? Visit the ' +\n",
              "          '<a target=\"_blank\" href=https://colab.research.google.com/notebooks/data_table.ipynb>data table notebook</a>'\n",
              "          + ' to learn more about interactive tables.';\n",
              "        element.innerHTML = '';\n",
              "        dataTable['output_type'] = 'display_data';\n",
              "        await google.colab.output.renderOutput(dataTable, element);\n",
              "        const docLink = document.createElement('div');\n",
              "        docLink.innerHTML = docLinkHtml;\n",
              "        element.appendChild(docLink);\n",
              "      }\n",
              "    </script>\n",
              "  </div>\n",
              "\n",
              "\n",
              "  <div id=\"id_e3db105d-c428-4595-80b4-2131291e648b\">\n",
              "    <style>\n",
              "      .colab-df-generate {\n",
              "        background-color: #E8F0FE;\n",
              "        border: none;\n",
              "        border-radius: 50%;\n",
              "        cursor: pointer;\n",
              "        display: none;\n",
              "        fill: #1967D2;\n",
              "        height: 32px;\n",
              "        padding: 0 0 0 0;\n",
              "        width: 32px;\n",
              "      }\n",
              "\n",
              "      .colab-df-generate:hover {\n",
              "        background-color: #E2EBFA;\n",
              "        box-shadow: 0px 1px 2px rgba(60, 64, 67, 0.3), 0px 1px 3px 1px rgba(60, 64, 67, 0.15);\n",
              "        fill: #174EA6;\n",
              "      }\n",
              "\n",
              "      [theme=dark] .colab-df-generate {\n",
              "        background-color: #3B4455;\n",
              "        fill: #D2E3FC;\n",
              "      }\n",
              "\n",
              "      [theme=dark] .colab-df-generate:hover {\n",
              "        background-color: #434B5C;\n",
              "        box-shadow: 0px 1px 3px 1px rgba(0, 0, 0, 0.15);\n",
              "        filter: drop-shadow(0px 1px 2px rgba(0, 0, 0, 0.3));\n",
              "        fill: #FFFFFF;\n",
              "      }\n",
              "    </style>\n",
              "    <button class=\"colab-df-generate\" onclick=\"generateWithVariable('dfasal5')\"\n",
              "            title=\"Generate code using this dataframe.\"\n",
              "            style=\"display:none;\">\n",
              "\n",
              "  <svg xmlns=\"http://www.w3.org/2000/svg\" height=\"24px\"viewBox=\"0 0 24 24\"\n",
              "       width=\"24px\">\n",
              "    <path d=\"M7,19H8.4L18.45,9,17,7.55,7,17.6ZM5,21V16.75L18.45,3.32a2,2,0,0,1,2.83,0l1.4,1.43a1.91,1.91,0,0,1,.58,1.4,1.91,1.91,0,0,1-.58,1.4L9.25,21ZM18.45,9,17,7.55Zm-12,3A5.31,5.31,0,0,0,4.9,8.1,5.31,5.31,0,0,0,1,6.5,5.31,5.31,0,0,0,4.9,4.9,5.31,5.31,0,0,0,6.5,1,5.31,5.31,0,0,0,8.1,4.9,5.31,5.31,0,0,0,12,6.5,5.46,5.46,0,0,0,6.5,12Z\"/>\n",
              "  </svg>\n",
              "    </button>\n",
              "    <script>\n",
              "      (() => {\n",
              "      const buttonEl =\n",
              "        document.querySelector('#id_e3db105d-c428-4595-80b4-2131291e648b button.colab-df-generate');\n",
              "      buttonEl.style.display =\n",
              "        google.colab.kernel.accessAllowed ? 'block' : 'none';\n",
              "\n",
              "      buttonEl.onclick = () => {\n",
              "        google.colab.notebook.generateWithVariable('dfasal5');\n",
              "      }\n",
              "      })();\n",
              "    </script>\n",
              "  </div>\n",
              "\n",
              "    </div>\n",
              "  </div>\n"
            ]
          },
          "metadata": {},
          "execution_count": 166
        }
      ]
    },
    {
      "cell_type": "code",
      "source": [
        "name='hello'\n",
        "if(name.startswith('h')):\n",
        "  print(name)"
      ],
      "metadata": {
        "colab": {
          "base_uri": "https://localhost:8080/"
        },
        "id": "oUKsCYuGXZ1R",
        "outputId": "a18b8e55-94b8-4ebf-f647-518ec8383738"
      },
      "execution_count": null,
      "outputs": [
        {
          "output_type": "stream",
          "name": "stdout",
          "text": [
            "hello\n"
          ]
        }
      ]
    },
    {
      "cell_type": "code",
      "source": [
        "dfa['Des'].unique()"
      ],
      "metadata": {
        "colab": {
          "base_uri": "https://localhost:8080/"
        },
        "id": "Jnv4zmwsUPEL",
        "outputId": "85eab816-c1f7-4052-e092-0c1387ed3c73"
      },
      "execution_count": null,
      "outputs": [
        {
          "output_type": "execute_result",
          "data": {
            "text/plain": [
              "array(['Managing director', 'Associate Engineer', 'Director',\n",
              "       'Senior Director', 'Engineer', 'Senior Software Engineer',\n",
              "       'Associate consultant', 'consultant', 'Senior Consultant',\n",
              "       'Architect', 'Senior Architect', 'Managing Diresctor', 'director',\n",
              "       'Associate Director'], dtype=object)"
            ]
          },
          "metadata": {},
          "execution_count": 154
        }
      ]
    },
    {
      "cell_type": "code",
      "source": [
        "dfa.isnull().sum()"
      ],
      "metadata": {
        "colab": {
          "base_uri": "https://localhost:8080/"
        },
        "id": "wy1AVrsQUFoD",
        "outputId": "2496ca2f-d228-45c1-f40e-c184a8ed313f"
      },
      "execution_count": null,
      "outputs": [
        {
          "output_type": "execute_result",
          "data": {
            "text/plain": [
              "Name          0\n",
              "Sal           0\n",
              "Des           0\n",
              "Yoe           0\n",
              "lang_known    0\n",
              "dtype: int64"
            ]
          },
          "metadata": {},
          "execution_count": 155
        }
      ]
    },
    {
      "cell_type": "code",
      "source": [
        "dfa.head(3)"
      ],
      "metadata": {
        "colab": {
          "base_uri": "https://localhost:8080/",
          "height": 143
        },
        "id": "laP8at7zUOI_",
        "outputId": "b19e0cf0-798e-4e10-e562-e1797332cac3"
      },
      "execution_count": null,
      "outputs": [
        {
          "output_type": "execute_result",
          "data": {
            "text/plain": [
              "      Name     Sal                 Des  Yoe  lang_known\n",
              "0  Sunidhi  100000   Managing director    9           4\n",
              "1    AArya   20000  Associate Engineer    3           4\n",
              "2    Aarya  100000            Director    5           4"
            ],
            "text/html": [
              "\n",
              "  <div id=\"df-13d73095-a58b-4537-94dd-97f2f46a9927\" class=\"colab-df-container\">\n",
              "    <div>\n",
              "<style scoped>\n",
              "    .dataframe tbody tr th:only-of-type {\n",
              "        vertical-align: middle;\n",
              "    }\n",
              "\n",
              "    .dataframe tbody tr th {\n",
              "        vertical-align: top;\n",
              "    }\n",
              "\n",
              "    .dataframe thead th {\n",
              "        text-align: right;\n",
              "    }\n",
              "</style>\n",
              "<table border=\"1\" class=\"dataframe\">\n",
              "  <thead>\n",
              "    <tr style=\"text-align: right;\">\n",
              "      <th></th>\n",
              "      <th>Name</th>\n",
              "      <th>Sal</th>\n",
              "      <th>Des</th>\n",
              "      <th>Yoe</th>\n",
              "      <th>lang_known</th>\n",
              "    </tr>\n",
              "  </thead>\n",
              "  <tbody>\n",
              "    <tr>\n",
              "      <th>0</th>\n",
              "      <td>Sunidhi</td>\n",
              "      <td>100000</td>\n",
              "      <td>Managing director</td>\n",
              "      <td>9</td>\n",
              "      <td>4</td>\n",
              "    </tr>\n",
              "    <tr>\n",
              "      <th>1</th>\n",
              "      <td>AArya</td>\n",
              "      <td>20000</td>\n",
              "      <td>Associate Engineer</td>\n",
              "      <td>3</td>\n",
              "      <td>4</td>\n",
              "    </tr>\n",
              "    <tr>\n",
              "      <th>2</th>\n",
              "      <td>Aarya</td>\n",
              "      <td>100000</td>\n",
              "      <td>Director</td>\n",
              "      <td>5</td>\n",
              "      <td>4</td>\n",
              "    </tr>\n",
              "  </tbody>\n",
              "</table>\n",
              "</div>\n",
              "    <div class=\"colab-df-buttons\">\n",
              "\n",
              "  <div class=\"colab-df-container\">\n",
              "    <button class=\"colab-df-convert\" onclick=\"convertToInteractive('df-13d73095-a58b-4537-94dd-97f2f46a9927')\"\n",
              "            title=\"Convert this dataframe to an interactive table.\"\n",
              "            style=\"display:none;\">\n",
              "\n",
              "  <svg xmlns=\"http://www.w3.org/2000/svg\" height=\"24px\" viewBox=\"0 -960 960 960\">\n",
              "    <path d=\"M120-120v-720h720v720H120Zm60-500h600v-160H180v160Zm220 220h160v-160H400v160Zm0 220h160v-160H400v160ZM180-400h160v-160H180v160Zm440 0h160v-160H620v160ZM180-180h160v-160H180v160Zm440 0h160v-160H620v160Z\"/>\n",
              "  </svg>\n",
              "    </button>\n",
              "\n",
              "  <style>\n",
              "    .colab-df-container {\n",
              "      display:flex;\n",
              "      gap: 12px;\n",
              "    }\n",
              "\n",
              "    .colab-df-convert {\n",
              "      background-color: #E8F0FE;\n",
              "      border: none;\n",
              "      border-radius: 50%;\n",
              "      cursor: pointer;\n",
              "      display: none;\n",
              "      fill: #1967D2;\n",
              "      height: 32px;\n",
              "      padding: 0 0 0 0;\n",
              "      width: 32px;\n",
              "    }\n",
              "\n",
              "    .colab-df-convert:hover {\n",
              "      background-color: #E2EBFA;\n",
              "      box-shadow: 0px 1px 2px rgba(60, 64, 67, 0.3), 0px 1px 3px 1px rgba(60, 64, 67, 0.15);\n",
              "      fill: #174EA6;\n",
              "    }\n",
              "\n",
              "    .colab-df-buttons div {\n",
              "      margin-bottom: 4px;\n",
              "    }\n",
              "\n",
              "    [theme=dark] .colab-df-convert {\n",
              "      background-color: #3B4455;\n",
              "      fill: #D2E3FC;\n",
              "    }\n",
              "\n",
              "    [theme=dark] .colab-df-convert:hover {\n",
              "      background-color: #434B5C;\n",
              "      box-shadow: 0px 1px 3px 1px rgba(0, 0, 0, 0.15);\n",
              "      filter: drop-shadow(0px 1px 2px rgba(0, 0, 0, 0.3));\n",
              "      fill: #FFFFFF;\n",
              "    }\n",
              "  </style>\n",
              "\n",
              "    <script>\n",
              "      const buttonEl =\n",
              "        document.querySelector('#df-13d73095-a58b-4537-94dd-97f2f46a9927 button.colab-df-convert');\n",
              "      buttonEl.style.display =\n",
              "        google.colab.kernel.accessAllowed ? 'block' : 'none';\n",
              "\n",
              "      async function convertToInteractive(key) {\n",
              "        const element = document.querySelector('#df-13d73095-a58b-4537-94dd-97f2f46a9927');\n",
              "        const dataTable =\n",
              "          await google.colab.kernel.invokeFunction('convertToInteractive',\n",
              "                                                    [key], {});\n",
              "        if (!dataTable) return;\n",
              "\n",
              "        const docLinkHtml = 'Like what you see? Visit the ' +\n",
              "          '<a target=\"_blank\" href=https://colab.research.google.com/notebooks/data_table.ipynb>data table notebook</a>'\n",
              "          + ' to learn more about interactive tables.';\n",
              "        element.innerHTML = '';\n",
              "        dataTable['output_type'] = 'display_data';\n",
              "        await google.colab.output.renderOutput(dataTable, element);\n",
              "        const docLink = document.createElement('div');\n",
              "        docLink.innerHTML = docLinkHtml;\n",
              "        element.appendChild(docLink);\n",
              "      }\n",
              "    </script>\n",
              "  </div>\n",
              "\n",
              "\n",
              "<div id=\"df-238a6413-2fe0-4c6c-ace4-ffe7627b6d29\">\n",
              "  <button class=\"colab-df-quickchart\" onclick=\"quickchart('df-238a6413-2fe0-4c6c-ace4-ffe7627b6d29')\"\n",
              "            title=\"Suggest charts\"\n",
              "            style=\"display:none;\">\n",
              "\n",
              "<svg xmlns=\"http://www.w3.org/2000/svg\" height=\"24px\"viewBox=\"0 0 24 24\"\n",
              "     width=\"24px\">\n",
              "    <g>\n",
              "        <path d=\"M19 3H5c-1.1 0-2 .9-2 2v14c0 1.1.9 2 2 2h14c1.1 0 2-.9 2-2V5c0-1.1-.9-2-2-2zM9 17H7v-7h2v7zm4 0h-2V7h2v10zm4 0h-2v-4h2v4z\"/>\n",
              "    </g>\n",
              "</svg>\n",
              "  </button>\n",
              "\n",
              "<style>\n",
              "  .colab-df-quickchart {\n",
              "      --bg-color: #E8F0FE;\n",
              "      --fill-color: #1967D2;\n",
              "      --hover-bg-color: #E2EBFA;\n",
              "      --hover-fill-color: #174EA6;\n",
              "      --disabled-fill-color: #AAA;\n",
              "      --disabled-bg-color: #DDD;\n",
              "  }\n",
              "\n",
              "  [theme=dark] .colab-df-quickchart {\n",
              "      --bg-color: #3B4455;\n",
              "      --fill-color: #D2E3FC;\n",
              "      --hover-bg-color: #434B5C;\n",
              "      --hover-fill-color: #FFFFFF;\n",
              "      --disabled-bg-color: #3B4455;\n",
              "      --disabled-fill-color: #666;\n",
              "  }\n",
              "\n",
              "  .colab-df-quickchart {\n",
              "    background-color: var(--bg-color);\n",
              "    border: none;\n",
              "    border-radius: 50%;\n",
              "    cursor: pointer;\n",
              "    display: none;\n",
              "    fill: var(--fill-color);\n",
              "    height: 32px;\n",
              "    padding: 0;\n",
              "    width: 32px;\n",
              "  }\n",
              "\n",
              "  .colab-df-quickchart:hover {\n",
              "    background-color: var(--hover-bg-color);\n",
              "    box-shadow: 0 1px 2px rgba(60, 64, 67, 0.3), 0 1px 3px 1px rgba(60, 64, 67, 0.15);\n",
              "    fill: var(--button-hover-fill-color);\n",
              "  }\n",
              "\n",
              "  .colab-df-quickchart-complete:disabled,\n",
              "  .colab-df-quickchart-complete:disabled:hover {\n",
              "    background-color: var(--disabled-bg-color);\n",
              "    fill: var(--disabled-fill-color);\n",
              "    box-shadow: none;\n",
              "  }\n",
              "\n",
              "  .colab-df-spinner {\n",
              "    border: 2px solid var(--fill-color);\n",
              "    border-color: transparent;\n",
              "    border-bottom-color: var(--fill-color);\n",
              "    animation:\n",
              "      spin 1s steps(1) infinite;\n",
              "  }\n",
              "\n",
              "  @keyframes spin {\n",
              "    0% {\n",
              "      border-color: transparent;\n",
              "      border-bottom-color: var(--fill-color);\n",
              "      border-left-color: var(--fill-color);\n",
              "    }\n",
              "    20% {\n",
              "      border-color: transparent;\n",
              "      border-left-color: var(--fill-color);\n",
              "      border-top-color: var(--fill-color);\n",
              "    }\n",
              "    30% {\n",
              "      border-color: transparent;\n",
              "      border-left-color: var(--fill-color);\n",
              "      border-top-color: var(--fill-color);\n",
              "      border-right-color: var(--fill-color);\n",
              "    }\n",
              "    40% {\n",
              "      border-color: transparent;\n",
              "      border-right-color: var(--fill-color);\n",
              "      border-top-color: var(--fill-color);\n",
              "    }\n",
              "    60% {\n",
              "      border-color: transparent;\n",
              "      border-right-color: var(--fill-color);\n",
              "    }\n",
              "    80% {\n",
              "      border-color: transparent;\n",
              "      border-right-color: var(--fill-color);\n",
              "      border-bottom-color: var(--fill-color);\n",
              "    }\n",
              "    90% {\n",
              "      border-color: transparent;\n",
              "      border-bottom-color: var(--fill-color);\n",
              "    }\n",
              "  }\n",
              "</style>\n",
              "\n",
              "  <script>\n",
              "    async function quickchart(key) {\n",
              "      const quickchartButtonEl =\n",
              "        document.querySelector('#' + key + ' button');\n",
              "      quickchartButtonEl.disabled = true;  // To prevent multiple clicks.\n",
              "      quickchartButtonEl.classList.add('colab-df-spinner');\n",
              "      try {\n",
              "        const charts = await google.colab.kernel.invokeFunction(\n",
              "            'suggestCharts', [key], {});\n",
              "      } catch (error) {\n",
              "        console.error('Error during call to suggestCharts:', error);\n",
              "      }\n",
              "      quickchartButtonEl.classList.remove('colab-df-spinner');\n",
              "      quickchartButtonEl.classList.add('colab-df-quickchart-complete');\n",
              "    }\n",
              "    (() => {\n",
              "      let quickchartButtonEl =\n",
              "        document.querySelector('#df-238a6413-2fe0-4c6c-ace4-ffe7627b6d29 button');\n",
              "      quickchartButtonEl.style.display =\n",
              "        google.colab.kernel.accessAllowed ? 'block' : 'none';\n",
              "    })();\n",
              "  </script>\n",
              "</div>\n",
              "\n",
              "    </div>\n",
              "  </div>\n"
            ]
          },
          "metadata": {},
          "execution_count": 156
        }
      ]
    },
    {
      "cell_type": "code",
      "source": [
        "dfa.tail(3)"
      ],
      "metadata": {
        "colab": {
          "base_uri": "https://localhost:8080/",
          "height": 143
        },
        "id": "QoQHqj-oUccd",
        "outputId": "70958131-d329-48ce-df03-03b49154a4b3"
      },
      "execution_count": null,
      "outputs": [
        {
          "output_type": "execute_result",
          "data": {
            "text/plain": [
              "       Name     Sal                 Des  Yoe  lang_known\n",
              "14    manoj   80000  Associate Director    9           4\n",
              "15  Vishesh  120000     Senior Director   10           5\n",
              "16  Sunidhi  130000     Senior Director   11           6"
            ],
            "text/html": [
              "\n",
              "  <div id=\"df-2e01e757-35f3-4eca-ab7c-d0afcbd332f9\" class=\"colab-df-container\">\n",
              "    <div>\n",
              "<style scoped>\n",
              "    .dataframe tbody tr th:only-of-type {\n",
              "        vertical-align: middle;\n",
              "    }\n",
              "\n",
              "    .dataframe tbody tr th {\n",
              "        vertical-align: top;\n",
              "    }\n",
              "\n",
              "    .dataframe thead th {\n",
              "        text-align: right;\n",
              "    }\n",
              "</style>\n",
              "<table border=\"1\" class=\"dataframe\">\n",
              "  <thead>\n",
              "    <tr style=\"text-align: right;\">\n",
              "      <th></th>\n",
              "      <th>Name</th>\n",
              "      <th>Sal</th>\n",
              "      <th>Des</th>\n",
              "      <th>Yoe</th>\n",
              "      <th>lang_known</th>\n",
              "    </tr>\n",
              "  </thead>\n",
              "  <tbody>\n",
              "    <tr>\n",
              "      <th>14</th>\n",
              "      <td>manoj</td>\n",
              "      <td>80000</td>\n",
              "      <td>Associate Director</td>\n",
              "      <td>9</td>\n",
              "      <td>4</td>\n",
              "    </tr>\n",
              "    <tr>\n",
              "      <th>15</th>\n",
              "      <td>Vishesh</td>\n",
              "      <td>120000</td>\n",
              "      <td>Senior Director</td>\n",
              "      <td>10</td>\n",
              "      <td>5</td>\n",
              "    </tr>\n",
              "    <tr>\n",
              "      <th>16</th>\n",
              "      <td>Sunidhi</td>\n",
              "      <td>130000</td>\n",
              "      <td>Senior Director</td>\n",
              "      <td>11</td>\n",
              "      <td>6</td>\n",
              "    </tr>\n",
              "  </tbody>\n",
              "</table>\n",
              "</div>\n",
              "    <div class=\"colab-df-buttons\">\n",
              "\n",
              "  <div class=\"colab-df-container\">\n",
              "    <button class=\"colab-df-convert\" onclick=\"convertToInteractive('df-2e01e757-35f3-4eca-ab7c-d0afcbd332f9')\"\n",
              "            title=\"Convert this dataframe to an interactive table.\"\n",
              "            style=\"display:none;\">\n",
              "\n",
              "  <svg xmlns=\"http://www.w3.org/2000/svg\" height=\"24px\" viewBox=\"0 -960 960 960\">\n",
              "    <path d=\"M120-120v-720h720v720H120Zm60-500h600v-160H180v160Zm220 220h160v-160H400v160Zm0 220h160v-160H400v160ZM180-400h160v-160H180v160Zm440 0h160v-160H620v160ZM180-180h160v-160H180v160Zm440 0h160v-160H620v160Z\"/>\n",
              "  </svg>\n",
              "    </button>\n",
              "\n",
              "  <style>\n",
              "    .colab-df-container {\n",
              "      display:flex;\n",
              "      gap: 12px;\n",
              "    }\n",
              "\n",
              "    .colab-df-convert {\n",
              "      background-color: #E8F0FE;\n",
              "      border: none;\n",
              "      border-radius: 50%;\n",
              "      cursor: pointer;\n",
              "      display: none;\n",
              "      fill: #1967D2;\n",
              "      height: 32px;\n",
              "      padding: 0 0 0 0;\n",
              "      width: 32px;\n",
              "    }\n",
              "\n",
              "    .colab-df-convert:hover {\n",
              "      background-color: #E2EBFA;\n",
              "      box-shadow: 0px 1px 2px rgba(60, 64, 67, 0.3), 0px 1px 3px 1px rgba(60, 64, 67, 0.15);\n",
              "      fill: #174EA6;\n",
              "    }\n",
              "\n",
              "    .colab-df-buttons div {\n",
              "      margin-bottom: 4px;\n",
              "    }\n",
              "\n",
              "    [theme=dark] .colab-df-convert {\n",
              "      background-color: #3B4455;\n",
              "      fill: #D2E3FC;\n",
              "    }\n",
              "\n",
              "    [theme=dark] .colab-df-convert:hover {\n",
              "      background-color: #434B5C;\n",
              "      box-shadow: 0px 1px 3px 1px rgba(0, 0, 0, 0.15);\n",
              "      filter: drop-shadow(0px 1px 2px rgba(0, 0, 0, 0.3));\n",
              "      fill: #FFFFFF;\n",
              "    }\n",
              "  </style>\n",
              "\n",
              "    <script>\n",
              "      const buttonEl =\n",
              "        document.querySelector('#df-2e01e757-35f3-4eca-ab7c-d0afcbd332f9 button.colab-df-convert');\n",
              "      buttonEl.style.display =\n",
              "        google.colab.kernel.accessAllowed ? 'block' : 'none';\n",
              "\n",
              "      async function convertToInteractive(key) {\n",
              "        const element = document.querySelector('#df-2e01e757-35f3-4eca-ab7c-d0afcbd332f9');\n",
              "        const dataTable =\n",
              "          await google.colab.kernel.invokeFunction('convertToInteractive',\n",
              "                                                    [key], {});\n",
              "        if (!dataTable) return;\n",
              "\n",
              "        const docLinkHtml = 'Like what you see? Visit the ' +\n",
              "          '<a target=\"_blank\" href=https://colab.research.google.com/notebooks/data_table.ipynb>data table notebook</a>'\n",
              "          + ' to learn more about interactive tables.';\n",
              "        element.innerHTML = '';\n",
              "        dataTable['output_type'] = 'display_data';\n",
              "        await google.colab.output.renderOutput(dataTable, element);\n",
              "        const docLink = document.createElement('div');\n",
              "        docLink.innerHTML = docLinkHtml;\n",
              "        element.appendChild(docLink);\n",
              "      }\n",
              "    </script>\n",
              "  </div>\n",
              "\n",
              "\n",
              "<div id=\"df-51caa72d-d2b6-47c9-be65-7d34496f3d7d\">\n",
              "  <button class=\"colab-df-quickchart\" onclick=\"quickchart('df-51caa72d-d2b6-47c9-be65-7d34496f3d7d')\"\n",
              "            title=\"Suggest charts\"\n",
              "            style=\"display:none;\">\n",
              "\n",
              "<svg xmlns=\"http://www.w3.org/2000/svg\" height=\"24px\"viewBox=\"0 0 24 24\"\n",
              "     width=\"24px\">\n",
              "    <g>\n",
              "        <path d=\"M19 3H5c-1.1 0-2 .9-2 2v14c0 1.1.9 2 2 2h14c1.1 0 2-.9 2-2V5c0-1.1-.9-2-2-2zM9 17H7v-7h2v7zm4 0h-2V7h2v10zm4 0h-2v-4h2v4z\"/>\n",
              "    </g>\n",
              "</svg>\n",
              "  </button>\n",
              "\n",
              "<style>\n",
              "  .colab-df-quickchart {\n",
              "      --bg-color: #E8F0FE;\n",
              "      --fill-color: #1967D2;\n",
              "      --hover-bg-color: #E2EBFA;\n",
              "      --hover-fill-color: #174EA6;\n",
              "      --disabled-fill-color: #AAA;\n",
              "      --disabled-bg-color: #DDD;\n",
              "  }\n",
              "\n",
              "  [theme=dark] .colab-df-quickchart {\n",
              "      --bg-color: #3B4455;\n",
              "      --fill-color: #D2E3FC;\n",
              "      --hover-bg-color: #434B5C;\n",
              "      --hover-fill-color: #FFFFFF;\n",
              "      --disabled-bg-color: #3B4455;\n",
              "      --disabled-fill-color: #666;\n",
              "  }\n",
              "\n",
              "  .colab-df-quickchart {\n",
              "    background-color: var(--bg-color);\n",
              "    border: none;\n",
              "    border-radius: 50%;\n",
              "    cursor: pointer;\n",
              "    display: none;\n",
              "    fill: var(--fill-color);\n",
              "    height: 32px;\n",
              "    padding: 0;\n",
              "    width: 32px;\n",
              "  }\n",
              "\n",
              "  .colab-df-quickchart:hover {\n",
              "    background-color: var(--hover-bg-color);\n",
              "    box-shadow: 0 1px 2px rgba(60, 64, 67, 0.3), 0 1px 3px 1px rgba(60, 64, 67, 0.15);\n",
              "    fill: var(--button-hover-fill-color);\n",
              "  }\n",
              "\n",
              "  .colab-df-quickchart-complete:disabled,\n",
              "  .colab-df-quickchart-complete:disabled:hover {\n",
              "    background-color: var(--disabled-bg-color);\n",
              "    fill: var(--disabled-fill-color);\n",
              "    box-shadow: none;\n",
              "  }\n",
              "\n",
              "  .colab-df-spinner {\n",
              "    border: 2px solid var(--fill-color);\n",
              "    border-color: transparent;\n",
              "    border-bottom-color: var(--fill-color);\n",
              "    animation:\n",
              "      spin 1s steps(1) infinite;\n",
              "  }\n",
              "\n",
              "  @keyframes spin {\n",
              "    0% {\n",
              "      border-color: transparent;\n",
              "      border-bottom-color: var(--fill-color);\n",
              "      border-left-color: var(--fill-color);\n",
              "    }\n",
              "    20% {\n",
              "      border-color: transparent;\n",
              "      border-left-color: var(--fill-color);\n",
              "      border-top-color: var(--fill-color);\n",
              "    }\n",
              "    30% {\n",
              "      border-color: transparent;\n",
              "      border-left-color: var(--fill-color);\n",
              "      border-top-color: var(--fill-color);\n",
              "      border-right-color: var(--fill-color);\n",
              "    }\n",
              "    40% {\n",
              "      border-color: transparent;\n",
              "      border-right-color: var(--fill-color);\n",
              "      border-top-color: var(--fill-color);\n",
              "    }\n",
              "    60% {\n",
              "      border-color: transparent;\n",
              "      border-right-color: var(--fill-color);\n",
              "    }\n",
              "    80% {\n",
              "      border-color: transparent;\n",
              "      border-right-color: var(--fill-color);\n",
              "      border-bottom-color: var(--fill-color);\n",
              "    }\n",
              "    90% {\n",
              "      border-color: transparent;\n",
              "      border-bottom-color: var(--fill-color);\n",
              "    }\n",
              "  }\n",
              "</style>\n",
              "\n",
              "  <script>\n",
              "    async function quickchart(key) {\n",
              "      const quickchartButtonEl =\n",
              "        document.querySelector('#' + key + ' button');\n",
              "      quickchartButtonEl.disabled = true;  // To prevent multiple clicks.\n",
              "      quickchartButtonEl.classList.add('colab-df-spinner');\n",
              "      try {\n",
              "        const charts = await google.colab.kernel.invokeFunction(\n",
              "            'suggestCharts', [key], {});\n",
              "      } catch (error) {\n",
              "        console.error('Error during call to suggestCharts:', error);\n",
              "      }\n",
              "      quickchartButtonEl.classList.remove('colab-df-spinner');\n",
              "      quickchartButtonEl.classList.add('colab-df-quickchart-complete');\n",
              "    }\n",
              "    (() => {\n",
              "      let quickchartButtonEl =\n",
              "        document.querySelector('#df-51caa72d-d2b6-47c9-be65-7d34496f3d7d button');\n",
              "      quickchartButtonEl.style.display =\n",
              "        google.colab.kernel.accessAllowed ? 'block' : 'none';\n",
              "    })();\n",
              "  </script>\n",
              "</div>\n",
              "\n",
              "    </div>\n",
              "  </div>\n"
            ]
          },
          "metadata": {},
          "execution_count": 157
        }
      ]
    },
    {
      "cell_type": "code",
      "source": [
        "dfa.info()"
      ],
      "metadata": {
        "colab": {
          "base_uri": "https://localhost:8080/"
        },
        "id": "LC3M1XrUUiAx",
        "outputId": "b12da814-d59a-4ae7-db19-5f8caa61ae3c"
      },
      "execution_count": null,
      "outputs": [
        {
          "output_type": "stream",
          "name": "stdout",
          "text": [
            "<class 'pandas.core.frame.DataFrame'>\n",
            "RangeIndex: 17 entries, 0 to 16\n",
            "Data columns (total 5 columns):\n",
            " #   Column      Non-Null Count  Dtype \n",
            "---  ------      --------------  ----- \n",
            " 0   Name        17 non-null     object\n",
            " 1   Sal         17 non-null     int64 \n",
            " 2   Des         17 non-null     object\n",
            " 3   Yoe         17 non-null     int64 \n",
            " 4   lang_known  17 non-null     int64 \n",
            "dtypes: int64(3), object(2)\n",
            "memory usage: 808.0+ bytes\n"
          ]
        }
      ]
    },
    {
      "cell_type": "code",
      "source": [
        "dfa.describe()"
      ],
      "metadata": {
        "colab": {
          "base_uri": "https://localhost:8080/",
          "height": 300
        },
        "id": "WH4XsJKMVqPY",
        "outputId": "cfec04ad-af50-40fc-eca6-521ed28e1c61"
      },
      "execution_count": null,
      "outputs": [
        {
          "output_type": "execute_result",
          "data": {
            "text/plain": [
              "                 Sal        Yoe  lang_known\n",
              "count      17.000000  17.000000   17.000000\n",
              "mean    78823.529412   6.294118    4.117647\n",
              "std     46217.198225   3.077432    0.857493\n",
              "min     10000.000000   1.000000    3.000000\n",
              "25%     50000.000000   4.000000    4.000000\n",
              "50%     80000.000000   6.000000    4.000000\n",
              "75%    100000.000000   9.000000    5.000000\n",
              "max    200000.000000  11.000000    6.000000"
            ],
            "text/html": [
              "\n",
              "  <div id=\"df-6b6d7ab0-4197-4f53-822b-1f4098525f51\" class=\"colab-df-container\">\n",
              "    <div>\n",
              "<style scoped>\n",
              "    .dataframe tbody tr th:only-of-type {\n",
              "        vertical-align: middle;\n",
              "    }\n",
              "\n",
              "    .dataframe tbody tr th {\n",
              "        vertical-align: top;\n",
              "    }\n",
              "\n",
              "    .dataframe thead th {\n",
              "        text-align: right;\n",
              "    }\n",
              "</style>\n",
              "<table border=\"1\" class=\"dataframe\">\n",
              "  <thead>\n",
              "    <tr style=\"text-align: right;\">\n",
              "      <th></th>\n",
              "      <th>Sal</th>\n",
              "      <th>Yoe</th>\n",
              "      <th>lang_known</th>\n",
              "    </tr>\n",
              "  </thead>\n",
              "  <tbody>\n",
              "    <tr>\n",
              "      <th>count</th>\n",
              "      <td>17.000000</td>\n",
              "      <td>17.000000</td>\n",
              "      <td>17.000000</td>\n",
              "    </tr>\n",
              "    <tr>\n",
              "      <th>mean</th>\n",
              "      <td>78823.529412</td>\n",
              "      <td>6.294118</td>\n",
              "      <td>4.117647</td>\n",
              "    </tr>\n",
              "    <tr>\n",
              "      <th>std</th>\n",
              "      <td>46217.198225</td>\n",
              "      <td>3.077432</td>\n",
              "      <td>0.857493</td>\n",
              "    </tr>\n",
              "    <tr>\n",
              "      <th>min</th>\n",
              "      <td>10000.000000</td>\n",
              "      <td>1.000000</td>\n",
              "      <td>3.000000</td>\n",
              "    </tr>\n",
              "    <tr>\n",
              "      <th>25%</th>\n",
              "      <td>50000.000000</td>\n",
              "      <td>4.000000</td>\n",
              "      <td>4.000000</td>\n",
              "    </tr>\n",
              "    <tr>\n",
              "      <th>50%</th>\n",
              "      <td>80000.000000</td>\n",
              "      <td>6.000000</td>\n",
              "      <td>4.000000</td>\n",
              "    </tr>\n",
              "    <tr>\n",
              "      <th>75%</th>\n",
              "      <td>100000.000000</td>\n",
              "      <td>9.000000</td>\n",
              "      <td>5.000000</td>\n",
              "    </tr>\n",
              "    <tr>\n",
              "      <th>max</th>\n",
              "      <td>200000.000000</td>\n",
              "      <td>11.000000</td>\n",
              "      <td>6.000000</td>\n",
              "    </tr>\n",
              "  </tbody>\n",
              "</table>\n",
              "</div>\n",
              "    <div class=\"colab-df-buttons\">\n",
              "\n",
              "  <div class=\"colab-df-container\">\n",
              "    <button class=\"colab-df-convert\" onclick=\"convertToInteractive('df-6b6d7ab0-4197-4f53-822b-1f4098525f51')\"\n",
              "            title=\"Convert this dataframe to an interactive table.\"\n",
              "            style=\"display:none;\">\n",
              "\n",
              "  <svg xmlns=\"http://www.w3.org/2000/svg\" height=\"24px\" viewBox=\"0 -960 960 960\">\n",
              "    <path d=\"M120-120v-720h720v720H120Zm60-500h600v-160H180v160Zm220 220h160v-160H400v160Zm0 220h160v-160H400v160ZM180-400h160v-160H180v160Zm440 0h160v-160H620v160ZM180-180h160v-160H180v160Zm440 0h160v-160H620v160Z\"/>\n",
              "  </svg>\n",
              "    </button>\n",
              "\n",
              "  <style>\n",
              "    .colab-df-container {\n",
              "      display:flex;\n",
              "      gap: 12px;\n",
              "    }\n",
              "\n",
              "    .colab-df-convert {\n",
              "      background-color: #E8F0FE;\n",
              "      border: none;\n",
              "      border-radius: 50%;\n",
              "      cursor: pointer;\n",
              "      display: none;\n",
              "      fill: #1967D2;\n",
              "      height: 32px;\n",
              "      padding: 0 0 0 0;\n",
              "      width: 32px;\n",
              "    }\n",
              "\n",
              "    .colab-df-convert:hover {\n",
              "      background-color: #E2EBFA;\n",
              "      box-shadow: 0px 1px 2px rgba(60, 64, 67, 0.3), 0px 1px 3px 1px rgba(60, 64, 67, 0.15);\n",
              "      fill: #174EA6;\n",
              "    }\n",
              "\n",
              "    .colab-df-buttons div {\n",
              "      margin-bottom: 4px;\n",
              "    }\n",
              "\n",
              "    [theme=dark] .colab-df-convert {\n",
              "      background-color: #3B4455;\n",
              "      fill: #D2E3FC;\n",
              "    }\n",
              "\n",
              "    [theme=dark] .colab-df-convert:hover {\n",
              "      background-color: #434B5C;\n",
              "      box-shadow: 0px 1px 3px 1px rgba(0, 0, 0, 0.15);\n",
              "      filter: drop-shadow(0px 1px 2px rgba(0, 0, 0, 0.3));\n",
              "      fill: #FFFFFF;\n",
              "    }\n",
              "  </style>\n",
              "\n",
              "    <script>\n",
              "      const buttonEl =\n",
              "        document.querySelector('#df-6b6d7ab0-4197-4f53-822b-1f4098525f51 button.colab-df-convert');\n",
              "      buttonEl.style.display =\n",
              "        google.colab.kernel.accessAllowed ? 'block' : 'none';\n",
              "\n",
              "      async function convertToInteractive(key) {\n",
              "        const element = document.querySelector('#df-6b6d7ab0-4197-4f53-822b-1f4098525f51');\n",
              "        const dataTable =\n",
              "          await google.colab.kernel.invokeFunction('convertToInteractive',\n",
              "                                                    [key], {});\n",
              "        if (!dataTable) return;\n",
              "\n",
              "        const docLinkHtml = 'Like what you see? Visit the ' +\n",
              "          '<a target=\"_blank\" href=https://colab.research.google.com/notebooks/data_table.ipynb>data table notebook</a>'\n",
              "          + ' to learn more about interactive tables.';\n",
              "        element.innerHTML = '';\n",
              "        dataTable['output_type'] = 'display_data';\n",
              "        await google.colab.output.renderOutput(dataTable, element);\n",
              "        const docLink = document.createElement('div');\n",
              "        docLink.innerHTML = docLinkHtml;\n",
              "        element.appendChild(docLink);\n",
              "      }\n",
              "    </script>\n",
              "  </div>\n",
              "\n",
              "\n",
              "<div id=\"df-96a647c6-ec72-409a-aa28-13fa9c0b99d1\">\n",
              "  <button class=\"colab-df-quickchart\" onclick=\"quickchart('df-96a647c6-ec72-409a-aa28-13fa9c0b99d1')\"\n",
              "            title=\"Suggest charts\"\n",
              "            style=\"display:none;\">\n",
              "\n",
              "<svg xmlns=\"http://www.w3.org/2000/svg\" height=\"24px\"viewBox=\"0 0 24 24\"\n",
              "     width=\"24px\">\n",
              "    <g>\n",
              "        <path d=\"M19 3H5c-1.1 0-2 .9-2 2v14c0 1.1.9 2 2 2h14c1.1 0 2-.9 2-2V5c0-1.1-.9-2-2-2zM9 17H7v-7h2v7zm4 0h-2V7h2v10zm4 0h-2v-4h2v4z\"/>\n",
              "    </g>\n",
              "</svg>\n",
              "  </button>\n",
              "\n",
              "<style>\n",
              "  .colab-df-quickchart {\n",
              "      --bg-color: #E8F0FE;\n",
              "      --fill-color: #1967D2;\n",
              "      --hover-bg-color: #E2EBFA;\n",
              "      --hover-fill-color: #174EA6;\n",
              "      --disabled-fill-color: #AAA;\n",
              "      --disabled-bg-color: #DDD;\n",
              "  }\n",
              "\n",
              "  [theme=dark] .colab-df-quickchart {\n",
              "      --bg-color: #3B4455;\n",
              "      --fill-color: #D2E3FC;\n",
              "      --hover-bg-color: #434B5C;\n",
              "      --hover-fill-color: #FFFFFF;\n",
              "      --disabled-bg-color: #3B4455;\n",
              "      --disabled-fill-color: #666;\n",
              "  }\n",
              "\n",
              "  .colab-df-quickchart {\n",
              "    background-color: var(--bg-color);\n",
              "    border: none;\n",
              "    border-radius: 50%;\n",
              "    cursor: pointer;\n",
              "    display: none;\n",
              "    fill: var(--fill-color);\n",
              "    height: 32px;\n",
              "    padding: 0;\n",
              "    width: 32px;\n",
              "  }\n",
              "\n",
              "  .colab-df-quickchart:hover {\n",
              "    background-color: var(--hover-bg-color);\n",
              "    box-shadow: 0 1px 2px rgba(60, 64, 67, 0.3), 0 1px 3px 1px rgba(60, 64, 67, 0.15);\n",
              "    fill: var(--button-hover-fill-color);\n",
              "  }\n",
              "\n",
              "  .colab-df-quickchart-complete:disabled,\n",
              "  .colab-df-quickchart-complete:disabled:hover {\n",
              "    background-color: var(--disabled-bg-color);\n",
              "    fill: var(--disabled-fill-color);\n",
              "    box-shadow: none;\n",
              "  }\n",
              "\n",
              "  .colab-df-spinner {\n",
              "    border: 2px solid var(--fill-color);\n",
              "    border-color: transparent;\n",
              "    border-bottom-color: var(--fill-color);\n",
              "    animation:\n",
              "      spin 1s steps(1) infinite;\n",
              "  }\n",
              "\n",
              "  @keyframes spin {\n",
              "    0% {\n",
              "      border-color: transparent;\n",
              "      border-bottom-color: var(--fill-color);\n",
              "      border-left-color: var(--fill-color);\n",
              "    }\n",
              "    20% {\n",
              "      border-color: transparent;\n",
              "      border-left-color: var(--fill-color);\n",
              "      border-top-color: var(--fill-color);\n",
              "    }\n",
              "    30% {\n",
              "      border-color: transparent;\n",
              "      border-left-color: var(--fill-color);\n",
              "      border-top-color: var(--fill-color);\n",
              "      border-right-color: var(--fill-color);\n",
              "    }\n",
              "    40% {\n",
              "      border-color: transparent;\n",
              "      border-right-color: var(--fill-color);\n",
              "      border-top-color: var(--fill-color);\n",
              "    }\n",
              "    60% {\n",
              "      border-color: transparent;\n",
              "      border-right-color: var(--fill-color);\n",
              "    }\n",
              "    80% {\n",
              "      border-color: transparent;\n",
              "      border-right-color: var(--fill-color);\n",
              "      border-bottom-color: var(--fill-color);\n",
              "    }\n",
              "    90% {\n",
              "      border-color: transparent;\n",
              "      border-bottom-color: var(--fill-color);\n",
              "    }\n",
              "  }\n",
              "</style>\n",
              "\n",
              "  <script>\n",
              "    async function quickchart(key) {\n",
              "      const quickchartButtonEl =\n",
              "        document.querySelector('#' + key + ' button');\n",
              "      quickchartButtonEl.disabled = true;  // To prevent multiple clicks.\n",
              "      quickchartButtonEl.classList.add('colab-df-spinner');\n",
              "      try {\n",
              "        const charts = await google.colab.kernel.invokeFunction(\n",
              "            'suggestCharts', [key], {});\n",
              "      } catch (error) {\n",
              "        console.error('Error during call to suggestCharts:', error);\n",
              "      }\n",
              "      quickchartButtonEl.classList.remove('colab-df-spinner');\n",
              "      quickchartButtonEl.classList.add('colab-df-quickchart-complete');\n",
              "    }\n",
              "    (() => {\n",
              "      let quickchartButtonEl =\n",
              "        document.querySelector('#df-96a647c6-ec72-409a-aa28-13fa9c0b99d1 button');\n",
              "      quickchartButtonEl.style.display =\n",
              "        google.colab.kernel.accessAllowed ? 'block' : 'none';\n",
              "    })();\n",
              "  </script>\n",
              "</div>\n",
              "\n",
              "    </div>\n",
              "  </div>\n"
            ]
          },
          "metadata": {},
          "execution_count": 164
        }
      ]
    }
  ]
}